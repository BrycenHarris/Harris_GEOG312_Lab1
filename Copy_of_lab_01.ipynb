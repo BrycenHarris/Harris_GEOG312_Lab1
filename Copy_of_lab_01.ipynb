{
  "cells": [
    {
      "cell_type": "markdown",
      "metadata": {
        "id": "view-in-github",
        "colab_type": "text"
      },
      "source": [
        "<a href=\"https://colab.research.google.com/github/BrycenHarris/Harris_GEOG312_Lab1/blob/main/Copy_of_lab_01.ipynb\" target=\"_parent\"><img src=\"https://colab.research.google.com/assets/colab-badge.svg\" alt=\"Open In Colab\"/></a>"
      ]
    },
    {
      "cell_type": "markdown",
      "metadata": {
        "id": "lZl0oNZuF1WA"
      },
      "source": [
        "[![image](https://colab.research.google.com/assets/colab-badge.svg)](https://colab.research.google.com/github/giswqs/geog-312/blob/master/labs/lab_01.ipynb)\n",
        "[![image](https://binder.pangeo.io/badge_logo.svg)](https://gishub.org/geog312-pangeo)"
      ]
    },
    {
      "cell_type": "code",
      "execution_count": null,
      "metadata": {
        "id": "xX6AL3tXF1WC",
        "outputId": "a16535ec-a5e9-4e1b-f4d9-1973d674f19f",
        "colab": {
          "base_uri": "https://localhost:8080/"
        }
      },
      "outputs": [
        {
          "output_type": "stream",
          "name": "stdout",
          "text": [
            "Submitted time: 2023-09-07 19:54:43.763138\n"
          ]
        }
      ],
      "source": [
        "from datetime import datetime\n",
        "\n",
        "now = datetime.now()\n",
        "print(f\"Submitted time: {now}\")"
      ]
    },
    {
      "cell_type": "markdown",
      "metadata": {
        "id": "V_a1OJaCF1WD"
      },
      "source": [
        "## Question 1\n",
        "\n",
        "**Simple Message:** Assign a message to a variable, and then print that message."
      ]
    },
    {
      "cell_type": "code",
      "execution_count": null,
      "metadata": {
        "id": "3p_EH7mNF1WD",
        "outputId": "7c6bc8e5-6505-4605-eaae-c30dea046447",
        "colab": {
          "base_uri": "https://localhost:8080/"
        }
      },
      "outputs": [
        {
          "output_type": "stream",
          "name": "stdout",
          "text": [
            "Brycen Harris\n"
          ]
        }
      ],
      "source": [
        "name = \"Brycen Harris\"\n",
        "print(name)"
      ]
    },
    {
      "cell_type": "markdown",
      "metadata": {
        "id": "VqzFV42vF1WD"
      },
      "source": [
        "## Question 2\n",
        "**Simple Messages:** Assign a message to a variable, and print that message. Then change the value of the variable to a new message, and print the new message."
      ]
    },
    {
      "cell_type": "code",
      "execution_count": null,
      "metadata": {
        "id": "7EmRwSIvF1WD",
        "outputId": "665c61cf-2633-4ef7-c98a-0139e693849e",
        "colab": {
          "base_uri": "https://localhost:8080/"
        }
      },
      "outputs": [
        {
          "output_type": "stream",
          "name": "stdout",
          "text": [
            "Lets get started\n",
            "This is where the fun begins\n"
          ]
        }
      ],
      "source": [
        "message = \"Lets get started\"\n",
        "\n",
        "print(message)\n",
        "\n",
        "message = \"This is where the fun begins\"\n",
        "\n",
        "print(message)"
      ]
    },
    {
      "cell_type": "markdown",
      "metadata": {
        "id": "FfBkhr1RF1WD"
      },
      "source": [
        "## Question 3\n",
        "**Personal Message:** Use a variable to represent a person’s name, and print a message to that person. Your message should be simple, such as, “Hello Eric, would you like to learn some Python today?”"
      ]
    },
    {
      "cell_type": "code",
      "execution_count": null,
      "metadata": {
        "id": "oNDrkUSoF1WE",
        "outputId": "120da30a-6355-4887-d1ec-8a55d35fb8b9",
        "colab": {
          "base_uri": "https://localhost:8080/"
        }
      },
      "outputs": [
        {
          "output_type": "stream",
          "name": "stdout",
          "text": [
            "Hello Brycen Harris, Lets go to the range today.\n"
          ]
        }
      ],
      "source": [
        "name = \"Brycen Harris\"\n",
        "\n",
        "print(f\"Hello {name}, Lets go to the range today.\")"
      ]
    },
    {
      "cell_type": "markdown",
      "metadata": {
        "id": "HwDGIy-zF1WE"
      },
      "source": [
        "## Question 4\n",
        "**Name Cases:** Use a variable to represent a person’s name, and then print that person’s name in lowercase, uppercase, and title case."
      ]
    },
    {
      "cell_type": "code",
      "execution_count": null,
      "metadata": {
        "id": "tMBKcWoyF1WE",
        "outputId": "103c39fa-bc9b-4c29-d480-eda8cf697d98",
        "colab": {
          "base_uri": "https://localhost:8080/"
        }
      },
      "outputs": [
        {
          "output_type": "stream",
          "name": "stdout",
          "text": [
            "BRYCEN HARRIS\n",
            "brycen harris\n",
            "Brycen Harris\n"
          ]
        }
      ],
      "source": [
        "name = \"Brycen Harris\"\n",
        "print(name.upper())\n",
        "print(name.lower())\n",
        "print(name.title())"
      ]
    },
    {
      "cell_type": "markdown",
      "metadata": {
        "id": "wGShjIGGF1WE"
      },
      "source": [
        "## Question 5\n",
        "**Famous Quote:** Find a quote from a famous person you admire. Print the quote and the name of its author. Your output should look something like the following, including the quotation marks:\n",
        "```\n",
        "Albert Einstein once said, “A person who never made a mistake never tried anything new.”\n",
        "```"
      ]
    },
    {
      "cell_type": "code",
      "execution_count": null,
      "metadata": {
        "colab": {
          "base_uri": "https://localhost:8080/"
        },
        "id": "W1YdmY_QF1WF",
        "outputId": "0db8c8f0-1d57-477c-e876-8198cc9778d5"
      },
      "outputs": [
        {
          "output_type": "stream",
          "name": "stdout",
          "text": [
            "Jesus Christ once said, \"Whoever believes and is baptized will be saved, but whoever does not believe will be condemned.\"\n"
          ]
        }
      ],
      "source": [
        "author = \"Jesus Christ\"\n",
        "quote = \"Whoever believes and is baptized will be saved, but whoever does not believe will be condemned.\"\n",
        "\n",
        "print(f'{author} once said, \"{quote}\"')"
      ]
    },
    {
      "cell_type": "markdown",
      "metadata": {
        "id": "gCt4montF1WF"
      },
      "source": [
        "## Question 6\n",
        "**Famous Quote 2:** Repeat Exercise 2-5, but this time, represent the famous person’s name using a variable called famous_person. Then compose your message and represent it with a new variable called message. Print your\n",
        "message."
      ]
    },
    {
      "cell_type": "code",
      "execution_count": null,
      "metadata": {
        "id": "KArFOQxuF1WF"
      },
      "outputs": [],
      "source": []
    },
    {
      "cell_type": "code",
      "execution_count": null,
      "metadata": {
        "outputId": "5cf576b4-2a99-4049-d570-d270bf2979f6",
        "colab": {
          "base_uri": "https://localhost:8080/"
        },
        "id": "B_aiJF_CQU64"
      },
      "outputs": [
        {
          "output_type": "stream",
          "name": "stdout",
          "text": [
            "Jesus Christ once said, \"Whoever believes and is baptized will be saved, but whoever does not believe will be condemned.\"\n"
          ]
        }
      ],
      "source": [
        "famous_person = \"jesus christ\"\n",
        "message = \"Whoever believes and is baptized will be saved, but whoever does not believe will be condemned.\"\n",
        "\n",
        "print(f'{(famous_person.title())} once said, \"{message}\"')"
      ]
    },
    {
      "cell_type": "markdown",
      "metadata": {
        "id": "oP6866-AF1WF"
      },
      "source": [
        "## Question 7\n",
        "**Stripping Names:** Use a variable to represent a person’s name, and include some whitespace characters at the beginning and end of the name. Make sure you use each character combination, \"\\t\" and \"\\n\", at least once.\n",
        "Print the name once, so the whitespace around the name is displayed. Then print the name using each of the three stripping functions, lstrip(), rstrip(), and strip()."
      ]
    },
    {
      "cell_type": "code",
      "execution_count": null,
      "metadata": {
        "colab": {
          "base_uri": "https://localhost:8080/"
        },
        "id": "D16LcTDOF1WF",
        "outputId": "4b2f2e70-57c6-41d8-feed-a1f74ad657b4"
      },
      "outputs": [
        {
          "output_type": "stream",
          "name": "stdout",
          "text": [
            " Billy \n",
            "\tBilly\n",
            "Billy\n",
            " Billy\n",
            "Billy \n",
            "Billy\n"
          ]
        }
      ],
      "source": [
        "Name = \"Billy\"\n",
        "\n",
        "print(name)\n",
        "\n",
        "print(\"\\tBilly\\nBilly\")\n",
        "\n",
        "name = \" Billy \"\n",
        "print(name.rstrip())\n",
        "print(name.lstrip())\n",
        "print(name.strip())"
      ]
    },
    {
      "cell_type": "markdown",
      "metadata": {
        "id": "SdbFhemYF1WF"
      },
      "source": [
        "## Question 8\n",
        "**Number Eight:** Write addition, subtraction, multiplication, and division operations that each result in the number 8. Be sure to enclose your operations in print() calls to see the results. You should create four lines that look like this:\n",
        "\n",
        "```\n",
        "print(5 + 3)\n",
        "```\n",
        "Your output should simply be four lines with the number 8 appearing once on each line."
      ]
    },
    {
      "cell_type": "code",
      "execution_count": null,
      "metadata": {
        "id": "riyl7jrdF1WF",
        "outputId": "98ee1072-6cb5-4675-d0ed-55f9f8df85d5",
        "colab": {
          "base_uri": "https://localhost:8080/"
        }
      },
      "outputs": [
        {
          "output_type": "stream",
          "name": "stdout",
          "text": [
            "8\n",
            "8\n",
            "8\n",
            "8.0\n"
          ]
        }
      ],
      "source": [
        "print(4 + 4)\n",
        "print(12 - 4)\n",
        "print(2 * 4)\n",
        "print(16 / 2)"
      ]
    },
    {
      "cell_type": "markdown",
      "metadata": {
        "id": "LPhxR1wgF1WF"
      },
      "source": [
        "## Question 9\n",
        "**Favorite Number:**  Use a variable to represent your favorite number. Then, using that variable, create a message that reveals your favorite number. Print that message."
      ]
    },
    {
      "cell_type": "code",
      "execution_count": null,
      "metadata": {
        "id": "H9qCCQPGF1WG",
        "outputId": "7446dd1c-4368-4b0d-d534-5df158c4c0e6",
        "colab": {
          "base_uri": "https://localhost:8080/"
        }
      },
      "outputs": [
        {
          "output_type": "stream",
          "name": "stdout",
          "text": [
            "My favorite number is 8.\n"
          ]
        }
      ],
      "source": [
        "favorite_number = 8\n",
        "\n",
        "message = f\"My favorite number is {favorite_number}.\"\n",
        "\n",
        "print(message)"
      ]
    },
    {
      "cell_type": "markdown",
      "metadata": {
        "id": "EgsQ1DxaF1WG"
      },
      "source": [
        "## Question 10\n",
        "**Adding Comments:** Choose two of the programs you’ve written, and add at least one comment to each. If you don’t have anything specific to write because your programs are too simple at this point, just add your name and\n",
        "the current date at the top of each program file. Then write one sentence describing what the program does."
      ]
    },
    {
      "cell_type": "code",
      "execution_count": null,
      "metadata": {
        "id": "7pVIsemgF1WG",
        "outputId": "12f8edb4-4d85-4383-9644-90765070993d",
        "colab": {
          "base_uri": "https://localhost:8080/"
        }
      },
      "outputs": [
        {
          "output_type": "stream",
          "name": "stdout",
          "text": [
            "My favorite number is 8.\n",
            "8\n",
            "8\n",
            "8\n",
            "8.0\n"
          ]
        }
      ],
      "source": [
        "# Program by Brycen Harris\n",
        "# Date: 09-07-2023\n",
        "\n",
        "# Defines a variable of my favorite number.\n",
        "favorite_number = 8\n",
        "\n",
        "# Creates a message to reveal my favorite number.\n",
        "message = f\"My favorite number is {favorite_number}.\"\n",
        "\n",
        "# Prints the message.\n",
        "print(message)\n",
        "\n",
        "#This program reveals my favorite number, which is 8, by printing a message.\n",
        "\n",
        "# Program by Brycen Harris\n",
        "# Date: 09-07-2023\n",
        "\n",
        "# Performs addition, subtraction, multiplication, and division operations.\n",
        "print(4 + 4)  # Addition: 4 + 4 = 8\n",
        "print(12 - 4)  # Subtraction: 12 - 4 = 8\n",
        "print(2 * 4)  # Multiplication: 2 * 4 = 8\n",
        "print(16 / 2)  # Division: 16 / 2 = 8\n",
        "\n",
        "#This program demonstrates addition, subtraction, multiplication, and division operations that each result in the number 8."
      ]
    }
  ],
  "metadata": {
    "hide_input": false,
    "kernelspec": {
      "display_name": "Python 3 (ipykernel)",
      "language": "python",
      "name": "python3"
    },
    "language_info": {
      "codemirror_mode": {
        "name": "ipython",
        "version": 3
      },
      "file_extension": ".py",
      "mimetype": "text/x-python",
      "name": "python",
      "nbconvert_exporter": "python",
      "pygments_lexer": "ipython3",
      "version": "3.8.10"
    },
    "toc": {
      "base_numbering": 1,
      "nav_menu": {},
      "number_sections": true,
      "sideBar": true,
      "skip_h1_title": false,
      "title_cell": "Table of Contents",
      "title_sidebar": "Contents",
      "toc_cell": false,
      "toc_position": {},
      "toc_section_display": true,
      "toc_window_display": false
    },
    "varInspector": {
      "cols": {
        "lenName": 16,
        "lenType": 16,
        "lenVar": 40
      },
      "kernels_config": {
        "python": {
          "delete_cmd_postfix": "",
          "delete_cmd_prefix": "del ",
          "library": "var_list.py",
          "varRefreshCmd": "print(var_dic_list())"
        },
        "r": {
          "delete_cmd_postfix": ") ",
          "delete_cmd_prefix": "rm(",
          "library": "var_list.r",
          "varRefreshCmd": "cat(var_dic_list()) "
        }
      },
      "types_to_exclude": [
        "module",
        "function",
        "builtin_function_or_method",
        "instance",
        "_Feature"
      ],
      "window_display": false
    },
    "colab": {
      "provenance": [],
      "include_colab_link": true
    }
  },
  "nbformat": 4,
  "nbformat_minor": 0
}