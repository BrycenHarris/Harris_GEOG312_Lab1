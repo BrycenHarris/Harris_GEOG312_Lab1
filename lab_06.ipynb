{
  "cells": [
    {
      "cell_type": "markdown",
      "metadata": {
        "id": "view-in-github",
        "colab_type": "text"
      },
      "source": [
        "<a href=\"https://colab.research.google.com/github/BrycenHarris/Harris_GEOG312_Labs/blob/main/lab_06.ipynb\" target=\"_parent\"><img src=\"https://colab.research.google.com/assets/colab-badge.svg\" alt=\"Open In Colab\"/></a>"
      ]
    },
    {
      "cell_type": "markdown",
      "metadata": {
        "id": "16wqWeoPCbfn"
      },
      "source": [
        "[![image](https://colab.research.google.com/assets/colab-badge.svg)](https://colab.research.google.com/github/giswqs/geog-312/blob/master/labs/lab_06.ipynb)\n",
        "[![image](https://binder.pangeo.io/badge_logo.svg)](https://gishub.org/geog312-pangeo)\n",
        "\n",
        "**Firstname Lastname** Brycen Harris"
      ]
    },
    {
      "cell_type": "code",
      "execution_count": null,
      "metadata": {
        "id": "rQRceFKRCbfp"
      },
      "outputs": [],
      "source": [
        "from datetime import datetime\n",
        "\n",
        "now = datetime.now()\n",
        "print(f\"Submitted time: {now}\")"
      ]
    },
    {
      "cell_type": "markdown",
      "metadata": {
        "id": "lFlmDqvWCbfq"
      },
      "source": [
        "## Question 1\n",
        "**Message:** Write a function called `display_message()` that prints one sentence telling everyone what you are learning about in this chapter. Call the function, and make sure the message displays correctly."
      ]
    },
    {
      "cell_type": "code",
      "execution_count": 8,
      "metadata": {
        "id": "RYcd7FrZCbfq",
        "colab": {
          "base_uri": "https://localhost:8080/"
        },
        "outputId": "38694cfc-85b5-4791-c43e-7c9e64aa8884"
      },
      "outputs": [
        {
          "output_type": "stream",
          "name": "stdout",
          "text": [
            "In this lecture you’ll also learn ways to pass information to functions.\n"
          ]
        }
      ],
      "source": [
        "def display_message():\n",
        "    \"\"\"What are we learning\"\"\"\n",
        "    print(\"In this lecture you’ll also learn ways to pass information to functions.\")\n",
        "\n",
        "# Call the function to display the message\n",
        "display_message()"
      ]
    },
    {
      "cell_type": "markdown",
      "metadata": {
        "id": "9UZv-65gCbfq"
      },
      "source": [
        "## Question 2\n",
        "**Favorite Book:** Write a function called `favorite_book()` that accepts one parameter, title. The function should print a message, such as `One of my favorite books is Alice in Wonderland`. Call the function, making sure to include a book title as an argument in the function call."
      ]
    },
    {
      "cell_type": "code",
      "execution_count": 59,
      "metadata": {
        "id": "YDjp7Pk5Cbfq",
        "colab": {
          "base_uri": "https://localhost:8080/"
        },
        "outputId": "620070cd-d2bb-4c4a-f3c6-866c688f9857"
      },
      "outputs": [
        {
          "output_type": "stream",
          "name": "stdout",
          "text": [
            "One of my favorite books is Alice In Wonderland!\n"
          ]
        }
      ],
      "source": [
        "def favorite_book(book):\n",
        "    \"\"\"Favorite book.\"\"\"\n",
        "    print(f\"One of my favorite books is {book.title()}!\")\n",
        "\n",
        "# Call the function with your favorite book title as an argument\n",
        "favorite_book(\"Alice in Wonderland\")"
      ]
    },
    {
      "cell_type": "markdown",
      "metadata": {
        "id": "I1LYrp1ECbfq"
      },
      "source": [
        "## Question 3\n",
        "**T-Shirt:** Write a function called `make_shirt()` that accepts a size and the text of a message that should be printed on the shirt. The function should print a sentence summarizing the size of the shirt and the message printed on it.\n",
        "\n",
        "Call the function once using positional arguments to make a shirt. Call the function a second time using keyword arguments."
      ]
    },
    {
      "cell_type": "code",
      "execution_count": 13,
      "metadata": {
        "id": "fsWzJf-XCbfr",
        "colab": {
          "base_uri": "https://localhost:8080/"
        },
        "outputId": "1b0d96a8-2fbc-40bc-936f-248b48c5c19e"
      },
      "outputs": [
        {
          "output_type": "stream",
          "name": "stdout",
          "text": [
            "\n",
            "The shirt size will be Medium.\n",
            "The message will be Hello, World!.\n"
          ]
        }
      ],
      "source": [
        "def make_shirt(size, message):\n",
        "    \"\"\"Print a summary of the shirt's size and message.\"\"\"\n",
        "    print(f\"\\nThe shirt size will be {size}.\")\n",
        "    print(f\"The message will be {message.title()}.\")\n",
        "\n",
        "# Call the function using positional arguments\n",
        "make_shirt(\"Medium\", \"Hello, World!\")"
      ]
    },
    {
      "cell_type": "markdown",
      "metadata": {
        "id": "gYuI0-SDCbfr"
      },
      "source": [
        "## Question 4\n",
        "**Large Shirts:** Modify the `make_shirt()` function so that shirts are large by default with a message that reads *I love Python*. Make a large shirt and a medium shirt with the default message, and a shirt of any size with a different message."
      ]
    },
    {
      "cell_type": "code",
      "execution_count": 58,
      "metadata": {
        "id": "lU1QSyTWCbfr",
        "colab": {
          "base_uri": "https://localhost:8080/"
        },
        "outputId": "3c8443ce-f02f-4c8e-9db7-c2316dc2332c"
      },
      "outputs": [
        {
          "output_type": "stream",
          "name": "stdout",
          "text": [
            "\n",
            "The shirt size will be Large.\n",
            "The message will be I Love Python!\n",
            "\n",
            "The shirt size will be Medium.\n",
            "The message will be I Love Python!\n",
            "\n",
            "The shirt size will be Small.\n",
            "The message will be Keep Coding!!\n"
          ]
        }
      ],
      "source": [
        "def make_shirt(size=\"Large\", message=\"I love Python\"):\n",
        "    \"\"\"Print a summary of the shirt's size and message.\"\"\"\n",
        "    print(f\"\\nThe shirt size will be {size}.\")\n",
        "    print(f\"The message will be {message.title()}!\")\n",
        "\n",
        "# Create a large shirt with the default message\n",
        "make_shirt()\n",
        "\n",
        "# Create a medium shirt with the default message\n",
        "make_shirt(size=\"Medium\")\n",
        "\n",
        "# Create a custom-sized shirt with a different message\n",
        "make_shirt(size=\"Small\", message=\"Keep Coding!\")"
      ]
    },
    {
      "cell_type": "markdown",
      "metadata": {
        "id": "nbhKBf_oCbfr"
      },
      "source": [
        "## Question 5\n",
        "**Cities:** Write a function called `describe_city()` that accepts the name of a city and its country. The function should print a simple sentence, such as `Reykjavik is in Iceland`. Give the parameter for the country a default value. Call your function for three different cities, at least one of which is not in the default country."
      ]
    },
    {
      "cell_type": "code",
      "execution_count": 57,
      "metadata": {
        "id": "3JHiBmY2Cbfr",
        "colab": {
          "base_uri": "https://localhost:8080/"
        },
        "outputId": "ec6f61e0-2a87-45fc-d0ee-c3df61ae0f86"
      },
      "outputs": [
        {
          "output_type": "stream",
          "name": "stdout",
          "text": [
            "Reykjavik is in Iceland.\n",
            "New York is in USA.\n",
            "Paris is in France.\n"
          ]
        }
      ],
      "source": [
        "def describe_city(city, country=\"USA\"):\n",
        "    \"\"\"Print a simple sentence about a city and its country.\"\"\"\n",
        "    print(f\"{city} is in {country}.\")\n",
        "\n",
        "# Call the function for three different cities\n",
        "describe_city(\"Reykjavik\", \"Iceland\")\n",
        "describe_city(\"New York\")\n",
        "describe_city(\"Paris\", \"France\")"
      ]
    },
    {
      "cell_type": "markdown",
      "metadata": {
        "id": "3XXYRUcbCbfs"
      },
      "source": [
        "## Question 6\n",
        "**City Names:** Write a function called `city_country()` that takes in the name of a city and its country. The function should return a string formatted like this:\n",
        "```\n",
        "Santiago, Chile\n",
        "```\n",
        "Call your function with at least three city-country pairs, and print the values that are returned."
      ]
    },
    {
      "cell_type": "code",
      "execution_count": 33,
      "metadata": {
        "id": "XKvhD8hnCbfs",
        "colab": {
          "base_uri": "https://localhost:8080/"
        },
        "outputId": "3e863234-2d5e-4690-bd51-b46d271e9b61"
      },
      "outputs": [
        {
          "output_type": "stream",
          "name": "stdout",
          "text": [
            "Santiago, Chile\n",
            "Paris, France\n",
            "Tokyo, Japan\n"
          ]
        }
      ],
      "source": [
        "def city_country(city, country):\n",
        "    \"\"\"Format a city and its country as 'City, Country'.\"\"\"\n",
        "    pairs = f\"{city}, {country}\"\n",
        "    return pairs.title()\n",
        "\n",
        "# Call the function with three city-country pairs and print the results\n",
        "location1 = city_country(\"Santiago\", \"Chile\")\n",
        "location2 = city_country(\"Paris\", \"France\")\n",
        "location3 = city_country(\"Tokyo\", \"Japan\")\n",
        "\n",
        "print(location1)\n",
        "print(location2)\n",
        "print(location3)"
      ]
    },
    {
      "cell_type": "markdown",
      "metadata": {
        "id": "0GQ9G4jfCbfs"
      },
      "source": [
        "## Question 7\n",
        "**Album:** Write a function called `make_album()` that builds a dictionary describing a music album. The function should take in an artist name and an album title, and it should return a dictionary containing these two pieces of information. Use the function to make three dictionaries representing different albums. Print each return value to show that the dictionaries are storing the album information correctly.\n",
        "\n",
        "Use None to add an optional parameter to make_album() that allows you to store the number of songs on an album. If the calling line includes a value for the number of songs, add that value to the album’s dictionary. Make at least one new function call that includes the number of songs on an album."
      ]
    },
    {
      "cell_type": "code",
      "execution_count": 56,
      "metadata": {
        "id": "tfoE1olcCbfs",
        "colab": {
          "base_uri": "https://localhost:8080/"
        },
        "outputId": "8edb2789-3428-48b4-e979-9d152af3db8a"
      },
      "outputs": [
        {
          "output_type": "stream",
          "name": "stdout",
          "text": [
            "{'artist': 'Imagine Dragons', 'title': 'Whatever It Takes', 'num_songs': '27'}\n",
            "{'artist': 'Ed Sheeran', 'title': 'Divide', 'num_songs': 65}\n",
            "{'artist': 'Taylor Swift', 'title': 'Red', 'num_songs': 59}\n"
          ]
        }
      ],
      "source": [
        "def make_album(artist, title, songs=None):\n",
        "    \"\"\"Build a dictionary describing a music album.\"\"\"\n",
        "    album_info = {\"artist\": artist, \"title\": title}\n",
        "    if songs:\n",
        "        album_info[\"num_songs\"] = songs\n",
        "    return album_info\n",
        "\n",
        "# Create three dictionaries representing different albums\n",
        "album1 = make_album(\"Imagine Dragons\", \"Whatever It Takes\", \"27\")\n",
        "album2 = make_album(\"Ed Sheeran\", \"Divide\", 65)\n",
        "album3 = make_album(\"Taylor Swift\", \"Red\", 59)\n",
        "\n",
        "# Print the album information for each dictionary\n",
        "print(album1)\n",
        "print(album2)\n",
        "print(album3)"
      ]
    },
    {
      "cell_type": "markdown",
      "metadata": {
        "id": "kFUA_g46Cbfs"
      },
      "source": [
        "## Question 8\n",
        "**User Albums:** Start with your program from Question 7. Write a `while` loop that allows users to enter an album’s artist and title. Once you have that information, call `make_album()` with the user’s input and print the dictionary that’s created. Be sure to include a quit value in the `while` loop."
      ]
    },
    {
      "cell_type": "code",
      "execution_count": 55,
      "metadata": {
        "id": "5-gUA7QMCbfs",
        "colab": {
          "base_uri": "https://localhost:8080/"
        },
        "outputId": "568de595-641e-4e0e-8e67-ad74ec4b5f68"
      },
      "outputs": [
        {
          "name": "stdout",
          "output_type": "stream",
          "text": [
            "\n",
            "Enter album information or type 'quit' to exit.\n",
            "Enter the artist: ACDC\n",
            "Enter the title: Thunderstruck\n",
            "Enter the number of songs (optional, press Enter to skip): \n",
            "{'artist': 'ACDC', 'title': 'Thunderstruck'}\n",
            "\n",
            "Enter album information or type 'quit' to exit.\n",
            "Enter the artist: quit\n"
          ]
        }
      ],
      "source": [
        "def make_album(artist, title, songs=None):\n",
        "    \"\"\"Build a dictionary describing a music album.\"\"\"\n",
        "    album_info = {\"artist\": artist, \"title\": title}\n",
        "    if songs:\n",
        "        album_info[\"num_songs\"] = songs\n",
        "    return album_info\n",
        "\n",
        "while True:\n",
        "    print(\"\\nEnter album information or type 'quit' to exit.\")\n",
        "\n",
        "    artist = input(\"Enter the artist: \")\n",
        "    if artist == 'quit':\n",
        "        break\n",
        "\n",
        "    title = input(\"Enter the title: \")\n",
        "    if title == 'quit':\n",
        "        break\n",
        "\n",
        "    num_songs = input(\"Enter the number of songs (optional, press Enter to skip): \")\n",
        "    if num_songs == 'quit':\n",
        "        break\n",
        "\n",
        "    album = make_album(artist, title, num_songs)\n",
        "    print(album)"
      ]
    },
    {
      "cell_type": "markdown",
      "metadata": {
        "id": "B4VdK3BMCbfs"
      },
      "source": [
        "## Question 9\n",
        "**Messages:** Make a list containing a series of short text messages. Pass the list to a function called `show_messages()`, which prints each text message."
      ]
    },
    {
      "cell_type": "code",
      "execution_count": 54,
      "metadata": {
        "id": "GRms4h-cCbfs",
        "colab": {
          "base_uri": "https://localhost:8080/"
        },
        "outputId": "f399e6a7-8258-406e-9f6f-a99f89ac38fd"
      },
      "outputs": [
        {
          "output_type": "stream",
          "name": "stdout",
          "text": [
            "Hello, how are you?\n",
            "Remember to buy groceries.\n",
            "Meeting at 2 PM today.\n",
            "Don't forget your keys.\n"
          ]
        }
      ],
      "source": [
        "def show_messages(messages):\n",
        "    \"\"\"Print each text message from the list.\"\"\"\n",
        "    for message in messages:\n",
        "        print(message)\n",
        "\n",
        "# Create a list of text messages\n",
        "messages = [\n",
        "    \"Hello, how are you?\",\n",
        "    \"Remember to buy groceries.\",\n",
        "    \"Meeting at 2 PM today.\",\n",
        "    \"Don't forget your keys.\",\n",
        "]\n",
        "\n",
        "# Call the function to show the messages\n",
        "show_messages(messages)"
      ]
    },
    {
      "cell_type": "markdown",
      "metadata": {
        "id": "S54kzz1RCbfs"
      },
      "source": [
        "## Question 10\n",
        "**Sending Messages:** Start with a copy of your program from Question 9. Write a function called `send_messages()` that prints each text message and moves each message to a new list called `sent_messages` as it’s printed. After calling the function, print both of your lists to make sure the messages were moved correctly."
      ]
    },
    {
      "cell_type": "code",
      "execution_count": 53,
      "metadata": {
        "id": "shHYt_vOCbft",
        "colab": {
          "base_uri": "https://localhost:8080/"
        },
        "outputId": "7d3f0b63-ef82-48b9-ee8d-c8e36ddacd41"
      },
      "outputs": [
        {
          "output_type": "stream",
          "name": "stdout",
          "text": [
            "Hello, how are you?\n",
            "Remember to buy groceries.\n",
            "Meeting at 2 PM today.\n",
            "Don't forget your keys.\n",
            "\n",
            "Original Messages:\n",
            "Hello, how are you?\n",
            "Remember to buy groceries.\n",
            "Meeting at 2 PM today.\n",
            "Don't forget your keys.\n",
            "\n",
            "Sent Messages:\n",
            "Hello, how are you?\n",
            "Remember to buy groceries.\n",
            "Meeting at 2 PM today.\n",
            "Don't forget your keys.\n"
          ]
        }
      ],
      "source": [
        "def send_messages(messages, sent_messages):\n",
        "    \"\"\"Print each text message, move it to sent_messages list, and return sent_messages.\"\"\"\n",
        "    for message in messages:\n",
        "        print(message)\n",
        "        sent_messages.append(message)\n",
        "\n",
        "# Create a list of text messages\n",
        "messages = [\n",
        "    \"Hello, how are you?\",\n",
        "    \"Remember to buy groceries.\",\n",
        "    \"Meeting at 2 PM today.\",\n",
        "    \"Don't forget your keys.\",\n",
        "]\n",
        "\n",
        "# Create an empty list to store sent messages\n",
        "sent_messages = []\n",
        "\n",
        "# Call the send_messages() function to print and move messages\n",
        "send_messages(messages, sent_messages)\n",
        "\n",
        "# Print both lists to confirm the messages were moved correctly\n",
        "print(\"\\nOriginal Messages:\")\n",
        "for message in messages:\n",
        "    print(message)\n",
        "\n",
        "print(\"\\nSent Messages:\")\n",
        "for sent_message in sent_messages:\n",
        "    print(sent_message)"
      ]
    },
    {
      "cell_type": "markdown",
      "metadata": {
        "id": "Bnl9L4nVCbft"
      },
      "source": [
        "## Question 11\n",
        "**Archived Messages:** Start with your work from Question 10. Call the function `send_messages()` with a copy of the list of messages. After calling the function, print both of your lists to show that the original list has retained its messages."
      ]
    },
    {
      "cell_type": "code",
      "execution_count": 52,
      "metadata": {
        "id": "kSs-4c2aCbft",
        "colab": {
          "base_uri": "https://localhost:8080/"
        },
        "outputId": "a96de722-c917-4858-9d4b-4dfc7d8ae240"
      },
      "outputs": [
        {
          "output_type": "stream",
          "name": "stdout",
          "text": [
            "Hello, how are you?\n",
            "Remember to buy groceries.\n",
            "Meeting at 2 PM today.\n",
            "Don't forget your keys.\n",
            "\n",
            "Original Messages:\n",
            "Hello, how are you?\n",
            "Remember to buy groceries.\n",
            "Meeting at 2 PM today.\n",
            "Don't forget your keys.\n",
            "\n",
            "Sent Messages:\n",
            "Hello, how are you?\n",
            "Remember to buy groceries.\n",
            "Meeting at 2 PM today.\n",
            "Don't forget your keys.\n"
          ]
        }
      ],
      "source": [
        "def send_messages(messages, sent_messages):\n",
        "    \"\"\"Print each text message, move it to sent_messages list, and return sent_messages.\"\"\"\n",
        "    for message in messages:\n",
        "        print(message)\n",
        "        sent_messages.append(message)\n",
        "\n",
        "# Create a list of text messages\n",
        "messages = [\n",
        "    \"Hello, how are you?\",\n",
        "    \"Remember to buy groceries.\",\n",
        "    \"Meeting at 2 PM today.\",\n",
        "    \"Don't forget your keys.\",\n",
        "]\n",
        "\n",
        "# Create an empty list to store sent messages\n",
        "sent_messages = []\n",
        "\n",
        "# Call the send_messages() function with a copy of the messages list\n",
        "send_messages(messages[:], sent_messages)\n",
        "\n",
        "# Print both lists to show that the original list retains its messages\n",
        "print(\"\\nOriginal Messages:\")\n",
        "for message in messages:\n",
        "    print(message)\n",
        "\n",
        "print(\"\\nSent Messages:\")\n",
        "for sent_message in sent_messages:\n",
        "    print(sent_message)"
      ]
    },
    {
      "cell_type": "markdown",
      "metadata": {
        "id": "x2lpule1Cbft"
      },
      "source": [
        "## Question 12\n",
        "**Sandwiches:** Write a function that accepts a list of items a person wants on a sandwich. The function should have one parameter that collects as many items as the function call provides, and it should print a summary of the sandwich that’s being ordered. Call the function three times, using a different number of arguments each time."
      ]
    },
    {
      "cell_type": "code",
      "execution_count": 51,
      "metadata": {
        "id": "n6R-nAKnCbft",
        "colab": {
          "base_uri": "https://localhost:8080/"
        },
        "outputId": "fcaa458b-0bac-4fc7-a868-d45d38fd24a5"
      },
      "outputs": [
        {
          "output_type": "stream",
          "name": "stdout",
          "text": [
            "You have ordered a sandwich with the following items:\n",
            "- Ham\n",
            "- Cheese\n",
            "- Lettuce\n",
            "You have ordered a sandwich with the following items:\n",
            "- Turkey\n",
            "- Swiss Cheese\n",
            "You have ordered a sandwich with the following items:\n"
          ]
        }
      ],
      "source": [
        "def make_sandwich(*items):\n",
        "    \"\"\"Print a summary of the sandwich being ordered.\"\"\"\n",
        "    print(\"You have ordered a sandwich with the following items:\")\n",
        "    for item in items:\n",
        "        print(f\"- {item}\")\n",
        "\n",
        "# Call the function with different numbers of arguments\n",
        "make_sandwich(\"Ham\", \"Cheese\", \"Lettuce\")\n",
        "make_sandwich(\"Turkey\", \"Swiss Cheese\")\n",
        "make_sandwich()"
      ]
    },
    {
      "cell_type": "markdown",
      "metadata": {
        "id": "_EqGaaEECbft"
      },
      "source": [
        "## Question 13\n",
        "**Cars:** Write a function that stores information about a car in a dictionary. The function should always receive a manufacturer and a model name. It should then accept an arbitrary number of keyword arguments. Call the function with the required information and two other name-value pairs, such as a color or an optional feature. Your function should work for a call like this one:\n",
        "```\n",
        "car = make_car('subaru', 'outback', color='blue', tow_package=True)\n",
        "```\n",
        "Print the dictionary that’s returned to make sure all the information was stored correctly."
      ]
    },
    {
      "cell_type": "code",
      "execution_count": 50,
      "metadata": {
        "id": "pGfMHh4oCbft",
        "colab": {
          "base_uri": "https://localhost:8080/"
        },
        "outputId": "9d272dac-1537-49b0-8b27-ad0331a0c313"
      },
      "outputs": [
        {
          "output_type": "stream",
          "name": "stdout",
          "text": [
            "{'manufacturer': 'subaru', 'model': 'outback', 'color': 'blue', 'tow_package': True}\n"
          ]
        }
      ],
      "source": [
        "def make_car(manufacturer, model, **info):\n",
        "    \"\"\"Store information about a car in a dictionary.\"\"\"\n",
        "    car_info = {\n",
        "        \"manufacturer\": manufacturer,\n",
        "        \"model\": model,\n",
        "    }\n",
        "    car_info.update(info)  # Add any additional information from keyword arguments\n",
        "    return car_info\n",
        "\n",
        "# Call the function with required information and additional name-value pairs\n",
        "car = make_car('subaru', 'outback', color='blue', tow_package=True)\n",
        "\n",
        "# Print the dictionary to verify that the information was stored correctly\n",
        "print(car)"
      ]
    },
    {
      "cell_type": "markdown",
      "metadata": {
        "id": "iSbnZ4a-Cbft"
      },
      "source": [
        "## Question 14\n",
        "**Restaurant:** Make a class called `Restaurant`. The `__init__()` method for `Restaurant` should store two attributes: a `restaurant_name` and a `cuisine_type`. Make a method called `describe_restaurant()` that prints these two pieces of information, and a method called `open_restaurant()` that prints a message indicating that the restaurant is open.\n",
        "\n",
        "Make an instance called `restaurant` from your class. Print the two attributes individually, and then call both methods."
      ]
    },
    {
      "cell_type": "code",
      "execution_count": 49,
      "metadata": {
        "id": "UqSlaaJrCbft",
        "colab": {
          "base_uri": "https://localhost:8080/"
        },
        "outputId": "8f90f226-5c6e-4607-cf9a-665b16c4cb93"
      },
      "outputs": [
        {
          "output_type": "stream",
          "name": "stdout",
          "text": [
            "Restaurant Name: The Olive Garden\n",
            "Cuisine Type: Italian\n",
            "Restaurant Name: The Olive Garden\n",
            "Cuisine Type: Italian\n",
            "The Olive Garden is now open!\n"
          ]
        }
      ],
      "source": [
        "class Restaurant:\n",
        "    def __init__(self, restaurant_name, cuisine_type):\n",
        "        self.restaurant_name = restaurant_name\n",
        "        self.cuisine_type = cuisine_type\n",
        "\n",
        "    def describe_restaurant(self):\n",
        "        \"\"\"Print the restaurant's name and cuisine type.\"\"\"\n",
        "        print(f\"Restaurant Name: {self.restaurant_name}\")\n",
        "        print(f\"Cuisine Type: {self.cuisine_type}\")\n",
        "\n",
        "    def open_restaurant(self):\n",
        "        \"\"\"Print a message indicating that the restaurant is open.\"\"\"\n",
        "        print(f\"{self.restaurant_name} is now open!\")\n",
        "\n",
        "# Create an instance of the Restaurant class\n",
        "restaurant = Restaurant(\"The Olive Garden\", \"Italian\")\n",
        "\n",
        "# Access and print the attributes individually\n",
        "print(\"Restaurant Name:\", restaurant.restaurant_name)\n",
        "print(\"Cuisine Type:\", restaurant.cuisine_type)\n",
        "\n",
        "# Call both methods\n",
        "restaurant.describe_restaurant()\n",
        "restaurant.open_restaurant()"
      ]
    },
    {
      "cell_type": "markdown",
      "metadata": {
        "id": "w6ITX9nQCbft"
      },
      "source": [
        "## Question 15\n",
        "**Three Restaurants:** Start with your class from Question 14. Create three different instances from the class, and call `describe_restaurant()` for each instance."
      ]
    },
    {
      "cell_type": "code",
      "execution_count": 62,
      "metadata": {
        "id": "HIfcxSC8Cbft",
        "colab": {
          "base_uri": "https://localhost:8080/"
        },
        "outputId": "addf1c1a-bd6c-4e01-9c6c-ed7fedeed541"
      },
      "outputs": [
        {
          "output_type": "stream",
          "name": "stdout",
          "text": [
            "Restaurant Name: The Olive Garden\n",
            "Cuisine Type: Italian\n",
            "Restaurant Name: Mama Mia's Pizzeria\n",
            "Cuisine Type: Pizza\n",
            "Restaurant Name: Sushi Palace\n",
            "Cuisine Type: Japanese\n"
          ]
        }
      ],
      "source": [
        "class Restaurant:\n",
        "    def __init__(self, restaurant_name, cuisine_type):\n",
        "        self.restaurant_name = restaurant_name\n",
        "        self.cuisine_type = cuisine_type\n",
        "\n",
        "    def describe_restaurant(self):\n",
        "        \"\"\"Print the restaurant's name and cuisine type.\"\"\"\n",
        "        print(f\"Restaurant Name: {self.restaurant_name}\")\n",
        "        print(f\"Cuisine Type: {self.cuisine_type}\")\n",
        "\n",
        "    def open_restaurant(self):\n",
        "        \"\"\"Print a message indicating that the restaurant is open.\"\"\"\n",
        "        print(f\"{self.restaurant_name} is now open!\")\n",
        "\n",
        "# Create three instances of the Restaurant class\n",
        "restaurant1 = Restaurant(\"The Olive Garden\", \"Italian\")\n",
        "restaurant2 = Restaurant(\"Mama Mia's Pizzeria\", \"Pizza\")\n",
        "restaurant3 = Restaurant(\"Sushi Palace\", \"Japanese\")\n",
        "\n",
        "# Call describe_restaurant() for each instance\n",
        "restaurant1.describe_restaurant()\n",
        "restaurant2.describe_restaurant()\n",
        "restaurant3.describe_restaurant()"
      ]
    },
    {
      "cell_type": "markdown",
      "metadata": {
        "id": "C_OP7m36Cbft"
      },
      "source": [
        "## Question 16\n",
        "**Users:** Make a class called `User`. Create two attributes called `first_name` and `last_name`, and then create several other attributes that are typically stored in a user profile. Make a method called `describe_user()` that prints a summary of the user’s information. Make another method called `greet_user()` that prints a personalized greeting to the user.\n",
        "\n",
        "Create several instances representing different users, and call both methods for each user."
      ]
    },
    {
      "cell_type": "code",
      "execution_count": 61,
      "metadata": {
        "id": "nTQWQxzBCbft",
        "colab": {
          "base_uri": "https://localhost:8080/"
        },
        "outputId": "2d4fe568-af98-4fb2-f25c-0983345e6e8d"
      },
      "outputs": [
        {
          "output_type": "stream",
          "name": "stdout",
          "text": [
            "User Information:\n",
            "First Name: John\n",
            "Last Name: Doe\n",
            "Age: 30\n",
            "Email: john.doe@email.com\n",
            "Location: New York\n",
            "Hello, John! Welcome back.\n",
            "User Information:\n",
            "First Name: Alice\n",
            "Last Name: Smith\n",
            "Age: 25\n",
            "Email: alice.smith@email.com\n",
            "Location: Los Angeles\n",
            "Hello, Alice! Welcome back.\n",
            "User Information:\n",
            "First Name: Bob\n",
            "Last Name: Johnson\n",
            "Age: 28\n",
            "Email: bob.johnson@email.com\n",
            "Location: Chicago\n",
            "Hello, Bob! Welcome back.\n"
          ]
        }
      ],
      "source": [
        "class User:\n",
        "    def __init__(self, first_name, last_name, age, email, location):\n",
        "        self.first_name = first_name\n",
        "        self.last_name = last_name\n",
        "        self.age = age\n",
        "        self.email = email\n",
        "        self.location = location\n",
        "\n",
        "    def describe_user(self):\n",
        "        \"\"\"Print a summary of the user's information.\"\"\"\n",
        "        print(\"User Information:\")\n",
        "        print(f\"First Name: {self.first_name}\")\n",
        "        print(f\"Last Name: {self.last_name}\")\n",
        "        print(f\"Age: {self.age}\")\n",
        "        print(f\"Email: {self.email}\")\n",
        "        print(f\"Location: {self.location}\")\n",
        "\n",
        "    def greet_user(self):\n",
        "        \"\"\"Print a personalized greeting to the user.\"\"\"\n",
        "        print(f\"Hello, {self.first_name}! Welcome back.\")\n",
        "\n",
        "# Create instances representing different users\n",
        "user1 = User(\"John\", \"Doe\", 30, \"john.doe@email.com\", \"New York\")\n",
        "user2 = User(\"Alice\", \"Smith\", 25, \"alice.smith@email.com\", \"Los Angeles\")\n",
        "user3 = User(\"Bob\", \"Johnson\", 28, \"bob.johnson@email.com\", \"Chicago\")\n",
        "\n",
        "# Call both methods for each user\n",
        "user1.describe_user()\n",
        "user1.greet_user()\n",
        "\n",
        "user2.describe_user()\n",
        "user2.greet_user()\n",
        "\n",
        "user3.describe_user()\n",
        "user3.greet_user()"
      ]
    },
    {
      "cell_type": "markdown",
      "metadata": {
        "id": "yhPsKBEjCbft"
      },
      "source": [
        "## Question 17\n",
        "**Number Served:** Start with your program from Question 14. Add an attribute called `number_served` with a default value of 0. Create an instance called `restaurant` from this class. Print the number of customers the restaurant has served, and then change this value and print it again.\n",
        "\n",
        "Add a method called `set_number_served()` that lets you set the number of customers that have been served. Call this method with a new number and print the value again.\n",
        "\n",
        "Add a method called `increment_number_served()` that lets you increment the number of customers who’ve been served.\n",
        "\n",
        "Call this method with any number you like that could represent how many customers were served in, say, a day of business."
      ]
    },
    {
      "cell_type": "code",
      "execution_count": 64,
      "metadata": {
        "id": "EU1vn72cCbft",
        "colab": {
          "base_uri": "https://localhost:8080/"
        },
        "outputId": "259a74bc-f5dc-41dc-be58-d5e6a9ab8bcf"
      },
      "outputs": [
        {
          "output_type": "stream",
          "name": "stdout",
          "text": [
            "Initial Number of Customers Served: 0\n",
            "Updated Number of Customers Served: 100\n",
            "Updated Number of Customers Served: 125\n"
          ]
        }
      ],
      "source": [
        "class Restaurant:\n",
        "    def __init__(self, restaurant_name, cuisine_type):\n",
        "        self.restaurant_name = restaurant_name\n",
        "        self.cuisine_type = cuisine_type\n",
        "        self.number_served = 0  # Default value\n",
        "\n",
        "    def describe_restaurant(self):\n",
        "        \"\"\"Print the restaurant's name and cuisine type.\"\"\"\n",
        "        print(f\"Restaurant Name: {self.restaurant_name}\")\n",
        "        print(f\"Cuisine Type: {self.cuisine_type}\")\n",
        "\n",
        "    def open_restaurant(self):\n",
        "        \"\"\"Print a message indicating that the restaurant is open.\"\"\"\n",
        "        print(f\"{self.restaurant_name} is now open!\")\n",
        "\n",
        "    def set_number_served(self, number):\n",
        "        \"\"\"Set the number of customers served.\"\"\"\n",
        "        self.number_served = number\n",
        "\n",
        "    def increment_number_served(self, increment):\n",
        "        \"\"\"Increment the number of customers served.\"\"\"\n",
        "        self.number_served += increment\n",
        "\n",
        "# Create an instance of the Restaurant class\n",
        "restaurant = Restaurant(\"The Olive Garden\", \"Italian\")\n",
        "\n",
        "# Print the initial number of customers served\n",
        "print(f\"Initial Number of Customers Served: {restaurant.number_served}\")\n",
        "\n",
        "# Set the number of customers served\n",
        "restaurant.set_number_served(100)\n",
        "print(f\"Updated Number of Customers Served: {restaurant.number_served}\")\n",
        "\n",
        "# Increment the number of customers served\n",
        "restaurant.increment_number_served(25)\n",
        "print(f\"Updated Number of Customers Served: {restaurant.number_served}\")"
      ]
    },
    {
      "cell_type": "markdown",
      "metadata": {
        "id": "Qiw4rnarCbfu"
      },
      "source": [
        "## Question 18\n",
        "**Login Attempts:** Add an attribute called login_attempts to your User class from Question 16. Write a method called `increment_login_attempts()` that increments the value of `login_attempts` by 1. Write another method called `reset_login_attempts()` that resets the value of login_attempts to 0.\n",
        "\n",
        "Make an instance of the `User` class and call `increment_login_attempts()` several times. Print the value of `login_attempts` to make sure it was incremented properly, and then call `reset_login_attempts()`. Print `login_attempts` again to make sure it was reset to 0."
      ]
    },
    {
      "cell_type": "code",
      "execution_count": 68,
      "metadata": {
        "id": "g5IjV3nXCbfu",
        "colab": {
          "base_uri": "https://localhost:8080/"
        },
        "outputId": "689d0dbc-1ac1-464d-cade-15229aa11a02"
      },
      "outputs": [
        {
          "output_type": "stream",
          "name": "stdout",
          "text": [
            "Login Attempts: 3\n",
            "Login Attempts After Reset: 0\n"
          ]
        }
      ],
      "source": [
        "class User:\n",
        "    def __init__(self, first_name, last_name, age, email, location):\n",
        "        self.first_name = first_name\n",
        "        self.last_name = last_name\n",
        "        self.age = age\n",
        "        self.email = email\n",
        "        self.location = location\n",
        "        self.login_attempts = 0  # New attribute\n",
        "\n",
        "    def describe_user(self):\n",
        "        \"\"\"Print a summary of the user's information.\"\"\"\n",
        "        print(\"User Information:\")\n",
        "        print(f\"First Name: {self.first_name}\")\n",
        "        print(f\"Last Name: {self.last_name}\")\n",
        "        print(f\"Age: {self.age}\")\n",
        "        print(f\"Email: {self.email}\")\n",
        "        print(f\"Location: {self.location}\")\n",
        "\n",
        "    def greet_user(self):\n",
        "        \"\"\"Print a personalized greeting to the user.\"\"\"\n",
        "        print(f\"Hello, {self.first_name}! Welcome back.\")\n",
        "\n",
        "    def increment_login_attempts(self):\n",
        "        \"\"\"Increment the value of login_attempts by 1.\"\"\"\n",
        "        self.login_attempts += 1\n",
        "\n",
        "    def reset_login_attempts(self):\n",
        "        \"\"\"Reset the value of login_attempts to 0.\"\"\"\n",
        "        self.login_attempts = 0\n",
        "\n",
        "# Create an instance of the User class\n",
        "user = User(\"John\", \"Doe\", 30, \"john.doe@email.com\", \"New York\")\n",
        "\n",
        "# Call increment_login_attempts() several times\n",
        "user.increment_login_attempts()\n",
        "user.increment_login_attempts()\n",
        "user.increment_login_attempts()\n",
        "\n",
        "# Print the value of login_attempts\n",
        "print(f\"Login Attempts: {user.login_attempts}\")\n",
        "\n",
        "# Call reset_login_attempts()\n",
        "user.reset_login_attempts()\n",
        "\n",
        "# Print login_attempts to make sure it was reset to 0\n",
        "print(f\"Login Attempts After Reset: {user.login_attempts}\")"
      ]
    },
    {
      "cell_type": "markdown",
      "metadata": {
        "id": "p1m1i9ASCbfu"
      },
      "source": [
        "## Question 19\n",
        "**Dice:** Make a class `Die` with one attribute called `sides`, which has a default value of 6. Write a method called `roll_die()` that prints a random number between 1 and the number of sides the die has. Make a 6-sided die and roll it 10 times.\n",
        "\n",
        "Make a 10-sided die and a 20-sided die. Roll each die 10 times."
      ]
    },
    {
      "cell_type": "code",
      "execution_count": 71,
      "metadata": {
        "id": "fMLoT7gcCbfw",
        "colab": {
          "base_uri": "https://localhost:8080/"
        },
        "outputId": "173bc162-3a89-4543-fa38-42e4e15efe63"
      },
      "outputs": [
        {
          "output_type": "stream",
          "name": "stdout",
          "text": [
            "Rolling a 6-sided die 10 times:\n",
            "Roll: 3\n",
            "Roll: 2\n",
            "Roll: 1\n",
            "Roll: 6\n",
            "Roll: 1\n",
            "Roll: 2\n",
            "Roll: 4\n",
            "Roll: 3\n",
            "Roll: 2\n",
            "Roll: 6\n",
            "Rolling a 10-sided die 10 times:\n",
            "Roll: 8\n",
            "Roll: 6\n",
            "Roll: 7\n",
            "Roll: 2\n",
            "Roll: 8\n",
            "Roll: 1\n",
            "Roll: 5\n",
            "Roll: 5\n",
            "Roll: 9\n",
            "Roll: 2\n",
            "Rolling a 20-sided die 10 times:\n",
            "Roll: 5\n",
            "Roll: 13\n",
            "Roll: 10\n",
            "Roll: 16\n",
            "Roll: 17\n",
            "Roll: 16\n",
            "Roll: 8\n",
            "Roll: 20\n",
            "Roll: 2\n",
            "Roll: 10\n"
          ]
        }
      ],
      "source": [
        "from random import randint\n",
        "\n",
        "class Die:\n",
        "    def __init__(self, sides=6):\n",
        "        self.sides = sides\n",
        "\n",
        "    def roll_die(self, rolls=10):\n",
        "        \"\"\"Print random numbers between 1 and the number of sides.\"\"\"\n",
        "        print(f\"Rolling a {self.sides}-sided die {rolls} times:\")\n",
        "        for _ in range(rolls):\n",
        "            result = randint(1, self.sides)\n",
        "            print(f\"Roll: {result}\")\n",
        "\n",
        "# Create a 6-sided die and roll it 10 times\n",
        "six_sided_die = Die()\n",
        "six_sided_die.roll_die()\n",
        "\n",
        "# Create a 10-sided die and roll it 10 times\n",
        "ten_sided_die = Die(sides=10)\n",
        "ten_sided_die.roll_die()\n",
        "\n",
        "# Create a 20-sided die and roll it 10 times\n",
        "twenty_sided_die = Die(sides=20)\n",
        "twenty_sided_die.roll_die()"
      ]
    },
    {
      "cell_type": "markdown",
      "metadata": {
        "id": "0u-RN0HSCbfw"
      },
      "source": [
        "## Question 20\n",
        "**Lottery:** Make a list or tuple containing a series of 10 numbers and five letters. Randomly select four numbers or letters from the list and print a message saying that any ticket matching these four numbers or letters wins a prize.\n",
        "\n",
        "You can use a loop to see how hard it might be to win the kind of lottery you just modeled. Make a list or tuple called `my_ticket`. Write a loop that keeps pulling numbers until your ticket wins. Print a message reporting how many times the loop had to run to give you a winning ticket."
      ]
    },
    {
      "cell_type": "code",
      "execution_count": 84,
      "metadata": {
        "id": "nrh5CCYVCbfw",
        "colab": {
          "base_uri": "https://localhost:8080/"
        },
        "outputId": "f2d74be0-7262-43ec-fe5f-e8f3a3831df4"
      },
      "outputs": [
        {
          "output_type": "stream",
          "name": "stdout",
          "text": [
            "Winning Ticket: [8, 4, 'A', 3]\n",
            "My Winning Ticket: [8, 4, 'A', 3]\n",
            "Total Attempts: 342651\n"
          ]
        }
      ],
      "source": [
        "from random import choice\n",
        "\n",
        "# Create a list containing numbers and letters\n",
        "lottery_pool = [1, 2, 3, 4, 5, 6, 7, 8, 9, 0, 'A', 'B', 'C', 'D', 'E']\n",
        "\n",
        "# Create a winning ticket with four random elements\n",
        "winning_ticket = [choice(lottery_pool) for _ in range(4)]\n",
        "\n",
        "# Initialize variables\n",
        "attempts = 0\n",
        "my_ticket = []\n",
        "\n",
        "# Continue drawing tickets until my_ticket matches the winning_ticket\n",
        "while my_ticket != winning_ticket:\n",
        "    my_ticket = [choice(lottery_pool) for _ in range(4)]\n",
        "    attempts += 1\n",
        "\n",
        "# Print the winning ticket and the number of attempts\n",
        "print(f\"Winning Ticket: {winning_ticket}\")\n",
        "print(f\"My Winning Ticket: {my_ticket}\")\n",
        "print(f\"Total Attempts: {attempts}\")"
      ]
    }
  ],
  "metadata": {
    "kernelspec": {
      "display_name": "Python 3 (ipykernel)",
      "language": "python",
      "name": "python3"
    },
    "language_info": {
      "codemirror_mode": {
        "name": "ipython",
        "version": 3
      },
      "file_extension": ".py",
      "mimetype": "text/x-python",
      "name": "python",
      "nbconvert_exporter": "python",
      "pygments_lexer": "ipython3",
      "version": "3.8.10"
    },
    "colab": {
      "provenance": [],
      "include_colab_link": true
    }
  },
  "nbformat": 4,
  "nbformat_minor": 0
}