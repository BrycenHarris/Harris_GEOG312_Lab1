{
  "cells": [
    {
      "cell_type": "markdown",
      "metadata": {
        "id": "view-in-github",
        "colab_type": "text"
      },
      "source": [
        "<a href=\"https://colab.research.google.com/github/BrycenHarris/Harris_GEOG312_Labs/blob/main/lab_04.ipynb\" target=\"_parent\"><img src=\"https://colab.research.google.com/assets/colab-badge.svg\" alt=\"Open In Colab\"/></a>"
      ]
    },
    {
      "cell_type": "markdown",
      "metadata": {
        "id": "N9ZfQXnAd7Io"
      },
      "source": [
        "[![image](https://colab.research.google.com/assets/colab-badge.svg)](https://colab.research.google.com/github/giswqs/geog-312/blob/master/labs/lab_04.ipynb)\n",
        "[![image](https://binder.pangeo.io/badge_logo.svg)](https://gishub.org/geog312-pangeo)\n",
        "\n",
        "**Firstname Lastname**"
      ]
    },
    {
      "cell_type": "code",
      "execution_count": null,
      "metadata": {
        "id": "BvqOoZGcd7Iq"
      },
      "outputs": [],
      "source": [
        "from datetime import datetime\n",
        "\n",
        "now = datetime.now()\n",
        "print(f\"Submitted time: {now}\")"
      ]
    },
    {
      "cell_type": "markdown",
      "metadata": {
        "id": "CdSiqyIBd7Ir"
      },
      "source": [
        "## Question 1\n",
        "**Alien Colors # 1:** Imagine an alien was just shot down in a game. Create a variable called `alien_color` and assign it a value of `green, yellow,` or `red`.\n",
        "\n",
        "* Write an if statement to test whether the alien’s color is green. If it is, print a message that the player just earned 5 points.\n",
        "* Write one version of this program that passes the if test and another that fails. (The version that fails will have no output.)"
      ]
    },
    {
      "cell_type": "code",
      "execution_count": 5,
      "metadata": {
        "id": "9-qK0dzYd7Is",
        "colab": {
          "base_uri": "https://localhost:8080/"
        },
        "outputId": "a08000af-a12f-4d04-d7a0-6677a557765f"
      },
      "outputs": [
        {
          "output_type": "stream",
          "name": "stdout",
          "text": [
            "The player just earned 5 points.\n"
          ]
        }
      ],
      "source": [
        "alien_color = \"green\"  # Assign the color to the alien\n",
        "\n",
        "if alien_color == \"green\":\n",
        "    print(\"The player just earned 5 points.\")\n",
        "\n",
        "\n",
        "alien_color = \"red\"  # Assign a different color to the alien\n",
        "\n",
        "if alien_color == \"green\":\n",
        "    print(\"The player just earned 5 points.\")\n"
      ]
    },
    {
      "cell_type": "markdown",
      "metadata": {
        "id": "QKEs8IKId7Is"
      },
      "source": [
        "## Question 2\n",
        "**Alien Colors # 2:** Choose a color for an alien as you did in Question 1, and write an `if-else` chain.\n",
        "\n",
        "* If the alien’s color is green, print a statement that the player just earned 5 points for shooting the alien.\n",
        "* If the alien’s color isn’t green, print a statement that the player just earned 10 points.\n",
        "* Write one version of this program that runs the if block and another that runs the else block."
      ]
    },
    {
      "cell_type": "code",
      "execution_count": 8,
      "metadata": {
        "id": "65aUmlUwd7Is",
        "colab": {
          "base_uri": "https://localhost:8080/"
        },
        "outputId": "b5e8cf98-d597-40e6-a986-00b549d3bf1c"
      },
      "outputs": [
        {
          "output_type": "stream",
          "name": "stdout",
          "text": [
            "The player just earned 5 points for shooting the alien.\n",
            "The player just earned 10 points.\n"
          ]
        }
      ],
      "source": [
        "alien_color = \"green\"  # Assign the color to the alien\n",
        "\n",
        "if alien_color == \"green\":\n",
        "    print(\"The player just earned 5 points for shooting the alien.\")\n",
        "else:\n",
        "    print(\"The player just earned 10 points.\")\n",
        "\n",
        "alien_color = \"red\"  # Assign a different color to the alien\n",
        "\n",
        "if alien_color == \"green\":\n",
        "    print(\"The player just earned 5 points for shooting the alien.\")\n",
        "else:\n",
        "    print(\"The player just earned 10 points.\")"
      ]
    },
    {
      "cell_type": "markdown",
      "metadata": {
        "id": "EeJQsjZMd7Is"
      },
      "source": [
        "## Question 3\n",
        "**Alien Colors # 3:** Turn your `if-else` chain from Question 2 into an `if-elif-else` chain.\n",
        "\n",
        "* If the alien is green, print a message that the player earned 5 points.\n",
        "* If the alien is yellow, print a message that the player earned 10 points.\n",
        "* If the alien is red, print a message that the player earned 15 points.\n",
        "* Write three versions of this program, making sure each message is printed for the appropriate color alien."
      ]
    },
    {
      "cell_type": "code",
      "execution_count": 19,
      "metadata": {
        "id": "wrKClfned7Is",
        "colab": {
          "base_uri": "https://localhost:8080/"
        },
        "outputId": "169d5a4d-b8ea-4f4b-9e07-9e5510a58d5c"
      },
      "outputs": [
        {
          "output_type": "stream",
          "name": "stdout",
          "text": [
            "The player earned 5 points.\n",
            "The player earned 10 points.\n",
            "The player earned 15 points.\n"
          ]
        }
      ],
      "source": [
        "alien_color = \"green\"\n",
        "\n",
        "if alien_color == \"green\":\n",
        "    print(\"The player earned 5 points.\")\n",
        "elif alien_color == \"yellow\":\n",
        "    print(\"The player earned 10 points.\")\n",
        "else:\n",
        "    print(\"The player earned 15 points.\")\n",
        "\n",
        "alien_color = \"yellow\"\n",
        "\n",
        "if alien_color == \"green\":\n",
        "    print(\"The player earned 5 points.\")\n",
        "elif alien_color == \"yellow\":\n",
        "    print(\"The player earned 10 points.\")\n",
        "else:\n",
        "    print(\"The player earned 15 points.\")\n",
        "\n",
        "alien_color = \"red\"\n",
        "\n",
        "if alien_color == \"green\":\n",
        "    print(\"The player earned 5 points.\")\n",
        "elif alien_color == \"yellow\":\n",
        "    print(\"The player earned 10 points.\")\n",
        "else:\n",
        "    print(\"The player earned 15 points.\")\n"
      ]
    },
    {
      "cell_type": "markdown",
      "metadata": {
        "id": "hWC9dqDPd7It"
      },
      "source": [
        "## Question 4\n",
        "**Stages of Life:** Write an `if-elif-else` chain that determines a person’s stage of life. Set a value for the variable `age`, and then:\n",
        "\n",
        "* If the person is less than 2 years old, print a message that the person is a baby.\n",
        "* If the person is at least 2 years old but less than 4, print a message that the person is a toddler.\n",
        "* If the person is at least 4 years old but less than 13, print a message that the person is a kid.\n",
        "* If the person is at least 13 years old but less than 20, print a message that the person is a teenager.\n",
        "* If the person is at least 20 years old but less than 65, print a message that the person is an adult."
      ]
    },
    {
      "cell_type": "code",
      "execution_count": 24,
      "metadata": {
        "id": "3a_IpAd2d7It",
        "colab": {
          "base_uri": "https://localhost:8080/"
        },
        "outputId": "558df592-794c-44ee-c8de-a66cf05f3d78"
      },
      "outputs": [
        {
          "output_type": "stream",
          "name": "stdout",
          "text": [
            "The person is an adult.\n"
          ]
        }
      ],
      "source": [
        "age = 25  # Set the age here\n",
        "\n",
        "if age < 2:\n",
        "    print(\"The person is a baby.\")\n",
        "elif age >= 2 and age < 4:\n",
        "    print(\"The person is a toddler.\")\n",
        "elif age >= 4 and age < 13:\n",
        "    print(\"The person is a kid.\")\n",
        "elif age >= 13 and age < 20:\n",
        "    print(\"The person is a teenager.\")\n",
        "elif age >= 20 and age < 65:\n",
        "    print(\"The person is an adult.\")\n",
        "else:\n",
        "    print(\"\")\n",
        "\n"
      ]
    },
    {
      "cell_type": "markdown",
      "metadata": {
        "id": "KahqVZ7vd7It"
      },
      "source": [
        "## Question 5\n",
        "**Favorite Fruit:** Make a list of your favorite fruits, and then write a series of independent `if` statements that check for certain fruits in your list.\n",
        "\n",
        "* Make a list of your three favorite fruits and call it favorite_fruits.\n",
        "* Write five if statements. Each should check whether a certain kind of fruit is in your list. If the fruit is in your list, the if block should print a statement, such as You really like bananas!"
      ]
    },
    {
      "cell_type": "code",
      "execution_count": 26,
      "metadata": {
        "id": "mGzOu5f2d7It",
        "colab": {
          "base_uri": "https://localhost:8080/"
        },
        "outputId": "405346fc-48d2-4bb8-ab30-26085b211906"
      },
      "outputs": [
        {
          "output_type": "stream",
          "name": "stdout",
          "text": [
            "I really like bananas!\n",
            "I really like apples!\n",
            "I really like strawberries!\n"
          ]
        }
      ],
      "source": [
        "favorite_fruits = [\"apple\", \"banana\", \"strawberry\"]\n",
        "\n",
        "if \"banana\" in favorite_fruits:\n",
        "    print(\"I really like bananas!\")\n",
        "\n",
        "if \"apple\" in favorite_fruits:\n",
        "    print(\"I really like apples!\")\n",
        "\n",
        "if \"kiwi\" in favorite_fruits:\n",
        "    print(\"I really like kiwis!\")\n",
        "\n",
        "if \"strawberry\" in favorite_fruits:\n",
        "    print(\"I really like strawberries!\")\n",
        "\n",
        "if \"orange\" in favorite_fruits:\n",
        "    print(\"I really like oranges!\")\n"
      ]
    },
    {
      "cell_type": "markdown",
      "metadata": {
        "id": "JMgInU7Gd7It"
      },
      "source": [
        "## Question 6\n",
        "**Hello Admin:** Make a list of five or more usernames, including the name `admin`. Imagine you are writing code that will print a greeting to each user after they log in to a website. Loop through the list, and print a greeting to each user:\n",
        "\n",
        "* If the username is 'admin', print a special greeting, such as *Hello admin, would you like to see a status report?*\n",
        "* Otherwise, print a generic greeting, such as *Hello Jaden, thank you for logging in again*."
      ]
    },
    {
      "cell_type": "code",
      "execution_count": 27,
      "metadata": {
        "id": "hb9KUvdYd7It",
        "colab": {
          "base_uri": "https://localhost:8080/"
        },
        "outputId": "71b7c50b-37ad-4809-91fd-5ae812e65bd8"
      },
      "outputs": [
        {
          "output_type": "stream",
          "name": "stdout",
          "text": [
            "Hello admin, would you like to see a status report?\n",
            "Hello Jaden, thank you for logging in again.\n",
            "Hello Alice, thank you for logging in again.\n",
            "Hello Bob, thank you for logging in again.\n",
            "Hello Eve, thank you for logging in again.\n"
          ]
        }
      ],
      "source": [
        "usernames = [\"admin\", \"Jaden\", \"Alice\", \"Bob\", \"Eve\"]\n",
        "\n",
        "for username in usernames:\n",
        "    if username == \"admin\":\n",
        "        print(\"Hello admin, would you like to see a status report?\")\n",
        "    else:\n",
        "        print(f\"Hello {username}, thank you for logging in again.\")\n"
      ]
    },
    {
      "cell_type": "markdown",
      "metadata": {
        "id": "J7d_YCn5d7It"
      },
      "source": [
        "## Question 7\n",
        "**No Users:** Based on Question 6, add an `if` test to make sure the list of users is not empty.\n",
        "\n",
        "* If the list is empty, print the message *We need to find some users!*\n",
        "* Remove all of the usernames from your list, and make sure the correct message is printed."
      ]
    },
    {
      "cell_type": "code",
      "execution_count": 28,
      "metadata": {
        "id": "-8ZzdkmUd7Iu",
        "colab": {
          "base_uri": "https://localhost:8080/"
        },
        "outputId": "033548ea-27f9-4517-efb2-e69bd1e99660"
      },
      "outputs": [
        {
          "output_type": "stream",
          "name": "stdout",
          "text": [
            "We need to find some users!\n"
          ]
        }
      ],
      "source": [
        "usernames = []\n",
        "\n",
        "if usernames:  # Check if the list is not empty\n",
        "    for username in usernames:\n",
        "        if username == \"admin\":\n",
        "            print(\"Hello admin, would you like to see a status report?\")\n",
        "        else:\n",
        "            print(f\"Hello {username}, thank you for logging in again.\")\n",
        "else:\n",
        "    print(\"We need to find some users!\")\n"
      ]
    },
    {
      "cell_type": "markdown",
      "metadata": {
        "id": "YnVyeY-dd7Iu"
      },
      "source": [
        "## Question 8\n",
        "**Checking Usernames:** Do the following to create a program that simulates how websites ensure that everyone has a unique username.\n",
        "\n",
        "* Make a list of five or more usernames called `current_users`.\n",
        "*  Make another list of five usernames called `new_users`. Make sure one or two of the new usernames are also in the `current_users` list.\n",
        "* Loop through the `new_users` list to see if each new username has already been used. If it has, print a message that the person will need to enter a new username. If a username has not been used, print a message saying that the username is available.\n",
        "* Make sure your comparison is case insensitive. If 'John' has been used, 'JOHN' should not be accepted. (To do this, you’ll need to make a copy of `current_users` containing the lowercase versions of all existing users.)"
      ]
    },
    {
      "cell_type": "code",
      "execution_count": 37,
      "metadata": {
        "id": "V51_3Lvtd7Iu",
        "colab": {
          "base_uri": "https://localhost:8080/"
        },
        "outputId": "026c8147-ad7a-447d-b85d-6dc2718ee847"
      },
      "outputs": [
        {
          "output_type": "stream",
          "name": "stdout",
          "text": [
            "Sorry, the username 'JOHN' is not available. Please enter a new username.\n",
            "The username 'Kate' is available.\n",
            "The username 'Sam' is available.\n",
            "The username 'Ella' is available.\n",
            "The username 'Alex' is available.\n"
          ]
        }
      ],
      "source": [
        "# Step 1: Create a list of current users\n",
        "current_users = [\"Alice\", \"Bob\", \"John\", \"Eve\", \"Mia\"]\n",
        "\n",
        "# Step 2: Create a list of new users\n",
        "new_users = [\"JOHN\", \"Kate\", \"Sam\", \"Ella\", \"Alex\"]\n",
        "\n",
        "# Step 3: Convert current usernames to lowercase\n",
        "lowercase_current_users = [user.lower() for user in current_users]\n",
        "\n",
        "# Step 4: Check new usernames for uniqueness (case-insensitive)\n",
        "for new_user in new_users:\n",
        "    if new_user.lower() in lowercase_current_users:\n",
        "        print(f\"Sorry, the username '{new_user}' is not available. Please enter a new username.\")\n",
        "    else:\n",
        "        print(f\"The username '{new_user}' is available.\")\n"
      ]
    },
    {
      "cell_type": "markdown",
      "metadata": {
        "id": "FgzYJyhKd7Iu"
      },
      "source": [
        "## Question 9\n",
        "**Ordinal Numbers:** Ordinal numbers indicate their position in a list, such as *1st* or *2nd*. Most ordinal numbers end in *th*, except 1, 2, and 3.\n",
        "\n",
        "* Store the numbers 1 through 9 in a list.\n",
        "* Loop through the list.\n",
        "* Use an `if-elif-else` chain inside the loop to print the proper ordinal ending for each number. Your output should read \"1st 2nd 3rd 4th 5th 6th 7th 8th 9th\", and each result should be on a separate line."
      ]
    },
    {
      "cell_type": "code",
      "execution_count": 38,
      "metadata": {
        "id": "Wl0lg4wHd7Iu",
        "colab": {
          "base_uri": "https://localhost:8080/"
        },
        "outputId": "be9f493a-b1f0-4cf7-ac1f-1965ad8d616b"
      },
      "outputs": [
        {
          "output_type": "stream",
          "name": "stdout",
          "text": [
            "1st\n",
            "2nd\n",
            "3rd\n",
            "4th\n",
            "5th\n",
            "6th\n",
            "7th\n",
            "8th\n",
            "9th\n"
          ]
        }
      ],
      "source": [
        "numbers = [1, 2, 3, 4, 5, 6, 7, 8, 9]\n",
        "\n",
        "for number in numbers:\n",
        "    if number == 1:\n",
        "        ending = \"st\"\n",
        "    elif number == 2:\n",
        "        ending = \"nd\"\n",
        "    elif number == 3:\n",
        "        ending = \"rd\"\n",
        "    else:\n",
        "        ending = \"th\"\n",
        "\n",
        "    print(f\"{number}{ending}\")\n"
      ]
    }
  ],
  "metadata": {
    "kernelspec": {
      "display_name": "Python 3 (ipykernel)",
      "language": "python",
      "name": "python3"
    },
    "language_info": {
      "codemirror_mode": {
        "name": "ipython",
        "version": 3
      },
      "file_extension": ".py",
      "mimetype": "text/x-python",
      "name": "python",
      "nbconvert_exporter": "python",
      "pygments_lexer": "ipython3",
      "version": "3.8.10"
    },
    "colab": {
      "provenance": [],
      "include_colab_link": true
    }
  },
  "nbformat": 4,
  "nbformat_minor": 0
}