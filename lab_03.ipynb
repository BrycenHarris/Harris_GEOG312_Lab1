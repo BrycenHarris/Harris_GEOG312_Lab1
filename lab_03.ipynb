{
  "cells": [
    {
      "cell_type": "markdown",
      "metadata": {
        "id": "view-in-github",
        "colab_type": "text"
      },
      "source": [
        "<a href=\"https://colab.research.google.com/github/BrycenHarris/Harris_GEOG312_Labs/blob/main/lab_03.ipynb\" target=\"_parent\"><img src=\"https://colab.research.google.com/assets/colab-badge.svg\" alt=\"Open In Colab\"/></a>"
      ]
    },
    {
      "cell_type": "markdown",
      "metadata": {
        "id": "JvxNwCc2sCOO"
      },
      "source": [
        "[![image](https://colab.research.google.com/assets/colab-badge.svg)](https://colab.research.google.com/github/giswqs/geog-312/blob/master/labs/lab_03.ipynb)\n",
        "[![image](https://binder.pangeo.io/badge_logo.svg)](https://gishub.org/geog312-pangeo)"
      ]
    },
    {
      "cell_type": "markdown",
      "metadata": {
        "id": "ApnVnhtdsCOQ"
      },
      "source": [
        "**Firstname Lastname**"
      ]
    },
    {
      "cell_type": "code",
      "execution_count": null,
      "metadata": {
        "id": "wnspq468sCOR"
      },
      "outputs": [],
      "source": [
        "from datetime import datetime\n",
        "\n",
        "now = datetime.now()\n",
        "print(f\"Submitted time: {now}\")"
      ]
    },
    {
      "cell_type": "markdown",
      "metadata": {
        "id": "m3I0M_IJsCOR"
      },
      "source": [
        "## Question 1\n",
        "**Pizzas:** Think of at least three kinds of your favorite pizza. Store these pizza names in a list, and then use a for loop to print the name of each pizza.\n",
        "\n",
        "Modify your for loop to print a sentence using the name of the pizza instead of printing just the name of the pizza. For each pizza you should have one line of output containing a simple statement like *I like pepperoni pizza.*"
      ]
    },
    {
      "cell_type": "code",
      "execution_count": null,
      "metadata": {
        "id": "9HUFHP-3sCOS",
        "outputId": "d8d88cc9-253c-4f38-9c35-715faba03c82",
        "colab": {
          "base_uri": "https://localhost:8080/"
        }
      },
      "outputs": [
        {
          "output_type": "stream",
          "name": "stdout",
          "text": [
            "I like Pepperoni pizza!\n",
            "I like Meatlovers pizza!\n",
            "I like Cheese pizza!\n"
          ]
        }
      ],
      "source": [
        "pizzas = ['pepperoni', 'meatlovers', 'cheese']\n",
        "for pizza in pizzas:\n",
        "     print(f\"I like {pizza.title()} pizza!\")"
      ]
    },
    {
      "cell_type": "markdown",
      "metadata": {
        "id": "q-DGge7IsCOS"
      },
      "source": [
        "Add a line at the end of your program, outside the for loop, that states how much you like pizza. The output should consist of three or more lines about the kinds of pizza you like and then an additional sentence, such as *I really love pizza!*"
      ]
    },
    {
      "cell_type": "code",
      "execution_count": null,
      "metadata": {
        "id": "ToUXrawVsCOS",
        "outputId": "bd437428-d300-4827-edfd-c2d0b7cdf183",
        "colab": {
          "base_uri": "https://localhost:8080/"
        }
      },
      "outputs": [
        {
          "output_type": "stream",
          "name": "stdout",
          "text": [
            "I like Pepperoni pizza!\n",
            "I like Meatlovers pizza!\n",
            "I like Cheese pizza!\n",
            "I really love to eat pizza.\n"
          ]
        }
      ],
      "source": [
        "pizzas = ['pepperoni', 'meatlovers', 'cheese']\n",
        "for pizza in pizzas:\n",
        "     print(f\"I like {pizza.title()} pizza!\")\n",
        "\n",
        "print(f\"I really love to eat pizza.\")"
      ]
    },
    {
      "cell_type": "markdown",
      "metadata": {
        "id": "d_z3GXFksCOS"
      },
      "source": [
        "## Question 2\n",
        "**Animals:** Think of at least three different animals that have a common characteristic. Store the names of these animals in a list, and then use a for loop to print out the name of each animal.\n",
        "\n",
        "Modify your program to print a statement about each animal, such as *A dog would make a great pet.*"
      ]
    },
    {
      "cell_type": "code",
      "execution_count": null,
      "metadata": {
        "id": "4l0YE6TVsCOT",
        "outputId": "83690aea-239d-409e-e21c-8f72268b7a28",
        "colab": {
          "base_uri": "https://localhost:8080/"
        }
      },
      "outputs": [
        {
          "output_type": "stream",
          "name": "stdout",
          "text": [
            "A Dog would make a great pet!\n",
            "A Cat would make a great pet!\n",
            "A Bird would make a great pet!\n"
          ]
        }
      ],
      "source": [
        "animals = ['dog', 'cat', 'bird']\n",
        "for animal in animals:\n",
        "     print(f\"A {animal.title()} would make a great pet!\")"
      ]
    },
    {
      "cell_type": "markdown",
      "metadata": {
        "id": "4xZnU8DDsCOT"
      },
      "source": [
        "Add a line at the end of your program stating what these animals have in common. You could print a sentence such as *Any of these animals would make a great pet!*"
      ]
    },
    {
      "cell_type": "code",
      "execution_count": null,
      "metadata": {
        "id": "_lmvdvtLsCOT",
        "outputId": "79d99675-93b2-49a7-acee-0cf9bb9ff0f3",
        "colab": {
          "base_uri": "https://localhost:8080/"
        }
      },
      "outputs": [
        {
          "output_type": "stream",
          "name": "stdout",
          "text": [
            "A Dog would make a great pet!\n",
            "A Cat would make a great pet!\n",
            "A Bird would make a great pet!\n",
            "Any of these animals would make agreat pet!\n"
          ]
        }
      ],
      "source": [
        "animals = ['dog', 'cat', 'bird']\n",
        "for animal in animals:\n",
        "     print(f\"A {animal.title()} would make a great pet!\")\n",
        "\n",
        "print(f\"Any of these animals would make agreat pet!\")"
      ]
    },
    {
      "cell_type": "markdown",
      "metadata": {
        "id": "O0RXNI-0sCOT"
      },
      "source": [
        "## Question 3\n",
        "**Counting to Twenty:** Use a for loop to print the numbers from 1 to 20, inclusive."
      ]
    },
    {
      "cell_type": "code",
      "execution_count": null,
      "metadata": {
        "id": "nWq8ujsdsCOT",
        "outputId": "a3bdb13e-49ba-40ae-b45b-e4e16b28b23c",
        "colab": {
          "base_uri": "https://localhost:8080/"
        }
      },
      "outputs": [
        {
          "output_type": "stream",
          "name": "stdout",
          "text": [
            "1\n",
            "2\n",
            "3\n",
            "4\n",
            "5\n",
            "6\n",
            "7\n",
            "8\n",
            "9\n",
            "10\n",
            "11\n",
            "12\n",
            "13\n",
            "14\n",
            "15\n",
            "16\n",
            "17\n",
            "18\n",
            "19\n",
            "20\n"
          ]
        }
      ],
      "source": [
        "for value in range(1, 21):\n",
        "    print(value)"
      ]
    },
    {
      "cell_type": "markdown",
      "metadata": {
        "id": "06r-hN-3sCOT"
      },
      "source": [
        "## Question 4\n",
        "**One Hundred:** Make a list of the numbers from one to one hundred, and then use a for loop to print the numbers."
      ]
    },
    {
      "cell_type": "code",
      "execution_count": null,
      "metadata": {
        "id": "g5HnRlJOsCOT",
        "outputId": "e8a081a6-fa72-440c-c59a-1c765e9e160a",
        "colab": {
          "base_uri": "https://localhost:8080/"
        }
      },
      "outputs": [
        {
          "output_type": "stream",
          "name": "stdout",
          "text": [
            "1\n",
            "2\n",
            "3\n",
            "4\n",
            "5\n",
            "6\n",
            "7\n",
            "8\n",
            "9\n",
            "10\n",
            "11\n",
            "12\n",
            "13\n",
            "14\n",
            "15\n",
            "16\n",
            "17\n",
            "18\n",
            "19\n",
            "20\n",
            "21\n",
            "22\n",
            "23\n",
            "24\n",
            "25\n",
            "26\n",
            "27\n",
            "28\n",
            "29\n",
            "30\n",
            "31\n",
            "32\n",
            "33\n",
            "34\n",
            "35\n",
            "36\n",
            "37\n",
            "38\n",
            "39\n",
            "40\n",
            "41\n",
            "42\n",
            "43\n",
            "44\n",
            "45\n",
            "46\n",
            "47\n",
            "48\n",
            "49\n",
            "50\n",
            "51\n",
            "52\n",
            "53\n",
            "54\n",
            "55\n",
            "56\n",
            "57\n",
            "58\n",
            "59\n",
            "60\n",
            "61\n",
            "62\n",
            "63\n",
            "64\n",
            "65\n",
            "66\n",
            "67\n",
            "68\n",
            "69\n",
            "70\n",
            "71\n",
            "72\n",
            "73\n",
            "74\n",
            "75\n",
            "76\n",
            "77\n",
            "78\n",
            "79\n",
            "80\n",
            "81\n",
            "82\n",
            "83\n",
            "84\n",
            "85\n",
            "86\n",
            "87\n",
            "88\n",
            "89\n",
            "90\n",
            "91\n",
            "92\n",
            "93\n",
            "94\n",
            "95\n",
            "96\n",
            "97\n",
            "98\n",
            "99\n",
            "100\n"
          ]
        }
      ],
      "source": [
        "numbers = list(range(1, 101))\n",
        "for numbers in range(1, 101):\n",
        "    print(numbers)"
      ]
    },
    {
      "cell_type": "markdown",
      "metadata": {
        "id": "sExNpkAysCOT"
      },
      "source": [
        "## Question 5\n",
        "**Summing a Hundred:** Make a list of the numbers from one to one million, and then use `min()` and `max()` to make sure your list actually starts at one and ends at one hundred. Also, use the sum() function to see how quickly Python can add a hundred numbers."
      ]
    },
    {
      "cell_type": "code",
      "execution_count": null,
      "metadata": {
        "id": "zTEBf-OwsCOU",
        "outputId": "4c356961-0c17-46cb-c2aa-a3f3a1f90a4d",
        "colab": {
          "base_uri": "https://localhost:8080/"
        }
      },
      "outputs": [
        {
          "output_type": "stream",
          "name": "stdout",
          "text": [
            "1\n",
            "1000000\n"
          ]
        },
        {
          "output_type": "execute_result",
          "data": {
            "text/plain": [
              "500000500000"
            ]
          },
          "metadata": {},
          "execution_count": 73
        }
      ],
      "source": [
        "numbers = list(range(1, 1000001))\n",
        "print(min(numbers))\n",
        "print(max(numbers))\n",
        "sum(numbers)\n",
        "#I dont know how to force the Max() to only go to 100 because it not in the lecture nor your video"
      ]
    },
    {
      "cell_type": "markdown",
      "metadata": {
        "id": "3rpUOkH3sCOU"
      },
      "source": [
        "## Question 6\n",
        "**Odd Numbers:** Use the third argument of the `range()` function to make a list of the odd numbers from 1 to 20. Use a `for` loop to print each number."
      ]
    },
    {
      "cell_type": "code",
      "execution_count": null,
      "metadata": {
        "colab": {
          "base_uri": "https://localhost:8080/"
        },
        "id": "simOkn6JsCOU",
        "outputId": "922adc90-d2e2-4b97-fc91-65f5ad8c14e9"
      },
      "outputs": [
        {
          "output_type": "stream",
          "name": "stdout",
          "text": [
            "2\n",
            "4\n",
            "6\n",
            "8\n",
            "10\n",
            "12\n",
            "14\n",
            "16\n",
            "18\n",
            "20\n"
          ]
        }
      ],
      "source": [
        "even_numbers = list(range(1, 21))\n",
        "for even_numbers in range(2, 21, 2):\n",
        "  print(even_numbers)"
      ]
    },
    {
      "cell_type": "markdown",
      "metadata": {
        "id": "ZeDNfd5fsCOU"
      },
      "source": [
        "## Question 7\n",
        "**Threes:** Make a list of the multiples of 3 from 3 to 30. Use a `for` loop to print the numbers in your list."
      ]
    },
    {
      "cell_type": "code",
      "source": [
        "multiples = []\n",
        "\n",
        "for numbers in range(3, 31, 3):\n",
        "    multiples.append(numbers)\n",
        "print(multiples)\n"
      ],
      "metadata": {
        "id": "MZyhdc5T5s3c",
        "outputId": "088ad6dc-9f75-4233-cb61-b7dc935b2c89",
        "colab": {
          "base_uri": "https://localhost:8080/"
        }
      },
      "execution_count": null,
      "outputs": [
        {
          "output_type": "stream",
          "name": "stdout",
          "text": [
            "[3, 6, 9, 12, 15, 18, 21, 24, 27, 30]\n"
          ]
        }
      ]
    },
    {
      "cell_type": "code",
      "execution_count": null,
      "metadata": {
        "id": "sqKCqjwysCOU"
      },
      "outputs": [],
      "source": []
    },
    {
      "cell_type": "markdown",
      "metadata": {
        "id": "6pHlO5b8sCOU"
      },
      "source": [
        "## Question 8\n",
        "**Cubes:** A number raised to the third power is called a cube. For example, the cube of 2 is written as 2 ** 3 in Python. Make a list of the first 10 cubes (that is, the cube of each integer from 1 through 10), and use a for loop to print out the value of each cube."
      ]
    },
    {
      "cell_type": "code",
      "execution_count": null,
      "metadata": {
        "id": "FsxXHZoVsCOU",
        "outputId": "0bce5473-ee1e-4207-8637-ceaeae85908a",
        "colab": {
          "base_uri": "https://localhost:8080/"
        }
      },
      "outputs": [
        {
          "output_type": "stream",
          "name": "stdout",
          "text": [
            "[1, 8, 27, 64, 125, 216, 343, 512, 729, 1000]\n"
          ]
        }
      ],
      "source": [
        "cube = [value**3 for value in range(1, 11)]\n",
        "print(cube)\n"
      ]
    },
    {
      "cell_type": "markdown",
      "metadata": {
        "id": "Kr10VwHJsCOU"
      },
      "source": [
        "## Question 9\n",
        "**Cube Comprehension:** Use a list comprehension to generate a list of the first 10 cubes."
      ]
    },
    {
      "cell_type": "code",
      "execution_count": 1,
      "metadata": {
        "id": "rHouWD8IsCOU",
        "colab": {
          "base_uri": "https://localhost:8080/"
        },
        "outputId": "5b3dbbea-56d0-43ce-c642-62b2c00c4556"
      },
      "outputs": [
        {
          "output_type": "stream",
          "name": "stdout",
          "text": [
            "[1, 8, 27, 64, 125, 216, 343, 512, 729, 1000]\n"
          ]
        }
      ],
      "source": [
        "cube = [value**3 for value in range(1, 11)]\n",
        "print(cube)"
      ]
    },
    {
      "cell_type": "markdown",
      "metadata": {
        "id": "rCa6f50fsCOU"
      },
      "source": [
        "## Question 10\n",
        "**Slices:** Using one of the programs you wrote in this lab, add several lines to the end of the program that do the following:\n",
        "\n",
        "Print the message *The first three items in the list are:*. Then use a slice to print the first three items from that program’s list."
      ]
    },
    {
      "cell_type": "code",
      "execution_count": 3,
      "metadata": {
        "id": "KUW282f4sCOU",
        "colab": {
          "base_uri": "https://localhost:8080/"
        },
        "outputId": "e09c667c-9604-4310-eae8-351b7dc62c85"
      },
      "outputs": [
        {
          "output_type": "stream",
          "name": "stdout",
          "text": [
            "['pepperoni', 'meatlovers', 'cheese']\n"
          ]
        }
      ],
      "source": [
        "pizzas = ['pepperoni', 'meatlovers', 'cheese', 'pineapple', 'vegan' ]\n",
        "print(pizzas[0:3])"
      ]
    },
    {
      "cell_type": "markdown",
      "metadata": {
        "id": "0w3esLq0sCOU"
      },
      "source": [
        "Print the message *Three items from the middle of the list are:*. Use a slice to print three items from the middle of the list."
      ]
    },
    {
      "cell_type": "code",
      "execution_count": 7,
      "metadata": {
        "id": "1Qj5ZVzgsCOV",
        "colab": {
          "base_uri": "https://localhost:8080/"
        },
        "outputId": "3ccc4983-235e-430b-df77-64cceb44a1c4"
      },
      "outputs": [
        {
          "output_type": "stream",
          "name": "stdout",
          "text": [
            "['meatlovers', 'cheese', 'pineapple']\n"
          ]
        }
      ],
      "source": [
        "pizzas = ['pepperoni', 'meatlovers', 'cheese', 'pineapple', 'vegan' ]\n",
        "print(pizzas[1:4])"
      ]
    },
    {
      "cell_type": "markdown",
      "metadata": {
        "id": "2eRjiBeXsCOV"
      },
      "source": [
        "Print the message *The last three items in the list are:*. Use a slice to print the last three items in the list."
      ]
    },
    {
      "cell_type": "code",
      "execution_count": 6,
      "metadata": {
        "id": "QyBCJ-wmsCOV",
        "colab": {
          "base_uri": "https://localhost:8080/"
        },
        "outputId": "49bee123-7803-484b-a1ce-c8bf00e9c1c9"
      },
      "outputs": [
        {
          "output_type": "stream",
          "name": "stdout",
          "text": [
            "['cheese', 'pineapple', 'vegan']\n"
          ]
        }
      ],
      "source": [
        "pizzas = ['pepperoni', 'meatlovers', 'cheese', 'pineapple', 'vegan' ]\n",
        "print(pizzas[2:])"
      ]
    },
    {
      "cell_type": "markdown",
      "metadata": {
        "id": "vutdxJknsCOV"
      },
      "source": [
        "## Question 11\n",
        "**My Pizzas, Your Pizzas:** Start with your program from Question 1. Make a copy of the list of pizzas, and call it friend_pizzas. Then, do the following:\n",
        "\n",
        "Add a new pizza to the original list."
      ]
    },
    {
      "cell_type": "code",
      "execution_count": 10,
      "metadata": {
        "id": "chM0m7HbsCOV",
        "colab": {
          "base_uri": "https://localhost:8080/"
        },
        "outputId": "af14e06f-679d-449a-d7c4-66f052b7324a"
      },
      "outputs": [
        {
          "output_type": "stream",
          "name": "stdout",
          "text": [
            "I like Pepperoni pizza!\n",
            "I like Meatlovers pizza!\n",
            "I like Cheese pizza!\n"
          ]
        }
      ],
      "source": [
        "pizzas = ['pepperoni', 'meatlovers', 'cheese']\n",
        "friend_pizzas = ['pepperoni', 'meatlovers', 'cheese', 'pineapple']\n",
        "for pizza in pizzas:\n",
        "     print(f\"I like {pizza.title()} pizza!\")"
      ]
    },
    {
      "cell_type": "markdown",
      "metadata": {
        "id": "h_72-axFsCOV"
      },
      "source": [
        "Add a different pizza to the list `friend_pizzas`."
      ]
    },
    {
      "cell_type": "code",
      "execution_count": 11,
      "metadata": {
        "id": "wosiQNMlsCOV",
        "colab": {
          "base_uri": "https://localhost:8080/"
        },
        "outputId": "b3cc56d9-8101-4c5d-db46-9260c734b546"
      },
      "outputs": [
        {
          "output_type": "stream",
          "name": "stdout",
          "text": [
            "I like Pepperoni pizza!\n",
            "I like Meatlovers pizza!\n",
            "I like Cheese pizza!\n"
          ]
        }
      ],
      "source": [
        "pizzas = ['pepperoni', 'meatlovers', 'cheese']\n",
        "friend_pizzas = ['pepperoni', 'meatlovers', 'cheese', 'pineapple', 'vegan' ]\n",
        "for pizza in pizzas:\n",
        "     print(f\"I like {pizza.title()} pizza!\")"
      ]
    },
    {
      "cell_type": "markdown",
      "metadata": {
        "id": "fOKTsObhsCOV"
      },
      "source": [
        "Prove that you have two separate lists. Print the message *My favorite pizzas are:*, and then use a for loop to print the first list. Print the message *My friend’s favorite pizzas are:*, and then use a for loop to print the second list. Make sure each new pizza is stored in the appropriate list."
      ]
    },
    {
      "cell_type": "code",
      "execution_count": 19,
      "metadata": {
        "id": "bSmKT0L3sCOV",
        "colab": {
          "base_uri": "https://localhost:8080/"
        },
        "outputId": "289909d7-363f-40e8-dcb1-cfa8be969546"
      },
      "outputs": [
        {
          "output_type": "stream",
          "name": "stdout",
          "text": [
            "My favorite pizzas are.\n",
            "I like Pepperoni pizza!\n",
            "I like Meatlovers pizza!\n",
            "I like Cheese pizza!\n",
            "My friends favorite pizzas are.\n",
            "My friend likes Pepperoni pizza!\n",
            "My friend likes Meatlovers pizza!\n",
            "My friend likes Cheese pizza!\n"
          ]
        }
      ],
      "source": [
        "pizzas = ['pepperoni', 'meatlovers', 'cheese']\n",
        "friend_pizzas = ['pepperoni', 'meatlovers', 'cheese', 'pineapple', 'vegan' ]\n",
        "\n",
        "print('My favorite pizzas are.')\n",
        "\n",
        "for pizza in pizzas:\n",
        "     print(f\"I like {pizza.title()} pizza!\")\n",
        "\n",
        "print('My friends favorite pizzas are.')\n",
        "\n",
        "for friend_pizzas in pizzas:\n",
        "     print(f\"My friend likes {friend_pizzas.title()} pizza!\")"
      ]
    },
    {
      "cell_type": "markdown",
      "metadata": {
        "id": "uFO0wuFfsCOV"
      },
      "source": [
        "## Question 12\n",
        "**Buffet:** A buffet-style restaurant offers only five basic foods. Think of five simple foods, and store them in a tuple.\n",
        "\n",
        "Use a for loop to print each food the restaurant offers."
      ]
    },
    {
      "cell_type": "code",
      "execution_count": 30,
      "metadata": {
        "id": "aFBlUnOSsCOV",
        "colab": {
          "base_uri": "https://localhost:8080/"
        },
        "outputId": "895e44f6-f137-4c54-fb98-dcf9126bb30f"
      },
      "outputs": [
        {
          "output_type": "stream",
          "name": "stdout",
          "text": [
            "Steak\n",
            "Chicken\n",
            "Soup\n",
            "Rice\n",
            "Green Beans\n"
          ]
        }
      ],
      "source": [
        "foods = ('Steak', 'Chicken', 'Soup', 'Rice', 'Green Beans')\n",
        "for food in foods:\n",
        "     print(food)"
      ]
    },
    {
      "cell_type": "markdown",
      "metadata": {
        "id": "dxiH8Y8wsCOX"
      },
      "source": [
        "Try to modify one of the items, and make sure that Python rejects the change."
      ]
    },
    {
      "cell_type": "code",
      "execution_count": 36,
      "metadata": {
        "id": "b5RT9YBesCOY",
        "colab": {
          "base_uri": "https://localhost:8080/",
          "height": 228
        },
        "outputId": "64c1f249-ae9b-4f59-96c0-1c9700e225ce"
      },
      "outputs": [
        {
          "output_type": "error",
          "ename": "TypeError",
          "evalue": "ignored",
          "traceback": [
            "\u001b[0;31m---------------------------------------------------------------------------\u001b[0m",
            "\u001b[0;31mTypeError\u001b[0m                                 Traceback (most recent call last)",
            "\u001b[0;32m<ipython-input-36-cef389f9f319>\u001b[0m in \u001b[0;36m<cell line: 2>\u001b[0;34m()\u001b[0m\n\u001b[1;32m      1\u001b[0m \u001b[0mfoods\u001b[0m \u001b[0;34m=\u001b[0m \u001b[0;34m(\u001b[0m\u001b[0;34m'Steak'\u001b[0m\u001b[0;34m,\u001b[0m \u001b[0;34m'Chicken'\u001b[0m\u001b[0;34m,\u001b[0m \u001b[0;34m'Soup'\u001b[0m\u001b[0;34m,\u001b[0m \u001b[0;34m'Rice'\u001b[0m\u001b[0;34m,\u001b[0m \u001b[0;34m'Green Beans'\u001b[0m\u001b[0;34m)\u001b[0m\u001b[0;34m\u001b[0m\u001b[0;34m\u001b[0m\u001b[0m\n\u001b[0;32m----> 2\u001b[0;31m \u001b[0mfoods\u001b[0m\u001b[0;34m[\u001b[0m\u001b[0;36m1\u001b[0m\u001b[0;34m]\u001b[0m \u001b[0;34m=\u001b[0m \u001b[0;34m'Shrimp'\u001b[0m\u001b[0;34m\u001b[0m\u001b[0;34m\u001b[0m\u001b[0m\n\u001b[0m\u001b[1;32m      3\u001b[0m \u001b[0;32mfor\u001b[0m \u001b[0mfood\u001b[0m \u001b[0;32min\u001b[0m \u001b[0mfoods\u001b[0m\u001b[0;34m:\u001b[0m\u001b[0;34m\u001b[0m\u001b[0;34m\u001b[0m\u001b[0m\n\u001b[1;32m      4\u001b[0m      \u001b[0mprint\u001b[0m\u001b[0;34m(\u001b[0m\u001b[0mfood\u001b[0m\u001b[0;34m)\u001b[0m\u001b[0;34m\u001b[0m\u001b[0;34m\u001b[0m\u001b[0m\n",
            "\u001b[0;31mTypeError\u001b[0m: 'tuple' object does not support item assignment"
          ]
        }
      ],
      "source": [
        "foods = ('Steak', 'Chicken', 'Soup', 'Rice', 'Green Beans')\n",
        "foods[1] = 'Shrimp'\n",
        "for food in foods:\n",
        "     print(food)"
      ]
    },
    {
      "cell_type": "markdown",
      "metadata": {
        "id": "uUXsMESjsCOY"
      },
      "source": [
        "The restaurant changes its menu, replacing two of the items with different foods. Add a line that rewrites the tuple, and then use a for loop to print each of the items on the revised menu."
      ]
    },
    {
      "cell_type": "code",
      "execution_count": 37,
      "metadata": {
        "id": "rO3yhABssCOY",
        "colab": {
          "base_uri": "https://localhost:8080/"
        },
        "outputId": "fca4251d-e565-495b-c807-c868b8b28219"
      },
      "outputs": [
        {
          "output_type": "stream",
          "name": "stdout",
          "text": [
            "Original Food:\n",
            "Steak\n",
            "Chicken\n",
            "Soup\n",
            "Rice\n",
            "Green Beans\n",
            "New Food:\n",
            "Steak\n",
            "Chicken\n",
            "Pork\n",
            "Rice\n",
            "Shrimp\n"
          ]
        }
      ],
      "source": [
        "foods = ('Steak', 'Chicken', 'Soup', 'Rice', 'Green Beans')\n",
        "print(\"Original Food:\")\n",
        "for food in foods:\n",
        "     print(food)\n",
        "\n",
        "foods = ('Steak', 'Chicken', 'Pork', 'Rice', 'Shrimp')\n",
        "print(\"New Food:\")\n",
        "for food in foods:\n",
        "     print(food)"
      ]
    }
  ],
  "metadata": {
    "kernelspec": {
      "display_name": "Python 3 (ipykernel)",
      "language": "python",
      "name": "python3"
    },
    "language_info": {
      "codemirror_mode": {
        "name": "ipython",
        "version": 3
      },
      "file_extension": ".py",
      "mimetype": "text/x-python",
      "name": "python",
      "nbconvert_exporter": "python",
      "pygments_lexer": "ipython3",
      "version": "3.8.10"
    },
    "colab": {
      "provenance": [],
      "include_colab_link": true
    }
  },
  "nbformat": 4,
  "nbformat_minor": 0
}