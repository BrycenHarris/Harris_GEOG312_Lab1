{
  "cells": [
    {
      "cell_type": "markdown",
      "metadata": {
        "id": "view-in-github",
        "colab_type": "text"
      },
      "source": [
        "<a href=\"https://colab.research.google.com/github/BrycenHarris/Harris_GEOG312_Labs/blob/main/lab_07.ipynb\" target=\"_parent\"><img src=\"https://colab.research.google.com/assets/colab-badge.svg\" alt=\"Open In Colab\"/></a>"
      ]
    },
    {
      "cell_type": "markdown",
      "metadata": {
        "id": "XRpC2v5FCfa0"
      },
      "source": [
        "[![image](https://colab.research.google.com/assets/colab-badge.svg)](https://colab.research.google.com/github/giswqs/geog-312/blob/master/labs/lab_07.ipynb)\n",
        "[![image](https://binder.pangeo.io/badge_logo.svg)](https://gishub.org/geog312-pangeo)\n",
        "\n",
        "**Brycen Harris**"
      ]
    },
    {
      "cell_type": "code",
      "execution_count": null,
      "metadata": {
        "id": "LsSgiGFSCfa3"
      },
      "outputs": [],
      "source": [
        "from datetime import datetime\n",
        "\n",
        "now = datetime.now()\n",
        "print(f\"Submitted time: {now}\")"
      ]
    },
    {
      "cell_type": "markdown",
      "metadata": {
        "id": "Uu9Nolm8Cfa4"
      },
      "source": [
        "## Question 1\n",
        "**Learning Python:** Open a blank file in your text editor and write a few lines summarizing what you’ve learned about Python so far. Start each line with the phrase *In Python you can. . ..* Save the file as *learning_python.txt* in the same directory as your exercises from this chapter. Write a program that reads the file and prints what you wrote three times. Print the contents once by reading in the entire file, once by looping over the file object, and once by storing the lines in a list and then working with them outside the *with* block."
      ]
    },
    {
      "cell_type": "code",
      "execution_count": 1,
      "metadata": {
        "id": "ZVa_CwtyCfa4",
        "colab": {
          "base_uri": "https://localhost:8080/"
        },
        "outputId": "454b4d0d-94f5-4946-c236-2804c3e34465"
      },
      "outputs": [
        {
          "output_type": "stream",
          "name": "stdout",
          "text": [
            "Reading in the entire file:\n",
            "In Python you can start by understanding the basics and structure of the language.\n",
            "In Python you can declare variables and use various data types like int, float, str, etc.\n",
            "In Python you can use lists to store collections of items and access them by index.\n",
            "In Python you can perform various operations like appending, slicing, and iterating over lists.\n",
            "In Python you can use if statements to perform conditional execution based on conditions.\n",
            "In Python you can use dictionaries to store key-value pairs for efficient data retrieval.\n",
            "In Python you can take user input and create while loops for repetitive execution based on conditions.\n",
            "In Python you can define functions to encapsulate reusable blocks of code.\n",
            "In Python you can create classes to create objects with attributes and methods.\n",
            "\n",
            "\n",
            "Looping over the file object:\n",
            "In Python you can start by understanding the basics and structure of the language.\n",
            "In Python you can declare variables and use various data types like int, float, str, etc.\n",
            "In Python you can use lists to store collections of items and access them by index.\n",
            "In Python you can perform various operations like appending, slicing, and iterating over lists.\n",
            "In Python you can use if statements to perform conditional execution based on conditions.\n",
            "In Python you can use dictionaries to store key-value pairs for efficient data retrieval.\n",
            "In Python you can take user input and create while loops for repetitive execution based on conditions.\n",
            "In Python you can define functions to encapsulate reusable blocks of code.\n",
            "In Python you can create classes to create objects with attributes and methods.\n",
            "\n",
            "Working with lines stored in a list outside the with block:\n",
            "In Python you can start by understanding the basics and structure of the language.\n",
            "In Python you can declare variables and use various data types like int, float, str, etc.\n",
            "In Python you can use lists to store collections of items and access them by index.\n",
            "In Python you can perform various operations like appending, slicing, and iterating over lists.\n",
            "In Python you can use if statements to perform conditional execution based on conditions.\n",
            "In Python you can use dictionaries to store key-value pairs for efficient data retrieval.\n",
            "In Python you can take user input and create while loops for repetitive execution based on conditions.\n",
            "In Python you can define functions to encapsulate reusable blocks of code.\n",
            "In Python you can create classes to create objects with attributes and methods.\n"
          ]
        }
      ],
      "source": [
        "# Writing summaries for each topic to a file\n",
        "with open('python_basics.txt', 'w') as file:\n",
        "    file.write(\"In Python you can start by understanding the basics and structure of the language.\\n\")\n",
        "    file.write(\"In Python you can declare variables and use various data types like int, float, str, etc.\\n\")\n",
        "    file.write(\"In Python you can use lists to store collections of items and access them by index.\\n\")\n",
        "    file.write(\"In Python you can perform various operations like appending, slicing, and iterating over lists.\\n\")\n",
        "    file.write(\"In Python you can use if statements to perform conditional execution based on conditions.\\n\")\n",
        "    file.write(\"In Python you can use dictionaries to store key-value pairs for efficient data retrieval.\\n\")\n",
        "    file.write(\"In Python you can take user input and create while loops for repetitive execution based on conditions.\\n\")\n",
        "    file.write(\"In Python you can define functions to encapsulate reusable blocks of code.\\n\")\n",
        "    file.write(\"In Python you can create classes to create objects with attributes and methods.\\n\")\n",
        "\n",
        "# Reading and printing the contents of the file in three different ways\n",
        "# Reading in the entire file\n",
        "with open('python_basics.txt', 'r') as file:\n",
        "    content = file.read()\n",
        "    print(\"Reading in the entire file:\")\n",
        "    print(content)\n",
        "\n",
        "# Looping over the file object\n",
        "with open('python_basics.txt', 'r') as file:\n",
        "    print(\"\\nLooping over the file object:\")\n",
        "    for line in file:\n",
        "        print(line, end='')\n",
        "\n",
        "# Storing the lines in a list and working with them outside the with block\n",
        "lines = []\n",
        "with open('python_basics.txt', 'r') as file:\n",
        "    lines = file.readlines()\n",
        "\n",
        "print(\"\\nWorking with lines stored in a list outside the with block:\")\n",
        "for line in lines:\n",
        "    print(line, end='')\n"
      ]
    },
    {
      "cell_type": "markdown",
      "metadata": {
        "id": "q6DE1APoCfa5"
      },
      "source": [
        "## Question 2\n",
        "**Learning C:** You can use the replace() method to replace any word in a string with a different word. Here’s a quick example showing how to replace 'dog' with 'cat' in a sentence:\n",
        "```\n",
        "message = \"I really like dogs.\"\n",
        "message.replace('dog', 'cat')\n",
        "'I really like cats.'\n",
        "```\n",
        "Read in each line from the file you just created, *learning_python.txt*, and replace the word *Python* with the name of another language, such as *C*. Print each modified line to the screen."
      ]
    },
    {
      "cell_type": "code",
      "execution_count": 2,
      "metadata": {
        "id": "kVNZOe1WCfa5",
        "colab": {
          "base_uri": "https://localhost:8080/"
        },
        "outputId": "f9f222eb-ea3e-4764-c369-234352e984c8"
      },
      "outputs": [
        {
          "output_type": "stream",
          "name": "stdout",
          "text": [
            "In C you can start by understanding the basics and structure of the language.\n",
            "In C you can declare variables and use various data types like int, float, str, etc.\n",
            "In C you can use lists to store collections of items and access them by index.\n",
            "In C you can perform various operations like appending, slicing, and iterating over lists.\n",
            "In C you can use if statements to perform conditional execution based on conditions.\n",
            "In C you can use dictionaries to store key-value pairs for efficient data retrieval.\n",
            "In C you can take user input and create while loops for repetitive execution based on conditions.\n",
            "In C you can define functions to encapsulate reusable blocks of code.\n",
            "In C you can create classes to create objects with attributes and methods.\n"
          ]
        }
      ],
      "source": [
        "# Read in each line from the file and replace 'Python' with another language\n",
        "with open('python_basics.txt', 'r') as file:\n",
        "    for line in file:\n",
        "        modified_line = line.replace('Python', 'C')\n",
        "        print(modified_line, end='')\n"
      ]
    },
    {
      "cell_type": "markdown",
      "metadata": {
        "id": "BvMDr1SdCfa5"
      },
      "source": [
        "## Question 3\n",
        "**Guest:** Write a program that prompts the user for their name. When they respond, write their name to a file called guest.txt."
      ]
    },
    {
      "cell_type": "code",
      "execution_count": 3,
      "metadata": {
        "id": "qmZxLwJcCfa6",
        "colab": {
          "base_uri": "https://localhost:8080/"
        },
        "outputId": "5e500ffe-d4b8-464c-c17d-564e093b9b0b"
      },
      "outputs": [
        {
          "output_type": "stream",
          "name": "stdout",
          "text": [
            "Please enter your name: Brycen Harris\n",
            "Hello, Brycen Harris! Your name has been written to guest.txt.\n"
          ]
        }
      ],
      "source": [
        "# Prompting the user for their name\n",
        "name = input(\"Please enter your name: \")\n",
        "\n",
        "# Writing the user's name to a file called guest.txt\n",
        "with open('guest.txt', 'w') as file:\n",
        "    file.write(name)\n",
        "    file.write('\\n')  # Adding a newline character for readability or separation if additional entries are made\n",
        "\n",
        "print(f\"Hello, {name}! Your name has been written to guest.txt.\")\n"
      ]
    },
    {
      "cell_type": "markdown",
      "metadata": {
        "id": "3Lllc4ECCfa6"
      },
      "source": [
        "## Question 4\n",
        "**Guest Book:** Write a while loop that prompts users for their name. When they enter their name, print a greeting to the screen and add a line recording their visit in a file called guest_book.txt. Make sure each entry appears on a new line in the file."
      ]
    },
    {
      "cell_type": "code",
      "execution_count": 4,
      "metadata": {
        "id": "6Lc93_AYCfa6",
        "colab": {
          "base_uri": "https://localhost:8080/"
        },
        "outputId": "40dd7cd9-3797-4f2c-9573-2c321fc1dc0f"
      },
      "outputs": [
        {
          "name": "stdout",
          "output_type": "stream",
          "text": [
            "Please enter your name (enter 'q' to quit): Trevor Harris\n",
            "Hello, Trevor Harris! Welcome!\n",
            "Please enter your name (enter 'q' to quit): Ryan Willson\n",
            "Hello, Ryan Willson! Welcome!\n",
            "Please enter your name (enter 'q' to quit): q\n"
          ]
        }
      ],
      "source": [
        "# Function to get user input and update guest book\n",
        "def update_guest_book():\n",
        "    while True:\n",
        "        name = input(\"Please enter your name (enter 'q' to quit): \")\n",
        "\n",
        "        if name.lower() == 'q':\n",
        "            break  # If user inputs 'q', exit the loop\n",
        "        else:\n",
        "            # Greet the user\n",
        "            print(f\"Hello, {name}! Welcome!\")\n",
        "\n",
        "            # Record the visit in guest_book.txt\n",
        "            with open('guest_book.txt', 'a') as file:\n",
        "                file.write(f\"{name}\\n\")  # Writing the name to the guest book file\n",
        "\n",
        "# Call the function to update the guest book\n",
        "update_guest_book()\n"
      ]
    },
    {
      "cell_type": "markdown",
      "metadata": {
        "id": "BQ4U8q8FCfa6"
      },
      "source": [
        "## Question 5\n",
        "**Programming Poll:** Write a while loop that asks people why they like programming. Each time someone enters a reason, add their reason to a file that stores all the responses."
      ]
    },
    {
      "cell_type": "code",
      "execution_count": 5,
      "metadata": {
        "id": "CwzmYGrnCfa6",
        "colab": {
          "base_uri": "https://localhost:8080/"
        },
        "outputId": "6958fd60-3b88-4374-a97b-c7989add6320"
      },
      "outputs": [
        {
          "name": "stdout",
          "output_type": "stream",
          "text": [
            "Why do you like programming? (Enter 'q' to quit): It allows me to create\n",
            "Why do you like programming? (Enter 'q' to quit): I want to make videogames\n",
            "Why do you like programming? (Enter 'q' to quit): Its for school\n",
            "Why do you like programming? (Enter 'q' to quit): q\n"
          ]
        }
      ],
      "source": [
        "# Function to get reasons and store them in a file\n",
        "def store_reasons():\n",
        "    with open('programming_likes.txt', 'a') as file:\n",
        "        while True:\n",
        "            reason = input(\"Why do you like programming? (Enter 'q' to quit): \")\n",
        "\n",
        "            if reason.lower() == 'q':\n",
        "                break  # If user inputs 'q', exit the loop\n",
        "            else:\n",
        "                file.write(f\"{reason}\\n\")  # Writing the reason to the file\n",
        "\n",
        "# Call the function to store reasons in the file\n",
        "store_reasons()\n"
      ]
    },
    {
      "cell_type": "markdown",
      "metadata": {
        "id": "2G4YI_xFCfa7"
      },
      "source": [
        "## Question 6\n",
        "**Addition:** One common problem when prompting for numerical input occurs when people provide text instead of numbers. When you try to convert the input to an int, you’ll get a ValueError. Write a program that prompts for two numbers. Add them together and print the result. Catch the ValueError if either input value is not a number, and print a friendly error message. Test your program by entering two numbers and then by entering some text instead of a number."
      ]
    },
    {
      "cell_type": "code",
      "execution_count": 7,
      "metadata": {
        "id": "3aQDH4k8Cfa7",
        "colab": {
          "base_uri": "https://localhost:8080/"
        },
        "outputId": "121a0310-618d-48bf-b7b3-199c39ae2142"
      },
      "outputs": [
        {
          "output_type": "stream",
          "name": "stdout",
          "text": [
            "Enter the first number: ten\n",
            "Please enter valid numbers. Try again.\n",
            "Enter the first number: k\n",
            "Please enter valid numbers. Try again.\n",
            "Enter the first number: six\n",
            "Please enter valid numbers. Try again.\n",
            "Enter the first number: 8\n",
            "Enter the second number: 2\n",
            "The sum of 8 and 2 is: 10\n"
          ]
        }
      ],
      "source": [
        "while True:\n",
        "    try:\n",
        "        # Prompting the user for two numbers\n",
        "        num1 = input(\"Enter the first number: \")\n",
        "        num1 = int(num1)  # Attempt to convert the input to an integer\n",
        "\n",
        "        num2 = input(\"Enter the second number: \")\n",
        "        num2 = int(num2)  # Attempt to convert the input to an integer\n",
        "\n",
        "        # Adding the numbers together\n",
        "        result = num1 + num2\n",
        "\n",
        "        print(f\"The sum of {num1} and {num2} is: {result}\")\n",
        "        break  # Exit the loop if no ValueError occurs\n",
        "\n",
        "    except ValueError:\n",
        "        print(\"Please enter valid numbers. Try again.\")\n",
        "\n"
      ]
    },
    {
      "cell_type": "markdown",
      "metadata": {
        "id": "3xwVn9szCfa7"
      },
      "source": [
        "## Question 7\n",
        "**Addition Calculator:** Wrap your code from Question 6 in a while loop so the user can continue entering numbers even if they make a mistake and enter text instead of a number."
      ]
    },
    {
      "cell_type": "code",
      "execution_count": 9,
      "metadata": {
        "id": "diHp60UICfa7",
        "colab": {
          "base_uri": "https://localhost:8080/"
        },
        "outputId": "02c78200-3e5e-40e8-9259-dfe1048b22ba"
      },
      "outputs": [
        {
          "output_type": "stream",
          "name": "stdout",
          "text": [
            "Enter the first number: 8\n",
            "Enter the second number: b\n",
            "Please enter valid numbers. Try again.\n",
            "Enter the first number: 8\n",
            "Enter the second number: 2\n",
            "The sum of 8 and 2 is: 10\n"
          ]
        }
      ],
      "source": [
        "while True:\n",
        "    try:\n",
        "        # Prompting the user for two numbers\n",
        "        num1 = input(\"Enter the first number: \")\n",
        "        num1 = int(num1)  # Attempt to convert the input to an integer\n",
        "\n",
        "        num2 = input(\"Enter the second number: \")\n",
        "        num2 = int(num2)  # Attempt to convert the input to an integer\n",
        "\n",
        "        # Adding the numbers together\n",
        "        result = num1 + num2\n",
        "\n",
        "        print(f\"The sum of {num1} and {num2} is: {result}\")\n",
        "        break  # Exit the loop after a successful calculation\n",
        "\n",
        "    except ValueError:\n",
        "        print(\"Please enter valid numbers. Try again.\")\n"
      ]
    },
    {
      "cell_type": "markdown",
      "metadata": {
        "id": "G6m9EE8-Cfa7"
      },
      "source": [
        "## Question 8\n",
        "**Cats and Dogs:** Make two files, *cats.txt* and *dogs.txt*. Store at least three names of cats in the first file and three names of dogs in the second file. Write a program that tries to read these files and print the contents of the file to the screen. Wrap your code in a `try-except` block to catch the `FileNotFound` error, and print a friendly message if a file is missing. Move one of the files to a different location on your system, and make sure the code in the `except` block executes properly."
      ]
    },
    {
      "cell_type": "code",
      "execution_count": 13,
      "metadata": {
        "id": "m0U0hRV9Cfa7",
        "colab": {
          "base_uri": "https://localhost:8080/"
        },
        "outputId": "ec237465-3580-4866-ebdd-9cf7665d9f2a"
      },
      "outputs": [
        {
          "output_type": "stream",
          "name": "stdout",
          "text": [
            "Contents of cats.txt:\n",
            "Whiskers\n",
            "Snowball\n",
            "Mittens\n",
            "\n",
            "Contents of dogs.txt:\n",
            "Buddy\n",
            "Max\n",
            "Bailey\n",
            "\n"
          ]
        }
      ],
      "source": [
        "# Create the files 'cats.txt' and 'dogs.txt' with provided content\n",
        "cat_names = [\"Whiskers\", \"Snowball\", \"Mittens\"]\n",
        "dog_names = [\"Buddy\", \"Max\", \"Bailey\"]\n",
        "\n",
        "with open('cats.txt', 'w') as cats_file:\n",
        "    for name in cat_names:\n",
        "        cats_file.write(name + '\\n')\n",
        "\n",
        "with open('dogs.txt', 'w') as dogs_file:\n",
        "    for name in dog_names:\n",
        "        dogs_file.write(name + '\\n')\n",
        "\n",
        "file_names = ['cats.txt', 'dogs.txt']\n",
        "\n",
        "# Attempt to read and print the contents of the files, handling FileNotFoundError\n",
        "for file_name in file_names:\n",
        "    try:\n",
        "        with open(file_name, 'r') as file:\n",
        "            content = file.read()\n",
        "            print(f\"Contents of {file_name}:\")\n",
        "            print(content)\n",
        "\n",
        "    except FileNotFoundError:\n",
        "        print(f\"Sorry, the file '{file_name}' was not found.\")\n"
      ]
    },
    {
      "cell_type": "markdown",
      "metadata": {
        "id": "K583pUiFCfa7"
      },
      "source": [
        "## Question 9\n",
        "**Silent Cats and Dogs:** Modify your except block in Question 8 to fail silently if either file is missing."
      ]
    },
    {
      "cell_type": "code",
      "execution_count": 17,
      "metadata": {
        "id": "kxys6Q5ICfa8",
        "colab": {
          "base_uri": "https://localhost:8080/"
        },
        "outputId": "93b927a6-cdef-48e4-a8ac-d78f4b8b162e"
      },
      "outputs": [
        {
          "output_type": "stream",
          "name": "stdout",
          "text": [
            "Contents of cats.txt:\n",
            "Whiskers\n",
            "Snowball\n",
            "Mittens\n",
            "\n",
            "Contents of dogs.txt:\n",
            "Buddy\n",
            "Max\n",
            "Bailey\n",
            "\n"
          ]
        }
      ],
      "source": [
        "# Create the files 'cats.txt' and 'dogs.txt' with provided content\n",
        "cat_names = [\"Whiskers\", \"Snowball\", \"Mittens\"]\n",
        "dog_names = [\"Buddy\", \"Max\", \"Bailey\"]\n",
        "\n",
        "with open('cats.txt', 'w') as cats_file:\n",
        "    for name in cat_names:\n",
        "        cats_file.write(name + '\\n')\n",
        "\n",
        "with open('dogs.txt', 'w') as dogs_file:\n",
        "    for name in dog_names:\n",
        "        dogs_file.write(name + '\\n')\n",
        "\n",
        "file_names = ['cats.txt', 'dogs.txt']\n",
        "\n",
        "# Attempt to read and print the contents of the files, handling FileNotFoundError silently\n",
        "for file_name in file_names:\n",
        "    try:\n",
        "        with open(file_name, 'r') as file:\n",
        "            content = file.read()\n",
        "            print(f\"Contents of {file_name}:\")\n",
        "            print(content)\n",
        "\n",
        "    except FileNotFoundError:\n",
        "        pass  # Fail silently without printing any message for the missing file\n"
      ]
    },
    {
      "cell_type": "markdown",
      "metadata": {
        "id": "dG6oU0Q3Cfa8"
      },
      "source": [
        "## Question 10\n",
        "**Common Words:** Visit Project Gutenberg (https://gutenberg.org/) and find a few texts you’d like to analyze. Download the text files for these works, or copy the raw text from your browser into a text file on your computer. You can use the `count()` method to find out how many times a word or phrase appears in a string. For example, the following code counts the number of times 'row' appears in a string:"
      ]
    },
    {
      "cell_type": "code",
      "execution_count": null,
      "metadata": {
        "id": "2mylOITjCfa8",
        "outputId": "965ae3a6-03cf-4159-8d6d-7d73225003c2"
      },
      "outputs": [
        {
          "data": {
            "text/plain": [
              "2"
            ]
          },
          "execution_count": 1,
          "metadata": {},
          "output_type": "execute_result"
        }
      ],
      "source": [
        "line = \"Row, row, row your boat\"\n",
        "line.count('row')"
      ]
    },
    {
      "cell_type": "code",
      "execution_count": null,
      "metadata": {
        "id": "Bz3wUPjcCfa8",
        "outputId": "57a89cdd-f0e9-45de-dd9d-a55e841f9e92"
      },
      "outputs": [
        {
          "data": {
            "text/plain": [
              "3"
            ]
          },
          "execution_count": 2,
          "metadata": {},
          "output_type": "execute_result"
        }
      ],
      "source": [
        "line.lower().count('row')"
      ]
    },
    {
      "cell_type": "markdown",
      "metadata": {
        "id": "0JyR1CB0Cfa8"
      },
      "source": [
        "Notice that converting the string to lowercase using lower() catches all appearances of the word you’re looking for, regardless of how it’s formatted.\n",
        "\n",
        "Write a program that reads the files you found at Project Gutenberg and determines how many times the word `the` appears in each text. This will be an approximation because it will also count words such as `then` and `there`. Try counting `the`, with a space in the string, and see how much lower your count is."
      ]
    },
    {
      "cell_type": "code",
      "execution_count": 47,
      "metadata": {
        "id": "PRGo6QNgCfa8",
        "colab": {
          "base_uri": "https://localhost:8080/"
        },
        "outputId": "9f9b1d15-b5f3-46a2-98ba-ab6373efc1e3"
      },
      "outputs": [
        {
          "output_type": "stream",
          "name": "stdout",
          "text": [
            "File not found. Please provide the correct file path.\n"
          ]
        }
      ],
      "source": [
        "file_path = 'C:/Users/Brycen Harris/Desktop/312Lab7Text.txt'\n",
        "file_path = 'C:/Users/Brycen Harris/Desktop/312Lab7TextTwo.txt'\n",
        "\n",
        "try:\n",
        "    with open(file_path, 'r', encoding='utf-8') as file:\n",
        "        text = file.read()\n",
        "\n",
        "        # Count occurrences of 'the'\n",
        "        count_the = text.lower().count('the')\n",
        "\n",
        "        # Count occurrences of ' the ' (with space on both sides)\n",
        "        count_the_with_space = text.lower().count(' the ')\n",
        "\n",
        "        print(f\"Number of times 'the' appears: {count_the}\")\n",
        "        print(f\"Number of times ' the ' appears: {count_the_with_space}\")\n",
        "\n",
        "except FileNotFoundError:\n",
        "    print(\"File not found. Please provide the correct file path.\")\n"
      ]
    },
    {
      "cell_type": "markdown",
      "metadata": {
        "id": "pYNzhA0tCfa9"
      },
      "source": [
        "## Question 11\n",
        "**Favorite Number:** Write a program that prompts for the user’s favorite number. Use `json.dump()` to store this number in a file. Write a separate program that reads in this value and prints the message, `I know your favorite number! It’s _____.`"
      ]
    },
    {
      "cell_type": "code",
      "source": [
        "import json\n",
        "\n",
        "# Prompt the user for their favorite number\n",
        "favorite_number = input(\"What is your favorite number? \")\n",
        "\n",
        "# Store the favorite number in a JSON file\n",
        "file_name = 'favorite_number.json'\n",
        "with open(file_name, 'w') as file:\n",
        "    json.dump(favorite_number, file)\n",
        "\n",
        "print(\"Favorite number has been saved to 'favorite_number.json'.\")\n"
      ],
      "metadata": {
        "colab": {
          "base_uri": "https://localhost:8080/"
        },
        "id": "3sVlkQQLxkUB",
        "outputId": "4304cbe6-2baf-4d53-838f-028159eae965"
      },
      "execution_count": 30,
      "outputs": [
        {
          "output_type": "stream",
          "name": "stdout",
          "text": [
            "What is your favorite number? 777\n",
            "Favorite number has been saved to 'favorite_number.json'.\n"
          ]
        }
      ]
    },
    {
      "cell_type": "code",
      "execution_count": 31,
      "metadata": {
        "id": "MEpeLpp6Cfa9",
        "colab": {
          "base_uri": "https://localhost:8080/"
        },
        "outputId": "2f0b4dec-59a4-498c-de79-0efe03db1d27"
      },
      "outputs": [
        {
          "output_type": "stream",
          "name": "stdout",
          "text": [
            "I know your favorite number! It's 777.\n"
          ]
        }
      ],
      "source": [
        "import json\n",
        "\n",
        "# Read the favorite number from the JSON file\n",
        "file_name = 'favorite_number.json'\n",
        "try:\n",
        "    with open(file_name, 'r') as file:\n",
        "        favorite_number = json.load(file)\n",
        "        print(f\"I know your favorite number! It's {favorite_number}.\")\n",
        "\n",
        "except FileNotFoundError:\n",
        "    print(f\"File '{file_name}' not found.\")\n"
      ]
    },
    {
      "cell_type": "markdown",
      "metadata": {
        "id": "kUcvRrn6Cfa9"
      },
      "source": [
        "## Question 12\n",
        "**Favorite Number Remembered:** Combine the two programs from Question 10 into one file. If the number is already stored, report the favorite number to the user. If not, prompt for the user’s favorite number and store it in a file. Run the program twice to see that it works."
      ]
    },
    {
      "cell_type": "code",
      "execution_count": 59,
      "metadata": {
        "id": "gJDS2QFwCfa9",
        "colab": {
          "base_uri": "https://localhost:8080/"
        },
        "outputId": "f19d9c24-0960-4a48-9467-ebed79c6d315"
      },
      "outputs": [
        {
          "output_type": "stream",
          "name": "stdout",
          "text": [
            "Your favorite numbers are:\n",
            "8888\n",
            "Enter 'q' to quit or any other key to continue: 777\n",
            "Your favorite numbers are:\n",
            "8888\n",
            "Enter 'q' to quit or any other key to continue: q\n",
            "All stored favorite numbers:\n",
            "8888\n"
          ]
        }
      ],
      "source": [
        "favorite_number_file = 'favorite_number.txt'\n",
        "\n",
        "while True:\n",
        "    try:\n",
        "        with open(favorite_number_file, 'r') as file:\n",
        "            stored_numbers = file.readlines()\n",
        "            if stored_numbers:\n",
        "                print(\"Your favorite numbers are:\")\n",
        "                for number in stored_numbers:\n",
        "                    print(number.strip())  # Print each stored number\n",
        "\n",
        "            else:\n",
        "                number = input(\"Enter your favorite number: \")\n",
        "                with open(favorite_number_file, 'a') as new_file:\n",
        "                    new_file.write(number + '\\n')\n",
        "                    print(f\"Favorite number {number} stored.\")\n",
        "\n",
        "    except FileNotFoundError:\n",
        "        number = input(\"Enter your favorite number: \")\n",
        "        with open(favorite_number_file, 'w') as new_file:\n",
        "            new_file.write(number + '\\n')\n",
        "            print(f\"Favorite number {number} stored.\")\n",
        "\n",
        "    choice = input(\"Enter 'q' to quit or any other key to continue: \")\n",
        "    if choice.lower() == 'q':\n",
        "        with open(favorite_number_file, 'r') as file:\n",
        "            stored_numbers = file.readlines()\n",
        "            print(\"All stored favorite numbers:\")\n",
        "            for number in stored_numbers:\n",
        "                print(number.strip())  # Print all stored numbers\n",
        "        break\n"
      ]
    }
  ],
  "metadata": {
    "kernelspec": {
      "display_name": "Python 3",
      "language": "python",
      "name": "python3"
    },
    "language_info": {
      "codemirror_mode": {
        "name": "ipython",
        "version": 3
      },
      "file_extension": ".py",
      "mimetype": "text/x-python",
      "name": "python",
      "nbconvert_exporter": "python",
      "pygments_lexer": "ipython3",
      "version": "3.8.5"
    },
    "colab": {
      "provenance": [],
      "include_colab_link": true
    }
  },
  "nbformat": 4,
  "nbformat_minor": 0
}