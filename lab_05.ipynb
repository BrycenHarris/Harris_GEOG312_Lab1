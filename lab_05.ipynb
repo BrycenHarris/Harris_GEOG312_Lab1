{
  "cells": [
    {
      "cell_type": "markdown",
      "metadata": {
        "id": "view-in-github",
        "colab_type": "text"
      },
      "source": [
        "<a href=\"https://colab.research.google.com/github/BrycenHarris/Harris_GEOG312_Labs/blob/main/lab_05.ipynb\" target=\"_parent\"><img src=\"https://colab.research.google.com/assets/colab-badge.svg\" alt=\"Open In Colab\"/></a>"
      ]
    },
    {
      "cell_type": "markdown",
      "metadata": {
        "id": "gziwFMwztW6x"
      },
      "source": [
        "[![image](https://colab.research.google.com/assets/colab-badge.svg)](https://colab.research.google.com/github/giswqs/geog-312/blob/master/labs/lab_05.ipynb)\n",
        "[![image](https://binder.pangeo.io/badge_logo.svg)](https://gishub.org/geog312-pangeo)\n",
        "\n",
        "**Firstname Lastname** Brycen Harris"
      ]
    },
    {
      "cell_type": "code",
      "execution_count": null,
      "metadata": {
        "id": "lt1cFHMGtW6z"
      },
      "outputs": [],
      "source": [
        "from datetime import datetime\n",
        "\n",
        "now = datetime.now()\n",
        "print(f\"Submitted time: {now}\")"
      ]
    },
    {
      "cell_type": "markdown",
      "metadata": {
        "id": "ZMF_rq59tW60"
      },
      "source": [
        "## Question 1\n",
        "**Person:** Use a dictionary to store information about a person you know. Store their first name, last name, age, and the city in which they live. You should have keys such as first_name, last_name, age, and city. Print each piece of information stored in your dictionary."
      ]
    },
    {
      "cell_type": "code",
      "execution_count": 1,
      "metadata": {
        "id": "g-KcQifrtW60",
        "colab": {
          "base_uri": "https://localhost:8080/"
        },
        "outputId": "6fd72daf-6313-4f40-94ab-35654c800916"
      },
      "outputs": [
        {
          "output_type": "stream",
          "name": "stdout",
          "text": [
            "First Name: John\n",
            "Last Name: Doe\n",
            "Age: 30\n",
            "City: New York\n"
          ]
        }
      ],
      "source": [
        "# Create a dictionary to store information about a person\n",
        "person_info = {\n",
        "    'first_name': 'John',\n",
        "    'last_name': 'Doe',\n",
        "    'age': 30,\n",
        "    'city': 'New York'\n",
        "}\n",
        "\n",
        "# Print each piece of information from the dictionary\n",
        "print(\"First Name:\", person_info['first_name'])\n",
        "print(\"Last Name:\", person_info['last_name'])\n",
        "print(\"Age:\", person_info['age'])\n",
        "print(\"City:\", person_info['city'])\n"
      ]
    },
    {
      "cell_type": "markdown",
      "metadata": {
        "id": "b_mAtU03tW61"
      },
      "source": [
        "## Question 2\n",
        "**Favorite Numbers:** Use a dictionary to store people’s favorite numbers. Think of five names, and use them as keys in your dictionary. Think of a favorite number for each person, and store each as a value in your dictionary. Print each person’s name and their favorite number. For even more fun, poll a few friends and get some actual data for your program."
      ]
    },
    {
      "cell_type": "code",
      "execution_count": 4,
      "metadata": {
        "id": "hFuDGLICtW61",
        "colab": {
          "base_uri": "https://localhost:8080/"
        },
        "outputId": "a1f83519-4c46-453a-e98a-ac7ab3fa3a2a"
      },
      "outputs": [
        {
          "output_type": "stream",
          "name": "stdout",
          "text": [
            "Ryan's favorite number is 42\n",
            "Jake's favorite number is 7\n",
            "Dylan's favorite number is 23\n",
            "Trevor's favorite number is 69\n",
            "Colby's favorite number is 21\n"
          ]
        }
      ],
      "source": [
        "# Create a dictionary to store people's favorite numbers\n",
        "favorite_numbers = {\n",
        "    'Ryan': 42,\n",
        "    'Jake': 7,\n",
        "    'Dylan': 23,\n",
        "    'Trevor': 69,\n",
        "    'Colby': 21\n",
        "}\n",
        "\n",
        "# Print each person's name and their favorite number\n",
        "for name, number in favorite_numbers.items():\n",
        "    print(name + \"'s favorite number is\", number)\n"
      ]
    },
    {
      "cell_type": "markdown",
      "metadata": {
        "id": "aeMjn4H2tW61"
      },
      "source": [
        "## Question 3\n",
        "**Glossary:** A Python dictionary can be used to model an actual dictionary. However, to avoid confusion, let’s call it a glossary.\n",
        "\n",
        "* Think of five programming words you’ve learned about in the previous chapters. Use these words as the keys in your glossary, and store their meanings as values.\n",
        "* Print each word and its meaning as neatly formatted output. You might print the word followed by a colon and then its meaning, or print the word on one line and then print its meaning indented on a second line. Use the newline character (\\n) to insert a blank line between each word-meaning pair in your output."
      ]
    },
    {
      "cell_type": "code",
      "execution_count": 5,
      "metadata": {
        "id": "T0kFj3uQtW62",
        "colab": {
          "base_uri": "https://localhost:8080/"
        },
        "outputId": "e1355b82-9ca0-4418-e5f3-1da53df64c15"
      },
      "outputs": [
        {
          "output_type": "stream",
          "name": "stdout",
          "text": [
            "variable:\n",
            "A named storage location in a program that can hold data.\n",
            "\n",
            "function:\n",
            "A reusable block of code that performs a specific task.\n",
            "\n",
            "loop:\n",
            "A control structure that repeats a set of instructions as long as a condition is met.\n",
            "\n",
            "if statement:\n",
            "A construct that allows you to make decisions in your code.\n",
            "\n",
            "list:\n",
            "A collection of items that are ordered and changeable.\n",
            "\n"
          ]
        }
      ],
      "source": [
        "# Create a glossary to store programming words and their meanings\n",
        "glossary = {\n",
        "    'variable': 'A named storage location in a program that can hold data.',\n",
        "    'function': 'A reusable block of code that performs a specific task.',\n",
        "    'loop': 'A control structure that repeats a set of instructions as long as a condition is met.',\n",
        "    'if statement': 'A construct that allows you to make decisions in your code.',\n",
        "    'list': 'A collection of items that are ordered and changeable.'\n",
        "}\n",
        "\n",
        "# Print each word and its meaning with a newline character separating them\n",
        "for word, meaning in glossary.items():\n",
        "    print(f\"{word}:\\n{meaning}\\n\")\n"
      ]
    },
    {
      "cell_type": "markdown",
      "metadata": {
        "id": "gYm-b8IVtW62"
      },
      "source": [
        "## Question 4\n",
        "**Glossary 2:** Now that you know how to loop through a dictionary, clean up the code from Question 3 by replacing your series of print() calls with a loop that runs through the dictionary’s keys and values. When you’re sure that your loop works, add five more Python terms to your glossary. When you run your program again, these new words and meanings should automatically be included in the output."
      ]
    },
    {
      "cell_type": "code",
      "execution_count": 7,
      "metadata": {
        "id": "fwhX0d0PtW62",
        "colab": {
          "base_uri": "https://localhost:8080/"
        },
        "outputId": "5ef5b46c-6960-4f2a-aa12-9048f5a984e6"
      },
      "outputs": [
        {
          "output_type": "stream",
          "name": "stdout",
          "text": [
            "Initial Glossary:\n",
            "variable:\n",
            "A named storage location in a program that can hold data.\n",
            "\n",
            "function:\n",
            "A reusable block of code that performs a specific task.\n",
            "\n",
            "loop:\n",
            "A control structure that repeats a set of instructions as long as a condition is met.\n",
            "\n",
            "if statement:\n",
            "A construct that allows you to make decisions in your code.\n",
            "\n",
            "list:\n",
            "A collection of items that are ordered and changeable.\n",
            "\n",
            "\n",
            "Updated Glossary:\n",
            "variable:\n",
            "A named storage location in a program that can hold data.\n",
            "\n",
            "function:\n",
            "A reusable block of code that performs a specific task.\n",
            "\n",
            "loop:\n",
            "A control structure that repeats a set of instructions as long as a condition is met.\n",
            "\n",
            "if statement:\n",
            "A construct that allows you to make decisions in your code.\n",
            "\n",
            "list:\n",
            "A collection of items that are ordered and changeable.\n",
            "\n",
            "module:\n",
            "A file containing Python code that can be imported and reused in other programs.\n",
            "\n",
            "dictionary:\n",
            "A collection of key-value pairs that allows efficient data retrieval.\n",
            "\n",
            "tuple:\n",
            "An ordered, immutable collection of elements.\n",
            "\n",
            "boolean:\n",
            "A data type representing True or False values.\n",
            "\n",
            "method:\n",
            "A function associated with an object.\n",
            "\n"
          ]
        }
      ],
      "source": [
        "# Create a glossary to store programming words and their meanings\n",
        "glossary = {\n",
        "    'variable': 'A named storage location in a program that can hold data.',\n",
        "    'function': 'A reusable block of code that performs a specific task.',\n",
        "    'loop': 'A control structure that repeats a set of instructions as long as a condition is met.',\n",
        "    'if statement': 'A construct that allows you to make decisions in your code.',\n",
        "    'list': 'A collection of items that are ordered and changeable.'\n",
        "}\n",
        "\n",
        "# Function to print the glossary\n",
        "def print_glossary(glossary):\n",
        "    for word, meaning in glossary.items():\n",
        "        print(f\"{word}:\\n{meaning}\\n\")\n",
        "\n",
        "# Print the initial glossary\n",
        "print(\"Initial Glossary:\")\n",
        "print_glossary(glossary)\n",
        "\n",
        "# Add new terms to the glossary\n",
        "glossary['module'] = 'A file containing Python code that can be imported and reused in other programs.'\n",
        "glossary['dictionary'] = 'A collection of key-value pairs that allows efficient data retrieval.'\n",
        "glossary['tuple'] = 'An ordered, immutable collection of elements.'\n",
        "glossary['boolean'] = 'A data type representing True or False values.'\n",
        "glossary['method'] = 'A function associated with an object.'\n",
        "\n",
        "# Print the updated glossary\n",
        "print(\"\\nUpdated Glossary:\")\n",
        "print_glossary(glossary)\n"
      ]
    },
    {
      "cell_type": "markdown",
      "metadata": {
        "id": "1kqet_vktW62"
      },
      "source": [
        "## Question 5\n",
        "**Rivers:** Make a dictionary containing three major rivers and the country each river runs through. One key-value pair might be 'nile': 'egypt'.\n",
        "\n",
        "* Use a loop to print a sentence about each river, such as *The Nile runs through Egypt.*\n",
        "* Use a loop to print the name of each river included in the dictionary.\n",
        "* Use a loop to print the name of each country included in the dictionary."
      ]
    },
    {
      "cell_type": "code",
      "execution_count": 9,
      "metadata": {
        "id": "NlcT1gZ6tW62",
        "colab": {
          "base_uri": "https://localhost:8080/"
        },
        "outputId": "02e9c062-8cce-42d5-ebc1-977425838a4f"
      },
      "outputs": [
        {
          "output_type": "stream",
          "name": "stdout",
          "text": [
            "Rivers and the countries they run through:\n",
            "The Nile river runs through Egypt.\n",
            "The Amazon river runs through Brazil.\n",
            "The Yangtze river runs through China.\n",
            "\n",
            "List of rivers:\n",
            "Nile\n",
            "Amazon\n",
            "Yangtze\n",
            "\n",
            "List of countries:\n",
            "Egypt\n",
            "Brazil\n",
            "China\n"
          ]
        }
      ],
      "source": [
        "# Create a dictionary of rivers and the countries they run through\n",
        "rivers = {\n",
        "    'Nile': 'Egypt',\n",
        "    'Amazon': 'Brazil',\n",
        "    'Yangtze': 'China'\n",
        "}\n",
        "\n",
        "# Print a sentence about each river\n",
        "print(\"Rivers and the countries they run through:\")\n",
        "for river, country in rivers.items():\n",
        "    print(f\"The {river} river runs through {country}.\")\n",
        "\n",
        "# Print the names of each river\n",
        "print(\"\\nList of rivers:\")\n",
        "for river in rivers.keys():\n",
        "    print(river)\n",
        "\n",
        "# Print the names of each country\n",
        "print(\"\\nList of countries:\")\n",
        "for country in rivers.values():\n",
        "    print(country)\n"
      ]
    },
    {
      "cell_type": "markdown",
      "metadata": {
        "id": "hoEVY7cItW62"
      },
      "source": [
        "## Question 6\n",
        "**Polling:** Based on the dictionary below (i.e., favorite_languages):\n",
        "\n",
        "* Make a list of people who should take the favorite languages poll. Include some names that are already in the dictionary and some that are not.\n",
        "* Loop through the list of people who should take the poll. If they have already taken the poll, print a message thanking them for responding. If they have not yet taken the poll, print a message inviting them to take the poll."
      ]
    },
    {
      "cell_type": "code",
      "execution_count": 13,
      "metadata": {
        "id": "4b1bnTFUtW63",
        "colab": {
          "base_uri": "https://localhost:8080/"
        },
        "outputId": "0af26b05-d687-45dc-9c78-212c51d1ab68"
      },
      "outputs": [
        {
          "output_type": "stream",
          "name": "stdout",
          "text": [
            "Thank you, Jen, for responding to the poll!\n",
            "Thank you, Sarah, for responding to the poll!\n",
            "Mike, we invite you to take the favorite languages poll.\n",
            "Alice, we invite you to take the favorite languages poll.\n",
            "Thank you, Edward, for responding to the poll!\n",
            "Thank you, Phil, for responding to the poll!\n",
            "Tom, we invite you to take the favorite languages poll.\n"
          ]
        }
      ],
      "source": [
        "# The existing favorite_languages dictionary\n",
        "favorite_languages = {\n",
        "    'jen': 'python',\n",
        "    'sarah': 'c',\n",
        "    'edward': 'ruby',\n",
        "    'phil': 'python',\n",
        "}\n",
        "\n",
        "# List of people who should take the poll\n",
        "people_to_poll = ['jen', 'sarah', 'mike', 'alice', 'edward', 'phil', 'Tom']\n",
        "\n",
        "# Loop through the list of people to take the poll\n",
        "for person in people_to_poll:\n",
        "    if person in favorite_languages:\n",
        "        print(f\"Thank you, {person.title()}, for responding to the poll!\")\n",
        "    else:\n",
        "        print(f\"{person.title()}, we invite you to take the favorite languages poll.\")\n"
      ]
    },
    {
      "cell_type": "markdown",
      "metadata": {
        "id": "qAwfr8FItW63"
      },
      "source": []
    },
    {
      "cell_type": "markdown",
      "metadata": {
        "id": "rTlgVc2atW63"
      },
      "source": [
        "## Question 7\n",
        "**People:** Start with the program you wrote for Question 1. Make two new dictionaries representing different people, and store all three dictionaries in a list called `people`. Loop through your list of people. As you loop through the list, print everything you know about each person."
      ]
    },
    {
      "cell_type": "code",
      "execution_count": 14,
      "metadata": {
        "id": "vYSAhvXhtW63",
        "colab": {
          "base_uri": "https://localhost:8080/"
        },
        "outputId": "4251ad59-ab85-428b-d8f7-926cb375c762"
      },
      "outputs": [
        {
          "output_type": "stream",
          "name": "stdout",
          "text": [
            "First Name: John\n",
            "Last Name: Doe\n",
            "Age: 30\n",
            "City: New York\n",
            "\n",
            "First Name: Alice\n",
            "Last Name: Johnson\n",
            "Age: 25\n",
            "City: Los Angeles\n",
            "\n",
            "First Name: Bob\n",
            "Last Name: Smith\n",
            "Age: 40\n",
            "City: Chicago\n",
            "\n"
          ]
        }
      ],
      "source": [
        "# Create dictionaries for three different people\n",
        "person1 = {\n",
        "    'first_name': 'John',\n",
        "    'last_name': 'Doe',\n",
        "    'age': 30,\n",
        "    'city': 'New York'\n",
        "}\n",
        "\n",
        "person2 = {\n",
        "    'first_name': 'Alice',\n",
        "    'last_name': 'Johnson',\n",
        "    'age': 25,\n",
        "    'city': 'Los Angeles'\n",
        "}\n",
        "\n",
        "person3 = {\n",
        "    'first_name': 'Bob',\n",
        "    'last_name': 'Smith',\n",
        "    'age': 40,\n",
        "    'city': 'Chicago'\n",
        "}\n",
        "\n",
        "# Store all three dictionaries in a list called people\n",
        "people = [person1, person2, person3]\n",
        "\n",
        "# Loop through the list of people and print everything you know about each person\n",
        "for person in people:\n",
        "    print(\"First Name:\", person['first_name'])\n",
        "    print(\"Last Name:\", person['last_name'])\n",
        "    print(\"Age:\", person['age'])\n",
        "    print(\"City:\", person['city'])\n",
        "    print()  # Add a blank line to separate each person's information\n"
      ]
    },
    {
      "cell_type": "markdown",
      "metadata": {
        "id": "IDqLwBFrtW63"
      },
      "source": [
        "## Question 8\n",
        "**Pets:** Make several dictionaries, where each dictionary represents a different pet. In each dictionary, include the kind of animal and the owner’s name. Store these dictionaries in a list called `pets`. Next, loop through your list and as you do, print everything you know about each pet."
      ]
    },
    {
      "cell_type": "code",
      "execution_count": 15,
      "metadata": {
        "id": "JBy3sX8ItW63",
        "colab": {
          "base_uri": "https://localhost:8080/"
        },
        "outputId": "b8d15d5f-e212-442c-e312-1ac0048dc1a3"
      },
      "outputs": [
        {
          "output_type": "stream",
          "name": "stdout",
          "text": [
            "Kind of Animal: Dog\n",
            "Owner's Name: Alice\n",
            "\n",
            "Kind of Animal: Cat\n",
            "Owner's Name: Bob\n",
            "\n",
            "Kind of Animal: Fish\n",
            "Owner's Name: Charlie\n",
            "\n"
          ]
        }
      ],
      "source": [
        "# Create dictionaries for different pets\n",
        "pet1 = {\n",
        "    'kind': 'Dog',\n",
        "    'owner': 'Alice'\n",
        "}\n",
        "\n",
        "pet2 = {\n",
        "    'kind': 'Cat',\n",
        "    'owner': 'Bob'\n",
        "}\n",
        "\n",
        "pet3 = {\n",
        "    'kind': 'Fish',\n",
        "    'owner': 'Charlie'\n",
        "}\n",
        "\n",
        "# Store all pet dictionaries in a list called pets\n",
        "pets = [pet1, pet2, pet3]\n",
        "\n",
        "# Loop through the list of pets and print everything you know about each pet\n",
        "for pet in pets:\n",
        "    print(\"Kind of Animal:\", pet['kind'])\n",
        "    print(\"Owner's Name:\", pet['owner'])\n",
        "    print()  # Add a blank line to separate each pet's information\n"
      ]
    },
    {
      "cell_type": "markdown",
      "metadata": {
        "id": "udWLCvPxtW63"
      },
      "source": [
        "## Question 9\n",
        "**Favorite Places:** Make a dictionary called `favorite_places`. Think of three names to use as keys in the dictionary, and store one to three favorite places for each person. To make this exercise a bit more interesting, ask some friends to name a few of their favorite places. Loop through the dictionary, and print each person’s name and their favorite places."
      ]
    },
    {
      "cell_type": "code",
      "execution_count": 17,
      "metadata": {
        "id": "LNaYsuNftW63",
        "colab": {
          "base_uri": "https://localhost:8080/"
        },
        "outputId": "51b7678c-4586-4a0f-d4f7-20fda51a2fb7"
      },
      "outputs": [
        {
          "output_type": "stream",
          "name": "stdout",
          "text": [
            "Ryan's favorite places are:\n",
            "- Paris\n",
            "- New York\n",
            "- Sydney\n",
            "\n",
            "Jake's favorite places are:\n",
            "- London\n",
            "- Tokyo\n",
            "\n",
            "Trevor's favorite places are:\n",
            "- San Francisco\n",
            "- Rome\n",
            "- Cape Town\n",
            "\n"
          ]
        }
      ],
      "source": [
        "# Create a dictionary called favorite_places\n",
        "favorite_places = {\n",
        "    'Ryan': ['Paris', 'New York', 'Sydney'],\n",
        "    'Jake': ['London', 'Tokyo'],\n",
        "    'Trevor': ['San Francisco', 'Rome', 'Cape Town']\n",
        "}\n",
        "\n",
        "# Loop through the dictionary and print each person's name and their favorite places\n",
        "for person, places in favorite_places.items():\n",
        "    print(f\"{person}'s favorite places are:\")\n",
        "    for place in places:\n",
        "        print(f\"- {place}\")\n",
        "    print()  # Add a blank line to separate each person's information\n"
      ]
    },
    {
      "cell_type": "markdown",
      "metadata": {
        "id": "nsAtSMOGtW63"
      },
      "source": [
        "## Question 10\n",
        "**Favorite Numbers:** Modify your program from Question 2 so each person can have more than one favorite number. Then print each person’s name along with their favorite numbers."
      ]
    },
    {
      "cell_type": "code",
      "execution_count": 18,
      "metadata": {
        "id": "pjUz_hAHtW63",
        "colab": {
          "base_uri": "https://localhost:8080/"
        },
        "outputId": "d758b7ba-e255-44ea-9651-600d36010d00"
      },
      "outputs": [
        {
          "output_type": "stream",
          "name": "stdout",
          "text": [
            "Ryan's favorite numbers are:\n",
            "- 42\n",
            "- 7\n",
            "- 23\n",
            "\n",
            "Jake's favorite numbers are:\n",
            "- 7\n",
            "- 15\n",
            "\n",
            "Dylan's favorite numbers are:\n",
            "- 23\n",
            "- 11\n",
            "- 8\n",
            "\n",
            "Trevor's favorite numbers are:\n",
            "- 69\n",
            "- 21\n",
            "\n",
            "Colby's favorite numbers are:\n",
            "- 21\n",
            "- 25\n",
            "\n"
          ]
        }
      ],
      "source": [
        "# Create a dictionary to store people's favorite numbers as lists\n",
        "favorite_numbers = {\n",
        "    'Ryan': [42, 7, 23],\n",
        "    'Jake': [7, 15],\n",
        "    'Dylan': [23, 11, 8],\n",
        "    'Trevor': [69, 21],\n",
        "    'Colby': [21, 25],\n",
        "}\n",
        "\n",
        "# Loop through the dictionary and print each person's name and their favorite numbers\n",
        "for person, numbers in favorite_numbers.items():\n",
        "    print(f\"{person}'s favorite numbers are:\")\n",
        "    for number in numbers:\n",
        "        print(f\"- {number}\")\n",
        "    print()  # Add a blank line to separate each person's information\n"
      ]
    },
    {
      "cell_type": "markdown",
      "metadata": {
        "id": "Gx1rO6wJtW63"
      },
      "source": [
        "## Question 11\n",
        "**Cities:** Make a dictionary called `cities`. Use the names of three cities as keys in your dictionary. Create a dictionary of information about each city and include the country that the city is in, its approximate population, and one fact about that city. The keys for each city’s dictionary should be something like `country`, `population`, and `fact`. Print the name of each city and all of the information you have stored about it."
      ]
    },
    {
      "cell_type": "code",
      "execution_count": 19,
      "metadata": {
        "id": "ZOuDTSuNtW64",
        "colab": {
          "base_uri": "https://localhost:8080/"
        },
        "outputId": "7dd75df4-3692-4e49-c4b2-34208e0cf95f"
      },
      "outputs": [
        {
          "output_type": "stream",
          "name": "stdout",
          "text": [
            "City: New York\n",
            "Country: USA\n",
            "Population: 8400000\n",
            "Fact: New York City is known as \"The Big Apple.\"\n",
            "\n",
            "City: Paris\n",
            "Country: France\n",
            "Population: 2150000\n",
            "Fact: The Eiffel Tower is located in Paris.\n",
            "\n",
            "City: Tokyo\n",
            "Country: Japan\n",
            "Population: 13515000\n",
            "Fact: Tokyo is the capital and largest city of Japan.\n",
            "\n"
          ]
        }
      ],
      "source": [
        "# Create a dictionary called cities\n",
        "cities = {\n",
        "    'New York': {\n",
        "        'country': 'USA',\n",
        "        'population': 8_400_000,\n",
        "        'fact': 'New York City is known as \"The Big Apple.\"'\n",
        "    },\n",
        "    'Paris': {\n",
        "        'country': 'France',\n",
        "        'population': 2_150_000,\n",
        "        'fact': 'The Eiffel Tower is located in Paris.'\n",
        "    },\n",
        "    'Tokyo': {\n",
        "        'country': 'Japan',\n",
        "        'population': 13_515_000,\n",
        "        'fact': 'Tokyo is the capital and largest city of Japan.'\n",
        "    }\n",
        "}\n",
        "\n",
        "# Loop through the dictionary and print the name of each city and its information\n",
        "for city, city_info in cities.items():\n",
        "    print(f\"City: {city}\")\n",
        "    print(f\"Country: {city_info['country']}\")\n",
        "    print(f\"Population: {city_info['population']}\")\n",
        "    print(f\"Fact: {city_info['fact']}\")\n",
        "    print()  # Add a blank line to separate each city's information\n"
      ]
    },
    {
      "cell_type": "markdown",
      "metadata": {
        "id": "qnbiMrZAtW64"
      },
      "source": [
        "## Question 12\n",
        "**Extensions:** We’re now working with examples that are complex enough that they can be extended in any number of ways. Use one of the example programs from this chapter, and extend it by adding new keys and values, changing the context of the program or improving the formatting of the output."
      ]
    },
    {
      "cell_type": "code",
      "execution_count": 20,
      "metadata": {
        "id": "-maXXOhZtW64",
        "colab": {
          "base_uri": "https://localhost:8080/"
        },
        "outputId": "a397bcf2-07a8-408e-f2e5-a8698f0226a5"
      },
      "outputs": [
        {
          "output_type": "stream",
          "name": "stdout",
          "text": [
            "Jen's favorite language is Python.\n",
            "Sarah's favorite language is C.\n",
            "Edward's favorite language is Ruby.\n",
            "Phil's favorite language is Python.\n",
            "Alice's favorite language is Java.\n",
            "Bob's favorite language is C++.\n",
            "Carol's favorite language is Javascript.\n"
          ]
        }
      ],
      "source": [
        "# Extended favorite_languages dictionary\n",
        "favorite_languages = {\n",
        "    'jen': 'python',\n",
        "    'sarah': 'c',\n",
        "    'edward': 'ruby',\n",
        "    'phil': 'python',\n",
        "    'alice': 'java',\n",
        "    'bob': 'c++',\n",
        "    'carol': 'javascript'\n",
        "}\n",
        "\n",
        "# Print each person's favorite language using a loop\n",
        "for person, language in favorite_languages.items():\n",
        "    print(f\"{person.title()}'s favorite language is {language.title()}.\")\n"
      ]
    },
    {
      "cell_type": "markdown",
      "metadata": {
        "id": "jLkOB3tUtW64"
      },
      "source": [
        "## Question 13\n",
        "**Rental Car:** Write a program that asks the user what kind of rental car they would like. Print a message about that car, such as “Let me see if I can find you a Subaru.”"
      ]
    },
    {
      "cell_type": "code",
      "execution_count": 23,
      "metadata": {
        "id": "MRwDyGf1tW64",
        "colab": {
          "base_uri": "https://localhost:8080/"
        },
        "outputId": "6e1efeb9-0707-49bf-9132-3d7caf85e3d8"
      },
      "outputs": [
        {
          "output_type": "stream",
          "name": "stdout",
          "text": [
            "What kind of rental car would you like? Subaru\n",
            "Let me see if I can find you a Subaru.\n"
          ]
        }
      ],
      "source": [
        "# Ask the user for their choice of rental car\n",
        "car_choice = input(\"What kind of rental car would you like? \")\n",
        "\n",
        "# Print a message based on the user's choice\n",
        "print(f\"Let me see if I can find you a {car_choice.title()}.\")\n"
      ]
    },
    {
      "cell_type": "markdown",
      "metadata": {
        "id": "IEyGpsyltW64"
      },
      "source": [
        "## Question 14\n",
        "**Restaurant Seating:** Write a program that asks the user how many people are in their dinner group. If the answer is more than eight, print a message saying they’ll have to wait for a table. Otherwise, report that their table is ready."
      ]
    },
    {
      "cell_type": "code",
      "execution_count": 27,
      "metadata": {
        "id": "-b4Nxde7tW64",
        "colab": {
          "base_uri": "https://localhost:8080/"
        },
        "outputId": "5aea64f9-e022-4495-c261-210cb2a93aab"
      },
      "outputs": [
        {
          "output_type": "stream",
          "name": "stdout",
          "text": [
            "How many people are in your dinner group? 8\n",
            "Your table is ready. Enjoy your meal!\n"
          ]
        }
      ],
      "source": [
        "# Ask the user for the number of people in their dinner group\n",
        "group_size = int(input(\"How many people are in your dinner group? \"))\n",
        "\n",
        "# Check the group size and print a message accordingly\n",
        "if group_size > 8:\n",
        "    print(\"I'm sorry, you'll have to wait for a table.\")\n",
        "else:\n",
        "    print(\"Your table is ready. Enjoy your meal!\")\n"
      ]
    },
    {
      "cell_type": "markdown",
      "metadata": {
        "id": "w2M96s09tW64"
      },
      "source": [
        "## Question 15\n",
        "**Multiples of Ten:** Ask the user for a number, and then report whether the number is a multiple of 10 or not."
      ]
    },
    {
      "cell_type": "code",
      "execution_count": 30,
      "metadata": {
        "id": "rTCuXdyPtW64",
        "colab": {
          "base_uri": "https://localhost:8080/"
        },
        "outputId": "7b0fd33a-e2c7-4216-dcaa-7669d3fc938d"
      },
      "outputs": [
        {
          "output_type": "stream",
          "name": "stdout",
          "text": [
            "Please enter a number: 50\n",
            "50 is a multiple of 10.\n"
          ]
        }
      ],
      "source": [
        "# Ask the user for a number\n",
        "number = int(input(\"Please enter a number: \"))\n",
        "\n",
        "# Check if the number is a multiple of 10 and print the result\n",
        "if number % 10 == 0:\n",
        "    print(f\"{number} is a multiple of 10.\")\n",
        "else:\n",
        "    print(f\"{number} is not a multiple of 10.\")\n"
      ]
    },
    {
      "cell_type": "markdown",
      "metadata": {
        "id": "vgT_SbomtW64"
      },
      "source": [
        "## Question 16\n",
        "**Pizza Toppings:** Write a loop that prompts the user to enter a series of pizza toppings until they enter a 'quit' value. As they enter each topping, print a message saying you’ll add that topping to their pizza."
      ]
    },
    {
      "cell_type": "code",
      "execution_count": 32,
      "metadata": {
        "id": "pZdM8h4EtW64",
        "colab": {
          "base_uri": "https://localhost:8080/"
        },
        "outputId": "046f0d04-8293-4135-d147-89bf8a00ff78"
      },
      "outputs": [
        {
          "output_type": "stream",
          "name": "stdout",
          "text": [
            "Enter a pizza topping (or 'quit' to finish): pepperoni\n",
            "We'll add pepperoni to your pizza.\n",
            "Enter a pizza topping (or 'quit' to finish): meatballs\n",
            "We'll add meatballs to your pizza.\n",
            "Enter a pizza topping (or 'quit' to finish): bacon\n",
            "We'll add bacon to your pizza.\n",
            "Enter a pizza topping (or 'quit' to finish): quit\n",
            "\n",
            "Your pizza will have the following toppings:\n",
            "pepperoni\n",
            "meatballs\n",
            "bacon\n"
          ]
        }
      ],
      "source": [
        "# Initialize an empty list to store the pizza toppings\n",
        "pizza_toppings = []\n",
        "\n",
        "# Start an input loop to gather pizza toppings\n",
        "while True:\n",
        "    topping = input(\"Enter a pizza topping (or 'quit' to finish): \")\n",
        "\n",
        "    if topping.lower() == 'quit':\n",
        "        break  # Exit the loop if the user enters 'quit'\n",
        "    else:\n",
        "        print(f\"We'll add {topping} to your pizza.\")\n",
        "        pizza_toppings.append(topping)\n",
        "\n",
        "# Print the list of pizza toppings\n",
        "if pizza_toppings:\n",
        "    print(\"\\nYour pizza will have the following toppings:\")\n",
        "    for topping in pizza_toppings:\n",
        "        print(topping)\n",
        "else:\n",
        "    print(\"No pizza toppings selected.\")\n"
      ]
    },
    {
      "cell_type": "markdown",
      "metadata": {
        "id": "h4rqa9E4tW64"
      },
      "source": [
        "## Question 17\n",
        "**Movie Tickets:** A movie theater charges different ticket prices depending on a person’s age. If a person is under the age of 3, the ticket is free; if they are between 3 and 12, the ticket is \\\\$10; and if they are over age 12, the ticket is $15. Write a loop in which you ask users their age, and then tell them the cost of their movie ticket."
      ]
    },
    {
      "cell_type": "code",
      "execution_count": 33,
      "metadata": {
        "id": "erPhelgmtW64",
        "colab": {
          "base_uri": "https://localhost:8080/"
        },
        "outputId": "12d4bd91-2825-47a4-b134-c9c06c6a52c0"
      },
      "outputs": [
        {
          "name": "stdout",
          "output_type": "stream",
          "text": [
            "Please enter your age (or 'quit' to exit): 13\n",
            "Your ticket costs $15.\n",
            "Please enter your age (or 'quit' to exit): 12\n",
            "Your ticket costs $10.\n",
            "Please enter your age (or 'quit' to exit): 10\n",
            "Your ticket costs $10.\n",
            "Please enter your age (or 'quit' to exit): 3\n",
            "Your ticket costs $10.\n",
            "Please enter your age (or 'quit' to exit): 2\n",
            "Your ticket is free.\n",
            "Please enter your age (or 'quit' to exit): quit\n"
          ]
        }
      ],
      "source": [
        "while True:\n",
        "    # Ask the user for their age\n",
        "    age = input(\"Please enter your age (or 'quit' to exit): \")\n",
        "\n",
        "    if age.lower() == 'quit':\n",
        "        break  # Exit the loop if the user enters 'quit'\n",
        "\n",
        "    age = int(age)  # Convert the input to an integer\n",
        "\n",
        "    # Calculate the ticket price based on age\n",
        "    if age < 3:\n",
        "        print(\"Your ticket is free.\")\n",
        "    elif 3 <= age <= 12:\n",
        "        print(\"Your ticket costs $10.\")\n",
        "    else:\n",
        "        print(\"Your ticket costs $15.\")\n"
      ]
    },
    {
      "cell_type": "markdown",
      "metadata": {
        "id": "1pNcJWettW64"
      },
      "source": [
        "## Question 18\n",
        "**Three Exits:** Write different versions of either Question 16 or Question 17 that do each of the following at least once:\n",
        "\n",
        "* Use a conditional test in the while statement to stop the loop.\n",
        "* Use an active variable to control how long the loop runs.\n",
        "* Use a break statement to exit the loop when the user enters a 'quit' value."
      ]
    },
    {
      "cell_type": "code",
      "source": [
        "# Version 1: Conditional Test in the While Statement\n",
        "\n",
        "while True:\n",
        "    # Ask the user for their age\n",
        "    age = input(\"Please enter your age (or 'quit' to exit): \")\n",
        "\n",
        "    if age.lower() == 'quit':\n",
        "        break  # Exit the loop if the user enters 'quit'\n",
        "\n",
        "    age = int(age)  # Convert the input to an integer\n",
        "\n",
        "    # Calculate the ticket price based on age\n",
        "    if age < 3:\n",
        "        print(\"Your ticket is free.\")\n",
        "    elif 3 <= age <= 12:\n",
        "        print(\"Your ticket costs $10.\")\n",
        "    else:\n",
        "        print(\"Your ticket costs $15.\")\n",
        "\n",
        "\n",
        "# Version 2: Active Variable to Control Loop\n",
        "\n",
        "active = True\n",
        "\n",
        "while active:\n",
        "    # Ask the user for their age\n",
        "    age = input(\"Please enter your age (or 'quit' to exit): \")\n",
        "\n",
        "    if age.lower() == 'quit':\n",
        "        active = False  # Set active to False to exit the loop\n",
        "    else:\n",
        "        age = int(age)  # Convert the input to an integer\n",
        "\n",
        "        # Calculate the ticket price based on age\n",
        "        if age < 3:\n",
        "            print(\"Your ticket is free.\")\n",
        "        elif 3 <= age <= 12:\n",
        "            print(\"Your ticket costs $10.\")\n",
        "        else:\n",
        "            print(\"Your ticket costs $15.\")\n",
        "\n",
        "\n",
        "# Version 3: Using a Break Statement\n",
        "\n",
        "while True:\n",
        "    # Ask the user for their age\n",
        "    age = input(\"Please enter your age (or 'quit' to exit): \")\n",
        "\n",
        "    if age.lower() == 'quit':\n",
        "        break  # Exit the loop using a break statement\n",
        "\n",
        "    age = int(age)  # Convert the input to an integer\n",
        "\n",
        "    # Calculate the ticket price based on age\n",
        "    if age < 3:\n",
        "        print(\"Your ticket is free.\")\n",
        "    elif 3 <= age <= 12:\n",
        "        print(\"Your ticket costs $10.\")\n",
        "    else:\n",
        "        print(\"Your ticket costs $15.\")\n",
        "11"
      ],
      "metadata": {
        "colab": {
          "base_uri": "https://localhost:8080/"
        },
        "id": "kEWDZ-2J90G_",
        "outputId": "3885e570-9894-41dd-92ca-10e7e73fd897"
      },
      "execution_count": 35,
      "outputs": [
        {
          "name": "stdout",
          "output_type": "stream",
          "text": [
            "Please enter your age (or 'quit' to exit): 3\n",
            "Your ticket costs $10.\n",
            "Please enter your age (or 'quit' to exit): 2\n",
            "Your ticket is free.\n",
            "Please enter your age (or 'quit' to exit): 10\n",
            "Your ticket costs $10.\n",
            "Please enter your age (or 'quit' to exit): 12\n",
            "Your ticket costs $10.\n",
            "Please enter your age (or 'quit' to exit): 13\n",
            "Your ticket costs $15.\n",
            "Please enter your age (or 'quit' to exit): quit\n",
            "Please enter your age (or 'quit' to exit): 3\n",
            "Your ticket costs $10.\n",
            "Please enter your age (or 'quit' to exit): 2\n",
            "Your ticket is free.\n",
            "Please enter your age (or 'quit' to exit): 10\n",
            "Your ticket costs $10.\n",
            "Please enter your age (or 'quit' to exit): 2\n",
            "Your ticket is free.\n",
            "Please enter your age (or 'quit' to exit): 3\n",
            "Your ticket costs $10.\n",
            "Please enter your age (or 'quit' to exit): 13\n",
            "Your ticket costs $15.\n",
            "Please enter your age (or 'quit' to exit): quit\n",
            "Please enter your age (or 'quit' to exit): 3\n",
            "Your ticket costs $10.\n",
            "Please enter your age (or 'quit' to exit): 2\n",
            "Your ticket is free.\n",
            "Please enter your age (or 'quit' to exit): 10\n",
            "Your ticket costs $10.\n",
            "Please enter your age (or 'quit' to exit): 12\n",
            "Your ticket costs $10.\n",
            "Please enter your age (or 'quit' to exit): 13\n",
            "Your ticket costs $15.\n",
            "Please enter your age (or 'quit' to exit): quit\n"
          ]
        }
      ]
    },
    {
      "cell_type": "markdown",
      "metadata": {
        "id": "NDepAAFQtW65"
      },
      "source": []
    },
    {
      "cell_type": "markdown",
      "metadata": {
        "id": "BSSseReZtW67"
      },
      "source": [
        "## Question 19\n",
        "**Deli:** Make a list called `sandwich_orders` and fill it with the names of various sandwiches. Then make an empty list called `finished_sandwiches`. Loop through the list of sandwich orders and print a message for each order, such as `I made your tuna sandwich`. As each sandwich is made, move it to the list of finished sandwiches. After all the sandwiches have been made, print a message listing each sandwich that was made."
      ]
    },
    {
      "cell_type": "code",
      "execution_count": 37,
      "metadata": {
        "id": "N1sLHXNYtW67",
        "colab": {
          "base_uri": "https://localhost:8080/"
        },
        "outputId": "9cc6c06e-36bc-4528-da36-544bfeb97c3d"
      },
      "outputs": [
        {
          "output_type": "stream",
          "name": "stdout",
          "text": [
            "I made your tuna sandwich.\n",
            "I made your turkey sandwich.\n",
            "I made your veggie sandwich.\n",
            "I made your ham sandwich.\n",
            "Sorry, we're out of roast beef.\n",
            "I made your chicken sandwich.\n",
            "\n",
            "Finished Sandwiches:\n",
            "tuna\n",
            "turkey\n",
            "veggie\n",
            "ham\n",
            "chicken\n"
          ]
        }
      ],
      "source": [
        "# Create a list of sandwich orders\n",
        "sandwich_orders = ['tuna', 'turkey', 'veggie', 'ham', 'roast beef', 'chicken']\n",
        "\n",
        "# Create an empty list for finished sandwiches\n",
        "finished_sandwiches = []\n",
        "\n",
        "# Loop through the list of sandwich orders\n",
        "while sandwich_orders:\n",
        "    current_order = sandwich_orders.pop(0)\n",
        "\n",
        "    if current_order == 'roast beef':\n",
        "        print(f\"Sorry, we're out of roast beef.\")\n",
        "    else:\n",
        "        print(f\"I made your {current_order} sandwich.\")\n",
        "        finished_sandwiches.append(current_order)\n",
        "\n",
        "# Print a message listing each sandwich that was made\n",
        "print(\"\\nFinished Sandwiches:\")\n",
        "for sandwich in finished_sandwiches:\n",
        "    print(sandwich)\n"
      ]
    },
    {
      "cell_type": "markdown",
      "metadata": {
        "id": "KnrCl5ootW67"
      },
      "source": [
        "## Question 20\n",
        "**No Pastrami:** Using the list `sandwich_orders` from Question 19, make sure the sandwich `pastrami` appears in the list at least three times. Add code near the beginning of your program to print a message saying the deli has run out of pastrami, and then use a `while` loop to remove all occurrences of `pastrami` from `sandwich_orders`. Make sure no pastrami sandwiches end up in `finished_sandwiches`."
      ]
    },
    {
      "cell_type": "code",
      "execution_count": 38,
      "metadata": {
        "id": "bc4AM9-otW67",
        "colab": {
          "base_uri": "https://localhost:8080/"
        },
        "outputId": "740634f1-3da7-4409-a634-1ac4cebf2723"
      },
      "outputs": [
        {
          "output_type": "stream",
          "name": "stdout",
          "text": [
            "Sorry, we've run out of pastrami.\n",
            "I made your tuna sandwich.\n",
            "I made your turkey sandwich.\n",
            "I made your veggie sandwich.\n",
            "I made your ham sandwich.\n",
            "I made your raostbeef sandwich.\n",
            "I made your chicken sandwich.\n",
            "\n",
            "Finished Sandwiches:\n",
            "tuna\n",
            "turkey\n",
            "veggie\n",
            "ham\n",
            "raostbeef\n",
            "chicken\n"
          ]
        }
      ],
      "source": [
        "# Create a list of sandwich orders with pastrami appearing at least three times\n",
        "sandwich_orders = ['tuna', 'pastrami', 'turkey', 'pastrami', 'veggie', 'ham', 'raostbeef', 'pastrami', 'chicken']\n",
        "\n",
        "# Create an empty list for finished sandwiches\n",
        "finished_sandwiches = []\n",
        "\n",
        "# Print a message indicating that the deli has run out of pastrami\n",
        "print(\"Sorry, we've run out of pastrami.\")\n",
        "\n",
        "# Remove all occurrences of pastrami from sandwich_orders\n",
        "while 'pastrami' in sandwich_orders:\n",
        "    sandwich_orders.remove('pastrami')\n",
        "\n",
        "# Loop through the list of sandwich orders\n",
        "while sandwich_orders:\n",
        "    current_order = sandwich_orders.pop(0)\n",
        "    print(f\"I made your {current_order} sandwich.\")\n",
        "    finished_sandwiches.append(current_order)\n",
        "\n",
        "# Print a message listing each sandwich that was made\n",
        "print(\"\\nFinished Sandwiches:\")\n",
        "for sandwich in finished_sandwiches:\n",
        "    print(sandwich)\n"
      ]
    },
    {
      "cell_type": "markdown",
      "metadata": {
        "id": "B98hrk0EtW67"
      },
      "source": [
        "## Question 21\n",
        "**Dream Vacation:** Write a program that polls users about their dream vacation. Write a prompt similar to *If you could visit one place in the world, where would you go?* Include a block of code that prints the results of the poll."
      ]
    },
    {
      "cell_type": "code",
      "execution_count": 40,
      "metadata": {
        "id": "0SrdcZQttW67",
        "colab": {
          "base_uri": "https://localhost:8080/"
        },
        "outputId": "dc38121b-2b0d-488e-9605-aef7ebff3268"
      },
      "outputs": [
        {
          "output_type": "stream",
          "name": "stdout",
          "text": [
            "If you could visit one place in the world, where would you go? (Enter 'quit' to finish): tokyo\n",
            "If you could visit one place in the world, where would you go? (Enter 'quit' to finish): paris\n",
            "If you could visit one place in the world, where would you go? (Enter 'quit' to finish): rome\n",
            "If you could visit one place in the world, where would you go? (Enter 'quit' to finish): quit\n",
            "\n",
            "--- Dream Vacation Poll Results ---\n",
            "Here are the dream vacation destinations:\n",
            "1. tokyo\n",
            "2. paris\n",
            "3. rome\n"
          ]
        }
      ],
      "source": [
        "# Initialize an empty list to store the poll responses\n",
        "dream_vacations = []\n",
        "\n",
        "# Create a while loop to poll users about their dream vacations\n",
        "while True:\n",
        "    response = input(\"If you could visit one place in the world, where would you go? (Enter 'quit' to finish): \")\n",
        "\n",
        "    if response.lower() == 'quit':\n",
        "        break  # Exit the loop if the user enters 'quit'\n",
        "    else:\n",
        "        dream_vacations.append(response)\n",
        "\n",
        "# Print the results of the poll\n",
        "print(\"\\n--- Dream Vacation Poll Results ---\")\n",
        "if dream_vacations:\n",
        "    print(\"Here are the dream vacation destinations:\")\n",
        "    for index, destination in enumerate(dream_vacations, 1):\n",
        "        print(f\"{index}. {destination}\")\n",
        "else:\n",
        "    print(\"No poll responses received.\")\n"
      ]
    }
  ],
  "metadata": {
    "kernelspec": {
      "display_name": "Python 3 (ipykernel)",
      "language": "python",
      "name": "python3"
    },
    "language_info": {
      "codemirror_mode": {
        "name": "ipython",
        "version": 3
      },
      "file_extension": ".py",
      "mimetype": "text/x-python",
      "name": "python",
      "nbconvert_exporter": "python",
      "pygments_lexer": "ipython3",
      "version": "3.8.10"
    },
    "colab": {
      "provenance": [],
      "include_colab_link": true
    }
  },
  "nbformat": 4,
  "nbformat_minor": 0
}