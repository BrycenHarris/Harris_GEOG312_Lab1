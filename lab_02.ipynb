{
  "cells": [
    {
      "cell_type": "markdown",
      "metadata": {
        "id": "ddT7vMzLMyXp"
      },
      "source": [
        "[![image](https://colab.research.google.com/assets/colab-badge.svg)](https://colab.research.google.com/github/giswqs/geog-312/blob/master/labs/lab_02.ipynb)\n",
        "[![image](https://binder.pangeo.io/badge_logo.svg)](https://gishub.org/geog312-pangeo)"
      ]
    },
    {
      "cell_type": "markdown",
      "metadata": {
        "id": "NEVJlU8JMyXq"
      },
      "source": [
        "**Firstname Lastname**"
      ]
    },
    {
      "cell_type": "code",
      "execution_count": null,
      "metadata": {
        "id": "jEabrktjMyXq"
      },
      "outputs": [],
      "source": [
        "from datetime import datetime\n",
        "\n",
        "now = datetime.now()\n",
        "print(f\"Submitted time: {now}\")"
      ]
    },
    {
      "cell_type": "markdown",
      "metadata": {
        "id": "RVERjPWkMyXr"
      },
      "source": [
        "## Question 1\n",
        "**Names:** Store the names of a few of your friends in a list called names. Print\n",
        "each person’s name by accessing each element in the list, one at a time."
      ]
    },
    {
      "cell_type": "code",
      "execution_count": 202,
      "metadata": {
        "id": "4XSKmoQPMyXr",
        "outputId": "d4426690-a32a-49eb-821e-1a4cbdb3ab30",
        "colab": {
          "base_uri": "https://localhost:8080/"
        }
      },
      "outputs": [
        {
          "output_type": "stream",
          "name": "stdout",
          "text": [
            "Jake\n",
            "Ryan\n",
            "Trevor\n",
            "Luke\n",
            "Dylan\n"
          ]
        }
      ],
      "source": [
        "# Create a list of friends' names\n",
        "names = ['Jake', 'Ryan', 'Trevor', 'Luke', 'Dylan']\n",
        "\n",
        "\n",
        "# Print each person's invite one at a time\n",
        "print(names[0])\n",
        "print(names[1])\n",
        "print(names[2])\n",
        "print(names[3])\n",
        "print(names[4])"
      ]
    },
    {
      "cell_type": "markdown",
      "metadata": {
        "id": "be1TaQVOMyXr"
      },
      "source": [
        "## Question 2\n",
        "**Greetings:** Start with the list you used in Question 1, but instead of just printing each person’s name, print a message to them. The text of each message should be the same, but each message should be personalized with the person’s name."
      ]
    },
    {
      "cell_type": "code",
      "execution_count": 133,
      "metadata": {
        "id": "yaQeRMehMyXr",
        "outputId": "5753a2c6-91c8-4c53-b143-07c9b3986b19",
        "colab": {
          "base_uri": "https://localhost:8080/"
        }
      },
      "outputs": [
        {
          "output_type": "stream",
          "name": "stdout",
          "text": [
            "Hello Jake, Lets go to the park tonight.\n",
            "Hello Ryan, Lets go to the park tonight.\n",
            "Hello Trevor, Lets go to the park tonight.\n",
            "Hello Luke, Lets go to the park tonight.\n",
            "Hello Dylan, Lets go to the park tonight.\n"
          ]
        }
      ],
      "source": [
        "# Create a list of friends' names\n",
        "names = ['Jake', 'Ryan', 'Trevor', 'Luke', 'Dylan']\n",
        "\n",
        "\n",
        "# Print each person's invite one at a time\n",
        "print(f\"Hello {names[0].title()}, Lets go to the park tonight.\")\n",
        "print(f\"Hello {names[1].title()}, Lets go to the park tonight.\")\n",
        "print(f\"Hello {names[2].title()}, Lets go to the park tonight.\")\n",
        "print(f\"Hello {names[3].title()}, Lets go to the park tonight.\")\n",
        "print(f\"Hello {names[4].title()}, Lets go to the park tonight.\")"
      ]
    },
    {
      "cell_type": "markdown",
      "metadata": {
        "id": "ZGrDydp4MyXr"
      },
      "source": [
        "## Question 3\n",
        "**Your Own List:** Think of your favorite mode of transportation, such as a motorcycle or a car, and make a list that stores several examples. Use your list to print a series of statements about these items, such as “I would like to own a Honda motorcycle.”"
      ]
    },
    {
      "cell_type": "code",
      "execution_count": 135,
      "metadata": {
        "id": "EviSrhASMyXr",
        "outputId": "296ec8c6-d2da-466f-c789-de7ef32b1a24",
        "colab": {
          "base_uri": "https://localhost:8080/"
        }
      },
      "outputs": [
        {
          "output_type": "stream",
          "name": "stdout",
          "text": [
            "I currently own a Toyota\n",
            "I used to own a Ram\n",
            "I would like to own a Jeep\n",
            "My borhter owns a Chevy\n"
          ]
        }
      ],
      "source": [
        "# Create a list of car names\n",
        "cars = ['toyota', 'jeep', 'chevy', 'ram']\n",
        "\n",
        "\n",
        "# Print each person's invite one at a time\n",
        "print(f\"I currently own a {cars[0].title()}\")\n",
        "print(f\"I used to own a {cars[3].title()}\")\n",
        "print(f\"I would like to own a {cars[1].title()}\")\n",
        "print(f\"My borhter owns a {cars[2].title()}\")"
      ]
    },
    {
      "cell_type": "markdown",
      "metadata": {
        "id": "5QjbaBRvMyXr"
      },
      "source": [
        "## Question 4\n",
        "**Guest List:** If you could invite anyone, living or deceased, to dinner, who would you invite? Make a list that includes at least three people you’d like to invite to dinner. Then use your list to print a message to each person, inviting them to dinner."
      ]
    },
    {
      "cell_type": "code",
      "execution_count": 124,
      "metadata": {
        "id": "RsCH3GqJMyXr",
        "outputId": "b4b99ff5-59ab-47f1-8ad8-0e4df355e73f",
        "colab": {
          "base_uri": "https://localhost:8080/"
        }
      },
      "outputs": [
        {
          "output_type": "stream",
          "name": "stdout",
          "text": [
            "Hello Jake, Lets have dinner at my place tonight.\n",
            "Hello Ryan, Lets have dinner at my place tonight.\n",
            "Hello Trevor, Lets have dinner at my place tonight.\n",
            "Hello Luke, Lets have dinner at my place tonight.\n",
            "Hello Dylan, Lets have dinner at my place tonight.\n"
          ]
        }
      ],
      "source": [
        "# Create a list of friends' names\n",
        "names = ['Jake', 'Ryan', 'Trevor', 'Luke', 'Dylan']\n",
        "\n",
        "\n",
        "# Print each person's invite one at a time\n",
        "print(f\"Hello {names[0].title()}, Lets have dinner at my place tonight.\")\n",
        "print(f\"Hello {names[1].title()}, Lets have dinner at my place tonight.\")\n",
        "print(f\"Hello {names[2].title()}, Lets have dinner at my place tonight.\")\n",
        "print(f\"Hello {names[3].title()}, Lets have dinner at my place tonight.\")\n",
        "print(f\"Hello {names[4].title()}, Lets have dinner at my place tonight.\")"
      ]
    },
    {
      "cell_type": "markdown",
      "metadata": {
        "id": "42HWQZx3MyXs"
      },
      "source": [
        "## Question 5\n",
        "**Changing Guest List:** You just heard that one of your guests can’t make the dinner, so you need to send out a new set of invitations. You’ll have to think of someone else to invite."
      ]
    },
    {
      "cell_type": "markdown",
      "metadata": {
        "id": "O3xGA8GhMyXs"
      },
      "source": [
        "Start with your program from Question 4. Add a print() call at the end of your program stating the name of the guest who can’t make it."
      ]
    },
    {
      "cell_type": "code",
      "execution_count": 123,
      "metadata": {
        "id": "cRgLJuGSMyXs",
        "outputId": "0bb33697-4e95-48f6-fbe5-9671a7a68fcd",
        "colab": {
          "base_uri": "https://localhost:8080/"
        }
      },
      "outputs": [
        {
          "output_type": "stream",
          "name": "stdout",
          "text": [
            "Hello Jake, Lets have dinner at my place tonight.\n",
            "Hello Ryan, Lets have dinner at my place tonight.\n",
            "Hello Trevor, Lets have dinner at my place tonight.\n",
            "Hello Luke, Lets have dinner at my place tonight.\n",
            "Hello Dylan, Lets have dinner at my place tonight.\n",
            "Sorry to hear you cant make it tonight Luke.\n"
          ]
        }
      ],
      "source": [
        "# Create a list of friends' names\n",
        "names = ['Jake', 'Ryan', 'Trevor', 'Luke', 'Dylan']\n",
        "\n",
        "\n",
        "# Print each person's invite one at a time\n",
        "print(f\"Hello {names[0].title()}, Lets have dinner at my place tonight.\")\n",
        "print(f\"Hello {names[1].title()}, Lets have dinner at my place tonight.\")\n",
        "print(f\"Hello {names[2].title()}, Lets have dinner at my place tonight.\")\n",
        "print(f\"Hello {names[3].title()}, Lets have dinner at my place tonight.\")\n",
        "print(f\"Hello {names[4].title()}, Lets have dinner at my place tonight.\")\n",
        "print(f\"Sorry to hear you cant make it tonight {names[3].title()}.\")"
      ]
    },
    {
      "cell_type": "markdown",
      "metadata": {
        "id": "VT167MCGMyXs"
      },
      "source": [
        "Modify your list, replacing the name of the guest who can’t make it with the name of the new person you are inviting."
      ]
    },
    {
      "cell_type": "code",
      "execution_count": 122,
      "metadata": {
        "id": "LpRmLmHiMyXs",
        "outputId": "2ddfac84-e6c9-4ea6-f26c-3e5d40724db4",
        "colab": {
          "base_uri": "https://localhost:8080/"
        }
      },
      "outputs": [
        {
          "output_type": "stream",
          "name": "stdout",
          "text": [
            "Hello Jake, Lets have dinner at my place tonight.\n",
            "Hello Ryan, Lets have dinner at my place tonight.\n",
            "Hello Trevor, Lets have dinner at my place tonight.\n",
            "Hello Luke, Lets have dinner at my place tonight.\n",
            "Hello Dylan, Lets have dinner at my place tonight.\n",
            "Sorry to hear you cant make it tonight Luke.\n"
          ]
        }
      ],
      "source": [
        "# Create a list of friends' names\n",
        "names = ['Jake', 'Ryan', 'Trevor', 'Luke', 'Dylan']\n",
        "\n",
        "\n",
        "# Print each person's invite one at a time\n",
        "print(f\"Hello {names[0].title()}, Lets have dinner at my place tonight.\")\n",
        "print(f\"Hello {names[1].title()}, Lets have dinner at my place tonight.\")\n",
        "print(f\"Hello {names[2].title()}, Lets have dinner at my place tonight.\")\n",
        "print(f\"Hello {names[3].title()}, Lets have dinner at my place tonight.\")\n",
        "print(f\"Hello {names[4].title()}, Lets have dinner at my place tonight.\")\n",
        "print(f\"Sorry to hear you cant make it tonight {names[3].title()}.\")\n",
        "\n",
        "# Swithcing invite\n",
        "names[3] = 'Jack'"
      ]
    },
    {
      "cell_type": "markdown",
      "metadata": {
        "id": "jAFLoosmMyXs"
      },
      "source": [
        "Print a second set of invitation messages, one for each person who is still in your list."
      ]
    },
    {
      "cell_type": "code",
      "execution_count": 120,
      "metadata": {
        "id": "ARlZpLMfMyXs",
        "outputId": "7c4b325b-615a-4077-c684-ad67a74d6912",
        "colab": {
          "base_uri": "https://localhost:8080/"
        }
      },
      "outputs": [
        {
          "output_type": "stream",
          "name": "stdout",
          "text": [
            "Hello Jake, Lets have dinner at my place tonight.\n",
            "Hello Ryan, Lets have dinner at my place tonight.\n",
            "Hello Trevor, Lets have dinner at my place tonight.\n",
            "Hello Luke, Lets have dinner at my place tonight.\n",
            "Hello Dylan, Lets have dinner at my place tonight.\n",
            "Sorry to hear you cant make it tonight Luke.\n",
            "Hello Jack, Lets have dinner at my place tonight.\n",
            "Hello Jake, Lets have dinner at my place tonight.\n",
            "Hello Ryan, Lets have dinner at my place tonight.\n",
            "Hello Trevor, Lets have dinner at my place tonight.\n",
            "Hello Dylan, Lets have dinner at my place tonight.\n"
          ]
        }
      ],
      "source": [
        "# Create a list of friends' names\n",
        "names = ['Jake', 'Ryan', 'Trevor', 'Luke', 'Dylan']\n",
        "\n",
        "\n",
        "# Print each person's invite one at a time\n",
        "print(f\"Hello {names[0].title()}, Lets have dinner at my place tonight.\")\n",
        "print(f\"Hello {names[1].title()}, Lets have dinner at my place tonight.\")\n",
        "print(f\"Hello {names[2].title()}, Lets have dinner at my place tonight.\")\n",
        "print(f\"Hello {names[3].title()}, Lets have dinner at my place tonight.\")\n",
        "print(f\"Hello {names[4].title()}, Lets have dinner at my place tonight.\")\n",
        "print(f\"Sorry to hear you cant make it tonight {names[3].title()}.\")\n",
        "\n",
        "# Swithcing invite\n",
        "names[3] = 'Jack'\n",
        "\n",
        "# Print each person's invite one at a time\n",
        "print(f\"Hello {names[3].title()}, Lets have dinner at my place tonight.\")\n",
        "print(f\"Hello {names[0].title()}, Lets have dinner at my place tonight.\")\n",
        "print(f\"Hello {names[1].title()}, Lets have dinner at my place tonight.\")\n",
        "print(f\"Hello {names[2].title()}, Lets have dinner at my place tonight.\")\n",
        "print(f\"Hello {names[4].title()}, Lets have dinner at my place tonight.\")"
      ]
    },
    {
      "cell_type": "markdown",
      "metadata": {
        "id": "YGAMcfWBMyXs"
      },
      "source": [
        "## Question 6\n",
        "**More Guests:** You just found a bigger dinner table, so now more space is available. Think of three more guests to invite to dinner."
      ]
    },
    {
      "cell_type": "markdown",
      "metadata": {
        "id": "fTfeAE7qMyXs"
      },
      "source": [
        "Start with your program from Question 4 or Question 5. Add a print() call to the end of your program informing people that you found a bigger dinner table."
      ]
    },
    {
      "cell_type": "code",
      "execution_count": 119,
      "metadata": {
        "id": "RjB65dSFMyXs",
        "outputId": "697364d7-38e4-4448-c567-ca01ed1cab5f",
        "colab": {
          "base_uri": "https://localhost:8080/"
        }
      },
      "outputs": [
        {
          "output_type": "stream",
          "name": "stdout",
          "text": [
            "Hello Jake, Lets have dinner at my place tonight.\n",
            "Hello Ryan, Lets have dinner at my place tonight.\n",
            "Hello Trevor, Lets have dinner at my place tonight.\n",
            "Hello Luke, Lets have dinner at my place tonight.\n",
            "Hello Dylan, Lets have dinner at my place tonight.\n",
            "Sorry to hear you cant make it tonight Luke.\n",
            "Hello Jack, Lets have dinner at my place tonight.\n",
            "Hello Jake, Lets have dinner at my place tonight.\n",
            "Hello Ryan, Lets have dinner at my place tonight.\n",
            "Hello Trevor, Lets have dinner at my place tonight.\n",
            "Hello Dylan, Lets have dinner at my place tonight.\n",
            "Hey look like we still have room. Jeremy, Sheri, and Adam, would you care to join us?\n"
          ]
        }
      ],
      "source": [
        "# Create a list of friends' names\n",
        "names = ['Jake', 'Ryan', 'Trevor', 'Luke', 'Dylan']\n",
        "\n",
        "\n",
        "# Print each person's invite one at a time\n",
        "print(f\"Hello {names[0].title()}, Lets have dinner at my place tonight.\")\n",
        "print(f\"Hello {names[1].title()}, Lets have dinner at my place tonight.\")\n",
        "print(f\"Hello {names[2].title()}, Lets have dinner at my place tonight.\")\n",
        "print(f\"Hello {names[3].title()}, Lets have dinner at my place tonight.\")\n",
        "print(f\"Hello {names[4].title()}, Lets have dinner at my place tonight.\")\n",
        "print(f\"Sorry to hear you cant make it tonight {names[3].title()}.\")\n",
        "\n",
        "# Swithcing invite\n",
        "names[3] = 'Jack'\n",
        "\n",
        "# Print each person's invite one at a time\n",
        "print(f\"Hello {names[3].title()}, Lets have dinner at my place tonight.\")\n",
        "print(f\"Hello {names[0].title()}, Lets have dinner at my place tonight.\")\n",
        "print(f\"Hello {names[1].title()}, Lets have dinner at my place tonight.\")\n",
        "print(f\"Hello {names[2].title()}, Lets have dinner at my place tonight.\")\n",
        "print(f\"Hello {names[4].title()}, Lets have dinner at my place tonight.\")\n",
        "print(f\"Hey look like we still have room. Jeremy, Sheri, and Adam, would you care to join us?\")"
      ]
    },
    {
      "cell_type": "markdown",
      "metadata": {
        "id": "osKnsDuwMyXs"
      },
      "source": [
        "Use insert() to add one new guest to the beginning of your list."
      ]
    },
    {
      "cell_type": "code",
      "execution_count": 118,
      "metadata": {
        "id": "JWNVuvdQMyXs",
        "outputId": "479fe5cd-23c6-40b4-e9c6-9d5e48a467f0",
        "colab": {
          "base_uri": "https://localhost:8080/"
        }
      },
      "outputs": [
        {
          "output_type": "stream",
          "name": "stdout",
          "text": [
            "Hello Jake, Lets have dinner at my place tonight.\n",
            "Hello Ryan, Lets have dinner at my place tonight.\n",
            "Hello Trevor, Lets have dinner at my place tonight.\n",
            "Hello Luke, Lets have dinner at my place tonight.\n",
            "Hello Dylan, Lets have dinner at my place tonight.\n",
            "Sorry to hear you cant make it tonight Luke.\n",
            "Hello Jack, Lets have dinner at my place tonight.\n",
            "Hello Jake, Lets have dinner at my place tonight.\n",
            "Hello Ryan, Lets have dinner at my place tonight.\n",
            "Hello Trevor, Lets have dinner at my place tonight.\n",
            "Hello Dylan, Lets have dinner at my place tonight.\n",
            "Hey look like we still have room. Jeremy, Sheri, and Adam, would you care to join us?\n"
          ]
        }
      ],
      "source": [
        "# Create a list of friends' names\n",
        "names = ['Jake', 'Ryan', 'Trevor', 'Luke', 'Dylan']\n",
        "\n",
        "\n",
        "# Print each person's invite one at a time\n",
        "print(f\"Hello {names[0].title()}, Lets have dinner at my place tonight.\")\n",
        "print(f\"Hello {names[1].title()}, Lets have dinner at my place tonight.\")\n",
        "print(f\"Hello {names[2].title()}, Lets have dinner at my place tonight.\")\n",
        "print(f\"Hello {names[3].title()}, Lets have dinner at my place tonight.\")\n",
        "print(f\"Hello {names[4].title()}, Lets have dinner at my place tonight.\")\n",
        "print(f\"Sorry to hear you cant make it tonight {names[3].title()}.\")\n",
        "\n",
        "# Swithcing invite\n",
        "names[3] = 'Jack'\n",
        "\n",
        "# Print each person's invite one at a time\n",
        "print(f\"Hello {names[3].title()}, Lets have dinner at my place tonight.\")\n",
        "print(f\"Hello {names[0].title()}, Lets have dinner at my place tonight.\")\n",
        "print(f\"Hello {names[1].title()}, Lets have dinner at my place tonight.\")\n",
        "print(f\"Hello {names[2].title()}, Lets have dinner at my place tonight.\")\n",
        "print(f\"Hello {names[4].title()}, Lets have dinner at my place tonight.\")\n",
        "print(f\"Hey look like we still have room. Jeremy, Sheri, and Adam, would you care to join us?\")\n",
        "\n",
        "# Adding invites\n",
        "names.insert(0, 'Jeremy')"
      ]
    },
    {
      "cell_type": "markdown",
      "metadata": {
        "id": "Fg_gMvD2MyXs"
      },
      "source": [
        "Use insert() to add one new guest to the middle of your list."
      ]
    },
    {
      "cell_type": "code",
      "execution_count": null,
      "metadata": {
        "id": "8lKiKBbpMyXs"
      },
      "outputs": [],
      "source": [
        "# Create a list of friends' names\n",
        "names = ['Jake', 'Ryan', 'Trevor', 'Luke', 'Dylan']\n",
        "\n",
        "\n",
        "# Print each person's invite one at a time\n",
        "print(f\"Hello {names[0].title()}, Lets have dinner at my place tonight.\")\n",
        "print(f\"Hello {names[1].title()}, Lets have dinner at my place tonight.\")\n",
        "print(f\"Hello {names[2].title()}, Lets have dinner at my place tonight.\")\n",
        "print(f\"Hello {names[3].title()}, Lets have dinner at my place tonight.\")\n",
        "print(f\"Hello {names[4].title()}, Lets have dinner at my place tonight.\")\n",
        "print(f\"Sorry to hear you cant make it tonight {names[3].title()}.\")\n",
        "\n",
        "# Swithcing invite\n",
        "names[3] = 'Jack'\n",
        "\n",
        "# Print each person's invite one at a time\n",
        "print(f\"Hello {names[3].title()}, Lets have dinner at my place tonight.\")\n",
        "print(f\"Hello {names[0].title()}, Lets have dinner at my place tonight.\")\n",
        "print(f\"Hello {names[1].title()}, Lets have dinner at my place tonight.\")\n",
        "print(f\"Hello {names[2].title()}, Lets have dinner at my place tonight.\")\n",
        "print(f\"Hello {names[4].title()}, Lets have dinner at my place tonight.\")\n",
        "print(f\"Hey look like we still have room. Jeremy, Sheri, and Adam, would you care to join us?\")\n",
        "\n",
        "# Adding invites\n",
        "names.insert(0, 'Jeremy')\n",
        "names.insert(4, 'Sheri')"
      ]
    },
    {
      "cell_type": "markdown",
      "metadata": {
        "id": "tLxNHDK9MyXt"
      },
      "source": [
        "Use append() to add one new guest to the end of your list."
      ]
    },
    {
      "cell_type": "code",
      "execution_count": 117,
      "metadata": {
        "id": "-i21uNqkMyXt",
        "outputId": "dee5b592-c4a7-49ec-b698-1fce5de34982",
        "colab": {
          "base_uri": "https://localhost:8080/"
        }
      },
      "outputs": [
        {
          "output_type": "stream",
          "name": "stdout",
          "text": [
            "Hello Jake, Lets have dinner at my place tonight.\n",
            "Hello Ryan, Lets have dinner at my place tonight.\n",
            "Hello Trevor, Lets have dinner at my place tonight.\n",
            "Hello Luke, Lets have dinner at my place tonight.\n",
            "Hello Dylan, Lets have dinner at my place tonight.\n",
            "Sorry to hear you cant make it tonight Luke.\n",
            "Hello Jack, Lets have dinner at my place tonight.\n",
            "Hello Jake, Lets have dinner at my place tonight.\n",
            "Hello Ryan, Lets have dinner at my place tonight.\n",
            "Hello Trevor, Lets have dinner at my place tonight.\n",
            "Hello Dylan, Lets have dinner at my place tonight.\n",
            "Hey look like we still have room. Jeremy, Sheri, and Adam, would you care to join us?\n"
          ]
        }
      ],
      "source": [
        "# Create a list of friends' names\n",
        "names = ['Jake', 'Ryan', 'Trevor', 'Luke', 'Dylan']\n",
        "\n",
        "\n",
        "# Print each person's invite one at a time\n",
        "print(f\"Hello {names[0].title()}, Lets have dinner at my place tonight.\")\n",
        "print(f\"Hello {names[1].title()}, Lets have dinner at my place tonight.\")\n",
        "print(f\"Hello {names[2].title()}, Lets have dinner at my place tonight.\")\n",
        "print(f\"Hello {names[3].title()}, Lets have dinner at my place tonight.\")\n",
        "print(f\"Hello {names[4].title()}, Lets have dinner at my place tonight.\")\n",
        "print(f\"Sorry to hear you cant make it tonight {names[3].title()}.\")\n",
        "\n",
        "# Swithcing invite\n",
        "names[3] = 'Jack'\n",
        "\n",
        "# Print each person's invite one at a time\n",
        "print(f\"Hello {names[3].title()}, Lets have dinner at my place tonight.\")\n",
        "print(f\"Hello {names[0].title()}, Lets have dinner at my place tonight.\")\n",
        "print(f\"Hello {names[1].title()}, Lets have dinner at my place tonight.\")\n",
        "print(f\"Hello {names[2].title()}, Lets have dinner at my place tonight.\")\n",
        "print(f\"Hello {names[4].title()}, Lets have dinner at my place tonight.\")\n",
        "print(f\"Hey look like we still have room. Jeremy, Sheri, and Adam, would you care to join us?\")\n",
        "\n",
        "# Adding invites\n",
        "names.insert(0, 'Jeremy')\n",
        "names.insert(4, 'Sheri')\n",
        "names.append('Adam')"
      ]
    },
    {
      "cell_type": "markdown",
      "metadata": {
        "id": "KXwGB9cEMyXt"
      },
      "source": [
        "Print a new set of invitation messages, one for each person in your list."
      ]
    },
    {
      "cell_type": "code",
      "execution_count": 116,
      "metadata": {
        "id": "H74neQLoMyXt",
        "outputId": "a8b7ff48-145d-4b91-b9ae-a23a5eb09f7e",
        "colab": {
          "base_uri": "https://localhost:8080/"
        }
      },
      "outputs": [
        {
          "output_type": "stream",
          "name": "stdout",
          "text": [
            "Hello Jake, Lets have dinner at my place tonight.\n",
            "Hello Ryan, Lets have dinner at my place tonight.\n",
            "Hello Trevor, Lets have dinner at my place tonight.\n",
            "Hello Luke, Lets have dinner at my place tonight.\n",
            "Hello Dylan, Lets have dinner at my place tonight.\n",
            "Sorry to hear you cant make it tonight Luke.\n",
            "Hello Jack, Lets have dinner at my place tonight.\n",
            "Hello Jake, Lets have dinner at my place tonight.\n",
            "Hello Ryan, Lets have dinner at my place tonight.\n",
            "Hello Trevor, Lets have dinner at my place tonight.\n",
            "Hello Dylan, Lets have dinner at my place tonight.\n",
            "Hey look like we still have room. Jeremy, Sheri, and Adam, would you care to join us?\n",
            "Hello Trevor, Lets have dinner at my place tonight.\n",
            "Hello Jeremy, Lets have dinner at my place tonight.\n",
            "Hello Jake, Lets have dinner at my place tonight.\n",
            "Hello Ryan, Lets have dinner at my place tonight.\n",
            "Hello Sheri, Lets have dinner at my place tonight.\n",
            "Hello Jack, Lets have dinner at my place tonight.\n",
            "Hello Dylan, Lets have dinner at my place tonight.\n",
            "Hello Adam, Lets have dinner at my place tonight.\n"
          ]
        }
      ],
      "source": [
        "# Create a list of friends' names\n",
        "names = ['Jake', 'Ryan', 'Trevor', 'Luke', 'Dylan']\n",
        "\n",
        "\n",
        "# Print each person's invite one at a time\n",
        "print(f\"Hello {names[0].title()}, Lets have dinner at my place tonight.\")\n",
        "print(f\"Hello {names[1].title()}, Lets have dinner at my place tonight.\")\n",
        "print(f\"Hello {names[2].title()}, Lets have dinner at my place tonight.\")\n",
        "print(f\"Hello {names[3].title()}, Lets have dinner at my place tonight.\")\n",
        "print(f\"Hello {names[4].title()}, Lets have dinner at my place tonight.\")\n",
        "print(f\"Sorry to hear you cant make it tonight {names[3].title()}.\")\n",
        "\n",
        "# Swithcing invite\n",
        "names[3] = 'Jack'\n",
        "\n",
        "# Print each person's invite one at a time\n",
        "print(f\"Hello {names[3].title()}, Lets have dinner at my place tonight.\")\n",
        "print(f\"Hello {names[0].title()}, Lets have dinner at my place tonight.\")\n",
        "print(f\"Hello {names[1].title()}, Lets have dinner at my place tonight.\")\n",
        "print(f\"Hello {names[2].title()}, Lets have dinner at my place tonight.\")\n",
        "print(f\"Hello {names[4].title()}, Lets have dinner at my place tonight.\")\n",
        "print(f\"Hey look like we still have room. Jeremy, Sheri, and Adam, would you care to join us?\")\n",
        "\n",
        "# Adding invites\n",
        "names.insert(0, 'Jeremy')\n",
        "names.insert(4, 'Sheri')\n",
        "names.append('Adam')\n",
        "\n",
        "# Print each person's invite one at a time\n",
        "print(f\"Hello {names[3].title()}, Lets have dinner at my place tonight.\")\n",
        "print(f\"Hello {names[0].title()}, Lets have dinner at my place tonight.\")\n",
        "print(f\"Hello {names[1].title()}, Lets have dinner at my place tonight.\")\n",
        "print(f\"Hello {names[2].title()}, Lets have dinner at my place tonight.\")\n",
        "print(f\"Hello {names[4].title()}, Lets have dinner at my place tonight.\")\n",
        "print(f\"Hello {names[5].title()}, Lets have dinner at my place tonight.\")\n",
        "print(f\"Hello {names[6].title()}, Lets have dinner at my place tonight.\")\n",
        "print(f\"Hello {names[7].title()}, Lets have dinner at my place tonight.\")"
      ]
    },
    {
      "cell_type": "markdown",
      "metadata": {
        "id": "fUWNsJeJMyXt"
      },
      "source": [
        "## Question 7\n",
        "**Shrinking Guest List:** You just found out that your new dinner table won’t arrive in time for the dinner, and you have space for only two guests.\n",
        "\n",
        "Start with your program from Question 6. Add a new line that prints a message saying that you can invite only two people for dinner."
      ]
    },
    {
      "cell_type": "code",
      "execution_count": 115,
      "metadata": {
        "id": "k0GOk5TAMyXt",
        "outputId": "7f085dfd-bb68-427f-c401-f226b589521c",
        "colab": {
          "base_uri": "https://localhost:8080/"
        }
      },
      "outputs": [
        {
          "output_type": "stream",
          "name": "stdout",
          "text": [
            "Hello Jake, Lets have dinner at my place tonight.\n",
            "Hello Ryan, Lets have dinner at my place tonight.\n",
            "Hello Trevor, Lets have dinner at my place tonight.\n",
            "Hello Luke, Lets have dinner at my place tonight.\n",
            "Hello Dylan, Lets have dinner at my place tonight.\n",
            "Sorry to hear you cant make it tonight Luke.\n",
            "Hello Jack, Lets have dinner at my place tonight.\n",
            "Hello Jake, Lets have dinner at my place tonight.\n",
            "Hello Ryan, Lets have dinner at my place tonight.\n",
            "Hello Trevor, Lets have dinner at my place tonight.\n",
            "Hello Dylan, Lets have dinner at my place tonight.\n",
            "Hey look like we still have room. Jeremy, Sheri, and Adam, would you care to join us?\n",
            "Hello Trevor, Lets have dinner at my place tonight.\n",
            "Hello Jeremy, Lets have dinner at my place tonight.\n",
            "Hello Jake, Lets have dinner at my place tonight.\n",
            "Hello Ryan, Lets have dinner at my place tonight.\n",
            "Hello Sheri, Lets have dinner at my place tonight.\n",
            "Hello Jack, Lets have dinner at my place tonight.\n",
            "Hello Dylan, Lets have dinner at my place tonight.\n",
            "Hello Adam, Lets have dinner at my place tonight.\n",
            "Sorry everyone but my new dinner table is not ready and I will only be able to invite two people for tonght.\n"
          ]
        }
      ],
      "source": [
        "# Create a list of friends' names\n",
        "names = ['Jake', 'Ryan', 'Trevor', 'Luke', 'Dylan']\n",
        "\n",
        "\n",
        "# Print each person's invite one at a time\n",
        "print(f\"Hello {names[0].title()}, Lets have dinner at my place tonight.\")\n",
        "print(f\"Hello {names[1].title()}, Lets have dinner at my place tonight.\")\n",
        "print(f\"Hello {names[2].title()}, Lets have dinner at my place tonight.\")\n",
        "print(f\"Hello {names[3].title()}, Lets have dinner at my place tonight.\")\n",
        "print(f\"Hello {names[4].title()}, Lets have dinner at my place tonight.\")\n",
        "print(f\"Sorry to hear you cant make it tonight {names[3].title()}.\")\n",
        "\n",
        "# Swithcing invite\n",
        "names[3] = 'Jack'\n",
        "\n",
        "# Print each person's invite one at a time\n",
        "print(f\"Hello {names[3].title()}, Lets have dinner at my place tonight.\")\n",
        "print(f\"Hello {names[0].title()}, Lets have dinner at my place tonight.\")\n",
        "print(f\"Hello {names[1].title()}, Lets have dinner at my place tonight.\")\n",
        "print(f\"Hello {names[2].title()}, Lets have dinner at my place tonight.\")\n",
        "print(f\"Hello {names[4].title()}, Lets have dinner at my place tonight.\")\n",
        "print(f\"Hey look like we still have room. Jeremy, Sheri, and Adam, would you care to join us?\")\n",
        "\n",
        "# Adding invites\n",
        "names.insert(0, 'Jeremy')\n",
        "names.insert(4, 'Sheri')\n",
        "names.append('Adam')\n",
        "\n",
        "# Print each person's invite one at a time\n",
        "print(f\"Hello {names[3].title()}, Lets have dinner at my place tonight.\")\n",
        "print(f\"Hello {names[0].title()}, Lets have dinner at my place tonight.\")\n",
        "print(f\"Hello {names[1].title()}, Lets have dinner at my place tonight.\")\n",
        "print(f\"Hello {names[2].title()}, Lets have dinner at my place tonight.\")\n",
        "print(f\"Hello {names[4].title()}, Lets have dinner at my place tonight.\")\n",
        "print(f\"Hello {names[5].title()}, Lets have dinner at my place tonight.\")\n",
        "print(f\"Hello {names[6].title()}, Lets have dinner at my place tonight.\")\n",
        "print(f\"Hello {names[7].title()}, Lets have dinner at my place tonight.\")\n",
        "print(\"Sorry everyone but my new dinner table is not ready and I will only be able to invite two people for tonght.\")"
      ]
    },
    {
      "cell_type": "markdown",
      "metadata": {
        "id": "v5NLSUQaMyXt"
      },
      "source": [
        "Use pop() to remove guests from your list one at a time until only two names remain in your list. Each time you pop a name from your list, print a message to that person letting them know you’re sorry you can’t invite them to dinner."
      ]
    },
    {
      "cell_type": "code",
      "execution_count": 114,
      "metadata": {
        "id": "hFacg357MyXt",
        "outputId": "f9cb5423-6497-435e-cda9-b7d95ddb1073",
        "colab": {
          "base_uri": "https://localhost:8080/"
        }
      },
      "outputs": [
        {
          "output_type": "stream",
          "name": "stdout",
          "text": [
            "Hello Jake, Lets have dinner at my place tonight.\n",
            "Hello Ryan, Lets have dinner at my place tonight.\n",
            "Hello Trevor, Lets have dinner at my place tonight.\n",
            "Hello Luke, Lets have dinner at my place tonight.\n",
            "Hello Dylan, Lets have dinner at my place tonight.\n",
            "Sorry to hear you cant make it tonight Luke.\n",
            "Hello Jack, Lets have dinner at my place tonight.\n",
            "Hello Jake, Lets have dinner at my place tonight.\n",
            "Hello Ryan, Lets have dinner at my place tonight.\n",
            "Hello Trevor, Lets have dinner at my place tonight.\n",
            "Hello Dylan, Lets have dinner at my place tonight.\n",
            "Hey look like we still have room. Jeremy, Sheri, and Adam, would you care to join us?\n",
            "Hello Trevor, Lets have dinner at my place tonight.\n",
            "Hello Jeremy, Lets have dinner at my place tonight.\n",
            "Hello Jake, Lets have dinner at my place tonight.\n",
            "Hello Ryan, Lets have dinner at my place tonight.\n",
            "Hello Sheri, Lets have dinner at my place tonight.\n",
            "Hello Jack, Lets have dinner at my place tonight.\n",
            "Hello Dylan, Lets have dinner at my place tonight.\n",
            "Hello Adam, Lets have dinner at my place tonight.\n",
            "Sorry everyone but my new dinner table is not ready and I will only be able to invite two people for tonght.\n",
            "Sorry but I cant invite you to dinner tonight Adam.\n",
            "Sorry but I cant invite you to dinner tonight Dylan.\n",
            "Sorry but I cant invite you to dinner tonight Jack.\n",
            "Sorry but I cant invite you to dinner tonight Sheri.\n",
            "Sorry but I cant invite you to dinner tonight Trevor.\n",
            "Sorry but I cant invite you to dinner tonight Ryan.\n"
          ]
        }
      ],
      "source": [
        "# Create a list of friends' names\n",
        "names = ['Jake', 'Ryan', 'Trevor', 'Luke', 'Dylan']\n",
        "\n",
        "\n",
        "# Print each person's invite one at a time\n",
        "print(f\"Hello {names[0].title()}, Lets have dinner at my place tonight.\")\n",
        "print(f\"Hello {names[1].title()}, Lets have dinner at my place tonight.\")\n",
        "print(f\"Hello {names[2].title()}, Lets have dinner at my place tonight.\")\n",
        "print(f\"Hello {names[3].title()}, Lets have dinner at my place tonight.\")\n",
        "print(f\"Hello {names[4].title()}, Lets have dinner at my place tonight.\")\n",
        "print(f\"Sorry to hear you cant make it tonight {names[3].title()}.\")\n",
        "\n",
        "# Swithcing invite\n",
        "names[3] = 'Jack'\n",
        "\n",
        "# Print each person's invite one at a time\n",
        "print(f\"Hello {names[3].title()}, Lets have dinner at my place tonight.\")\n",
        "print(f\"Hello {names[0].title()}, Lets have dinner at my place tonight.\")\n",
        "print(f\"Hello {names[1].title()}, Lets have dinner at my place tonight.\")\n",
        "print(f\"Hello {names[2].title()}, Lets have dinner at my place tonight.\")\n",
        "print(f\"Hello {names[4].title()}, Lets have dinner at my place tonight.\")\n",
        "print(f\"Hey look like we still have room. Jeremy, Sheri, and Adam, would you care to join us?\")\n",
        "\n",
        "# Adding invites\n",
        "names.insert(0, 'Jeremy')\n",
        "names.insert(4, 'Sheri')\n",
        "names.append('Adam')\n",
        "\n",
        "# Print each person's invite one at a time\n",
        "print(f\"Hello {names[3].title()}, Lets have dinner at my place tonight.\")\n",
        "print(f\"Hello {names[0].title()}, Lets have dinner at my place tonight.\")\n",
        "print(f\"Hello {names[1].title()}, Lets have dinner at my place tonight.\")\n",
        "print(f\"Hello {names[2].title()}, Lets have dinner at my place tonight.\")\n",
        "print(f\"Hello {names[4].title()}, Lets have dinner at my place tonight.\")\n",
        "print(f\"Hello {names[5].title()}, Lets have dinner at my place tonight.\")\n",
        "print(f\"Hello {names[6].title()}, Lets have dinner at my place tonight.\")\n",
        "print(f\"Hello {names[7].title()}, Lets have dinner at my place tonight.\")\n",
        "print(\"Sorry everyone but my new dinner table is not ready and I will only be able to invite two people for tonght.\")\n",
        "\n",
        "# Print each person's news one at a time\n",
        "NotInvited = names.pop()\n",
        "print(f\"Sorry but I cant invite you to dinner tonight {NotInvited.title()}.\")\n",
        "NotInvited = names.pop()\n",
        "print(f\"Sorry but I cant invite you to dinner tonight {NotInvited.title()}.\")\n",
        "NotInvited = names.pop()\n",
        "print(f\"Sorry but I cant invite you to dinner tonight {NotInvited.title()}.\")\n",
        "NotInvited = names.pop()\n",
        "print(f\"Sorry but I cant invite you to dinner tonight {NotInvited.title()}.\")\n",
        "NotInvited = names.pop()\n",
        "print(f\"Sorry but I cant invite you to dinner tonight {NotInvited.title()}.\")\n",
        "NotInvited = names.pop()\n",
        "print(f\"Sorry but I cant invite you to dinner tonight {NotInvited.title()}.\")"
      ]
    },
    {
      "cell_type": "markdown",
      "metadata": {
        "id": "9McqyRvYMyXt"
      },
      "source": [
        "Print a message to each of the two people still on your list, letting them know they’re still invited."
      ]
    },
    {
      "cell_type": "code",
      "execution_count": 113,
      "metadata": {
        "id": "AuYvvs7rMyXt",
        "outputId": "20e88463-dff1-49fd-9a17-b77b03fcd2f2",
        "colab": {
          "base_uri": "https://localhost:8080/"
        }
      },
      "outputs": [
        {
          "output_type": "stream",
          "name": "stdout",
          "text": [
            "Hello Jake, Lets have dinner at my place tonight.\n",
            "Hello Ryan, Lets have dinner at my place tonight.\n",
            "Hello Trevor, Lets have dinner at my place tonight.\n",
            "Hello Luke, Lets have dinner at my place tonight.\n",
            "Hello Dylan, Lets have dinner at my place tonight.\n",
            "Sorry to hear you cant make it tonight Luke.\n",
            "Hello Jack, Lets have dinner at my place tonight.\n",
            "Hello Jake, Lets have dinner at my place tonight.\n",
            "Hello Ryan, Lets have dinner at my place tonight.\n",
            "Hello Trevor, Lets have dinner at my place tonight.\n",
            "Hello Dylan, Lets have dinner at my place tonight.\n",
            "Hey look like we still have room. Jeremy, Sheri, and Adam, would you care to join us?\n",
            "Hello Trevor, Lets have dinner at my place tonight.\n",
            "Hello Jeremy, Lets have dinner at my place tonight.\n",
            "Hello Jake, Lets have dinner at my place tonight.\n",
            "Hello Ryan, Lets have dinner at my place tonight.\n",
            "Hello Sheri, Lets have dinner at my place tonight.\n",
            "Hello Jack, Lets have dinner at my place tonight.\n",
            "Hello Dylan, Lets have dinner at my place tonight.\n",
            "Hello Adam, Lets have dinner at my place tonight.\n",
            "Sorry everyone but my new dinner table is not ready and I will only be able to invite two people for tonght.\n",
            "Sorry but I cant invite you to dinner tonight Adam.\n",
            "Sorry but I cant invite you to dinner tonight Dylan.\n",
            "Sorry but I cant invite you to dinner tonight Jack.\n",
            "Sorry but I cant invite you to dinner tonight Sheri.\n",
            "Sorry but I cant invite you to dinner tonight Trevor.\n",
            "Sorry but I cant invite you to dinner tonight Ryan.\n",
            "Hello Jeremy, You cans still have dinner at my place tonight.\n",
            "Hello Jake, You cans still have dinner at my place tonight.\n"
          ]
        }
      ],
      "source": [
        "# Create a list of friends' names\n",
        "names = ['Jake', 'Ryan', 'Trevor', 'Luke', 'Dylan']\n",
        "\n",
        "\n",
        "# Print each person's invite one at a time\n",
        "print(f\"Hello {names[0].title()}, Lets have dinner at my place tonight.\")\n",
        "print(f\"Hello {names[1].title()}, Lets have dinner at my place tonight.\")\n",
        "print(f\"Hello {names[2].title()}, Lets have dinner at my place tonight.\")\n",
        "print(f\"Hello {names[3].title()}, Lets have dinner at my place tonight.\")\n",
        "print(f\"Hello {names[4].title()}, Lets have dinner at my place tonight.\")\n",
        "print(f\"Sorry to hear you cant make it tonight {names[3].title()}.\")\n",
        "\n",
        "# Swithcing invite\n",
        "names[3] = 'Jack'\n",
        "\n",
        "# Print each person's invite one at a time\n",
        "print(f\"Hello {names[3].title()}, Lets have dinner at my place tonight.\")\n",
        "print(f\"Hello {names[0].title()}, Lets have dinner at my place tonight.\")\n",
        "print(f\"Hello {names[1].title()}, Lets have dinner at my place tonight.\")\n",
        "print(f\"Hello {names[2].title()}, Lets have dinner at my place tonight.\")\n",
        "print(f\"Hello {names[4].title()}, Lets have dinner at my place tonight.\")\n",
        "print(f\"Hey look like we still have room. Jeremy, Sheri, and Adam, would you care to join us?\")\n",
        "\n",
        "# Adding invites\n",
        "names.insert(0, 'Jeremy')\n",
        "names.insert(4, 'Sheri')\n",
        "names.append('Adam')\n",
        "\n",
        "# Print each person's invite one at a time\n",
        "print(f\"Hello {names[3].title()}, Lets have dinner at my place tonight.\")\n",
        "print(f\"Hello {names[0].title()}, Lets have dinner at my place tonight.\")\n",
        "print(f\"Hello {names[1].title()}, Lets have dinner at my place tonight.\")\n",
        "print(f\"Hello {names[2].title()}, Lets have dinner at my place tonight.\")\n",
        "print(f\"Hello {names[4].title()}, Lets have dinner at my place tonight.\")\n",
        "print(f\"Hello {names[5].title()}, Lets have dinner at my place tonight.\")\n",
        "print(f\"Hello {names[6].title()}, Lets have dinner at my place tonight.\")\n",
        "print(f\"Hello {names[7].title()}, Lets have dinner at my place tonight.\")\n",
        "print(\"Sorry everyone but my new dinner table is not ready and I will only be able to invite two people for tonght.\")\n",
        "\n",
        "# Print each person's news one at a time\n",
        "NotInvited = names.pop()\n",
        "print(f\"Sorry but I cant invite you to dinner tonight {NotInvited.title()}.\")\n",
        "NotInvited = names.pop()\n",
        "print(f\"Sorry but I cant invite you to dinner tonight {NotInvited.title()}.\")\n",
        "NotInvited = names.pop()\n",
        "print(f\"Sorry but I cant invite you to dinner tonight {NotInvited.title()}.\")\n",
        "NotInvited = names.pop()\n",
        "print(f\"Sorry but I cant invite you to dinner tonight {NotInvited.title()}.\")\n",
        "NotInvited = names.pop()\n",
        "print(f\"Sorry but I cant invite you to dinner tonight {NotInvited.title()}.\")\n",
        "NotInvited = names.pop()\n",
        "print(f\"Sorry but I cant invite you to dinner tonight {NotInvited.title()}.\")\n",
        "\n",
        "# Print each person's invite one at a time\n",
        "print(f\"Hello {names[0].title()}, You cans still have dinner at my place tonight.\")\n",
        "print(f\"Hello {names[1].title()}, You cans still have dinner at my place tonight.\")"
      ]
    },
    {
      "cell_type": "markdown",
      "metadata": {
        "id": "QTny89ikMyXt"
      },
      "source": [
        "Use del to remove the last two names from your list, so you have an empty list. Print your list to make sure you actually have an empty list at the end of your program."
      ]
    },
    {
      "cell_type": "code",
      "execution_count": 112,
      "metadata": {
        "id": "uSsMY9KcMyXt",
        "outputId": "6d60e36f-ea91-4fdf-bdd7-f39b8f954ff8",
        "colab": {
          "base_uri": "https://localhost:8080/"
        }
      },
      "outputs": [
        {
          "output_type": "stream",
          "name": "stdout",
          "text": [
            "Hello Jake, Lets have dinner at my place tonight.\n",
            "Hello Ryan, Lets have dinner at my place tonight.\n",
            "Hello Trevor, Lets have dinner at my place tonight.\n",
            "Hello Luke, Lets have dinner at my place tonight.\n",
            "Hello Dylan, Lets have dinner at my place tonight.\n",
            "Sorry to hear you cant make it tonight Luke.\n",
            "Hello Jack, Lets have dinner at my place tonight.\n",
            "Hello Jake, Lets have dinner at my place tonight.\n",
            "Hello Ryan, Lets have dinner at my place tonight.\n",
            "Hello Trevor, Lets have dinner at my place tonight.\n",
            "Hello Dylan, Lets have dinner at my place tonight.\n",
            "Hey look like we still have room. Jeremy, Sheri, and Adam, would you care to join us?\n",
            "Hello Trevor, Lets have dinner at my place tonight.\n",
            "Hello Jeremy, Lets have dinner at my place tonight.\n",
            "Hello Jake, Lets have dinner at my place tonight.\n",
            "Hello Ryan, Lets have dinner at my place tonight.\n",
            "Hello Sheri, Lets have dinner at my place tonight.\n",
            "Hello Jack, Lets have dinner at my place tonight.\n",
            "Hello Dylan, Lets have dinner at my place tonight.\n",
            "Hello Adam, Lets have dinner at my place tonight.\n",
            "Sorry everyone but my new dinner table is not ready and I will only be able to invite two people for tonght.\n",
            "Sorry but I cant invite you to dinner tonight Adam.\n",
            "Sorry but I cant invite you to dinner tonight Dylan.\n",
            "Sorry but I cant invite you to dinner tonight Jack.\n",
            "Sorry but I cant invite you to dinner tonight Sheri.\n",
            "Sorry but I cant invite you to dinner tonight Trevor.\n",
            "Sorry but I cant invite you to dinner tonight Ryan.\n",
            "Hello Jeremy, You cans still have dinner at my place tonight.\n",
            "Hello Jake, You cans still have dinner at my place tonight.\n",
            "['Jake']\n",
            "[]\n"
          ]
        }
      ],
      "source": [
        "# Create a list of friends' names\n",
        "names = ['Jake', 'Ryan', 'Trevor', 'Luke', 'Dylan']\n",
        "\n",
        "\n",
        "# Print each person's invite one at a time\n",
        "print(f\"Hello {names[0].title()}, Lets have dinner at my place tonight.\")\n",
        "print(f\"Hello {names[1].title()}, Lets have dinner at my place tonight.\")\n",
        "print(f\"Hello {names[2].title()}, Lets have dinner at my place tonight.\")\n",
        "print(f\"Hello {names[3].title()}, Lets have dinner at my place tonight.\")\n",
        "print(f\"Hello {names[4].title()}, Lets have dinner at my place tonight.\")\n",
        "print(f\"Sorry to hear you cant make it tonight {names[3].title()}.\")\n",
        "\n",
        "# Swithcing invite\n",
        "names[3] = 'Jack'\n",
        "\n",
        "# Print each person's invite one at a time\n",
        "print(f\"Hello {names[3].title()}, Lets have dinner at my place tonight.\")\n",
        "print(f\"Hello {names[0].title()}, Lets have dinner at my place tonight.\")\n",
        "print(f\"Hello {names[1].title()}, Lets have dinner at my place tonight.\")\n",
        "print(f\"Hello {names[2].title()}, Lets have dinner at my place tonight.\")\n",
        "print(f\"Hello {names[4].title()}, Lets have dinner at my place tonight.\")\n",
        "print(f\"Hey look like we still have room. Jeremy, Sheri, and Adam, would you care to join us?\")\n",
        "\n",
        "# Adding invites\n",
        "names.insert(0, 'Jeremy')\n",
        "names.insert(4, 'Sheri')\n",
        "names.append('Adam')\n",
        "\n",
        "# Print each person's invite one at a time\n",
        "print(f\"Hello {names[3].title()}, Lets have dinner at my place tonight.\")\n",
        "print(f\"Hello {names[0].title()}, Lets have dinner at my place tonight.\")\n",
        "print(f\"Hello {names[1].title()}, Lets have dinner at my place tonight.\")\n",
        "print(f\"Hello {names[2].title()}, Lets have dinner at my place tonight.\")\n",
        "print(f\"Hello {names[4].title()}, Lets have dinner at my place tonight.\")\n",
        "print(f\"Hello {names[5].title()}, Lets have dinner at my place tonight.\")\n",
        "print(f\"Hello {names[6].title()}, Lets have dinner at my place tonight.\")\n",
        "print(f\"Hello {names[7].title()}, Lets have dinner at my place tonight.\")\n",
        "print(\"Sorry everyone but my new dinner table is not ready and I will only be able to invite two people for tonght.\")\n",
        "\n",
        "# Print each person's news one at a time\n",
        "NotInvited = names.pop()\n",
        "print(f\"Sorry but I cant invite you to dinner tonight {NotInvited.title()}.\")\n",
        "NotInvited = names.pop()\n",
        "print(f\"Sorry but I cant invite you to dinner tonight {NotInvited.title()}.\")\n",
        "NotInvited = names.pop()\n",
        "print(f\"Sorry but I cant invite you to dinner tonight {NotInvited.title()}.\")\n",
        "NotInvited = names.pop()\n",
        "print(f\"Sorry but I cant invite you to dinner tonight {NotInvited.title()}.\")\n",
        "NotInvited = names.pop()\n",
        "print(f\"Sorry but I cant invite you to dinner tonight {NotInvited.title()}.\")\n",
        "NotInvited = names.pop()\n",
        "print(f\"Sorry but I cant invite you to dinner tonight {NotInvited.title()}.\")\n",
        "\n",
        "# Print each person's invite one at a time\n",
        "print(f\"Hello {names[0].title()}, You cans still have dinner at my place tonight.\")\n",
        "print(f\"Hello {names[1].title()}, You cans still have dinner at my place tonight.\")\n",
        "\n",
        "# Removing list\n",
        "del names[0]\n",
        "print(names)\n",
        "del names[0]\n",
        "print(names)"
      ]
    },
    {
      "cell_type": "markdown",
      "metadata": {
        "id": "7kJ9l8KTMyXt"
      },
      "source": [
        "## Question 8\n",
        "**Seeing the World:** Think of at least five places in the world you’d like to visit.\n",
        "\n",
        "Store the locations in a list. Make sure the list is not in alphabetical order."
      ]
    },
    {
      "cell_type": "code",
      "execution_count": 136,
      "metadata": {
        "id": "N2scr_QsMyXt",
        "outputId": "3b4c2f7f-5f91-4e8c-f6d4-2c8fc7d66aeb",
        "colab": {
          "base_uri": "https://localhost:8080/"
        }
      },
      "outputs": [
        {
          "output_type": "stream",
          "name": "stdout",
          "text": [
            "['Japan', 'Texas', 'Canada', 'New York', 'Montana']\n"
          ]
        }
      ],
      "source": [
        "# Create a list of locations\n",
        "names = ['Japan', 'Texas', 'Canada', 'New York', 'Montana']\n",
        "\n",
        "# Print List\n",
        "print(names)"
      ]
    },
    {
      "cell_type": "markdown",
      "metadata": {
        "id": "nzis3R7CMyXy"
      },
      "source": [
        "Print your list in its original order. Don’t worry about printing the list neatly, just print it as a raw Python list."
      ]
    },
    {
      "cell_type": "code",
      "execution_count": 137,
      "metadata": {
        "id": "jSnErVp_MyXy",
        "outputId": "9877dd66-6116-4256-868f-0ef140e38fc2",
        "colab": {
          "base_uri": "https://localhost:8080/"
        }
      },
      "outputs": [
        {
          "output_type": "stream",
          "name": "stdout",
          "text": [
            "['Japan', 'Texas', 'Canada', 'New York', 'Montana']\n"
          ]
        }
      ],
      "source": [
        "# Create a list of locations\n",
        "names = ['Japan', 'Texas', 'Canada', 'New York', 'Montana']\n",
        "\n",
        "# Print List\n",
        "print(names)"
      ]
    },
    {
      "cell_type": "markdown",
      "metadata": {
        "id": "cvS6wyWJMyXy"
      },
      "source": [
        "Use sorted() to print your list in alphabetical order without modifying the actual list."
      ]
    },
    {
      "cell_type": "code",
      "execution_count": 142,
      "metadata": {
        "id": "fHSnmJfwMyXy",
        "outputId": "485fcb1e-2e0c-494c-d1af-a163200fedff",
        "colab": {
          "base_uri": "https://localhost:8080/",
          "height": 228
        }
      },
      "outputs": [
        {
          "output_type": "error",
          "ename": "TypeError",
          "evalue": "ignored",
          "traceback": [
            "\u001b[0;31m---------------------------------------------------------------------------\u001b[0m",
            "\u001b[0;31mTypeError\u001b[0m                                 Traceback (most recent call last)",
            "\u001b[0;32m<ipython-input-142-e259d4ee7923>\u001b[0m in \u001b[0;36m<cell line: 5>\u001b[0;34m()\u001b[0m\n\u001b[1;32m      3\u001b[0m \u001b[0;34m\u001b[0m\u001b[0m\n\u001b[1;32m      4\u001b[0m \u001b[0;31m# Print List\u001b[0m\u001b[0;34m\u001b[0m\u001b[0;34m\u001b[0m\u001b[0m\n\u001b[0;32m----> 5\u001b[0;31m \u001b[0mprint\u001b[0m\u001b[0;34m(\u001b[0m\u001b[0msorted\u001b[0m\u001b[0;34m(\u001b[0m\u001b[0mnames\u001b[0m\u001b[0;34m)\u001b[0m\u001b[0;34m)\u001b[0m\u001b[0;34m\u001b[0m\u001b[0;34m\u001b[0m\u001b[0m\n\u001b[0m\u001b[1;32m      6\u001b[0m \u001b[0;31m#this works is Jupyter but not here and I can't seem to get it to work here.\u001b[0m\u001b[0;34m\u001b[0m\u001b[0;34m\u001b[0m\u001b[0m\n",
            "\u001b[0;31mTypeError\u001b[0m: 'NoneType' object is not callable"
          ]
        }
      ],
      "source": [
        "# Create a list of locations\n",
        "names = ['Japan', 'Texas', 'Canada', 'New York', 'Montana']\n",
        "\n",
        "# Print List\n",
        "print(sorted(names))\n",
        "#this works is Jupyter but not here and I can't seem to get it to work here."
      ]
    },
    {
      "cell_type": "markdown",
      "metadata": {
        "id": "um2Jx1WlMyXz"
      },
      "source": [
        "Show that your list is still in its original order by printing it."
      ]
    },
    {
      "cell_type": "code",
      "execution_count": 143,
      "metadata": {
        "id": "-jzz92HCMyXz",
        "outputId": "2c336834-fed6-42e3-b877-93f5efacbbfe",
        "colab": {
          "base_uri": "https://localhost:8080/",
          "height": 246
        }
      },
      "outputs": [
        {
          "output_type": "error",
          "ename": "TypeError",
          "evalue": "ignored",
          "traceback": [
            "\u001b[0;31m---------------------------------------------------------------------------\u001b[0m",
            "\u001b[0;31mTypeError\u001b[0m                                 Traceback (most recent call last)",
            "\u001b[0;32m<ipython-input-143-7f9bec2951e6>\u001b[0m in \u001b[0;36m<cell line: 5>\u001b[0;34m()\u001b[0m\n\u001b[1;32m      3\u001b[0m \u001b[0;34m\u001b[0m\u001b[0m\n\u001b[1;32m      4\u001b[0m \u001b[0;31m# Print List\u001b[0m\u001b[0;34m\u001b[0m\u001b[0;34m\u001b[0m\u001b[0m\n\u001b[0;32m----> 5\u001b[0;31m \u001b[0mprint\u001b[0m\u001b[0;34m(\u001b[0m\u001b[0msorted\u001b[0m\u001b[0;34m(\u001b[0m\u001b[0mnames\u001b[0m\u001b[0;34m)\u001b[0m\u001b[0;34m)\u001b[0m\u001b[0;34m\u001b[0m\u001b[0;34m\u001b[0m\u001b[0m\n\u001b[0m\u001b[1;32m      6\u001b[0m \u001b[0;31m#this works is Jupyter but not here and I can't seem to get it to work here.\u001b[0m\u001b[0;34m\u001b[0m\u001b[0;34m\u001b[0m\u001b[0m\n\u001b[1;32m      7\u001b[0m \u001b[0mprint\u001b[0m\u001b[0;34m(\u001b[0m\u001b[0mnames\u001b[0m\u001b[0;34m)\u001b[0m\u001b[0;34m\u001b[0m\u001b[0;34m\u001b[0m\u001b[0m\n",
            "\u001b[0;31mTypeError\u001b[0m: 'NoneType' object is not callable"
          ]
        }
      ],
      "source": [
        "# Create a list of locations\n",
        "names = ['Japan', 'Texas', 'Canada', 'New York', 'Montana']\n",
        "\n",
        "# Print List\n",
        "print(sorted(names))\n",
        "#this works is Jupyter but not here and I can't seem to get it to work here.\n",
        "print(names)"
      ]
    },
    {
      "cell_type": "markdown",
      "metadata": {
        "id": "VNjtK5UNMyXz"
      },
      "source": [
        "Use sorted() to print your list in reverse alphabetical order without changing the order of the original list."
      ]
    },
    {
      "cell_type": "code",
      "execution_count": 144,
      "metadata": {
        "id": "f8r18dexMyXz",
        "outputId": "4eb109d4-270f-4c80-a74a-87cbde0ee468",
        "colab": {
          "base_uri": "https://localhost:8080/"
        }
      },
      "outputs": [
        {
          "output_type": "stream",
          "name": "stdout",
          "text": [
            "['Texas', 'New York', 'Montana', 'Japan', 'Canada']\n"
          ]
        }
      ],
      "source": [
        "# Create a list of locations\n",
        "names = ['Japan', 'Texas', 'Canada', 'New York', 'Montana']\n",
        "\n",
        "# Print List\n",
        "names.sort(reverse=True)\n",
        "print(names)"
      ]
    },
    {
      "cell_type": "markdown",
      "metadata": {
        "id": "HgmoJa4iMyXz"
      },
      "source": [
        "Show that your list is still in its original order by printing it again."
      ]
    },
    {
      "cell_type": "code",
      "execution_count": 146,
      "metadata": {
        "id": "ukycvKuYMyXz",
        "outputId": "c4cf2b4f-69f5-473f-f7f1-dadb4d99005d",
        "colab": {
          "base_uri": "https://localhost:8080/"
        }
      },
      "outputs": [
        {
          "output_type": "stream",
          "name": "stdout",
          "text": [
            "['Japan', 'Texas', 'Canada', 'New York', 'Montana']\n"
          ]
        }
      ],
      "source": [
        "# Create a list of locations\n",
        "names = ['Japan', 'Texas', 'Canada', 'New York', 'Montana']\n",
        "\n",
        "# Print List\n",
        "print(names)"
      ]
    },
    {
      "cell_type": "markdown",
      "metadata": {
        "id": "-hOxNJYkMyXz"
      },
      "source": [
        "Use reverse() to change the order of your list. Print the list to show that its order has changed."
      ]
    },
    {
      "cell_type": "code",
      "execution_count": 147,
      "metadata": {
        "id": "DH6omtzkMyXz",
        "outputId": "c8c5835d-df87-4eaa-813d-90cceb65e829",
        "colab": {
          "base_uri": "https://localhost:8080/"
        }
      },
      "outputs": [
        {
          "output_type": "stream",
          "name": "stdout",
          "text": [
            "['Montana', 'New York', 'Canada', 'Texas', 'Japan']\n"
          ]
        }
      ],
      "source": [
        "# Create a list of locations\n",
        "names = ['Japan', 'Texas', 'Canada', 'New York', 'Montana']\n",
        "names.reverse()\n",
        "\n",
        "# Print List\n",
        "print(names)"
      ]
    },
    {
      "cell_type": "markdown",
      "metadata": {
        "id": "HcRtXd_BMyXz"
      },
      "source": [
        "Use reverse() to change the order of your list again. Print the list to show it’s back to its original order."
      ]
    },
    {
      "cell_type": "code",
      "execution_count": 148,
      "metadata": {
        "id": "xHtgqWg-MyXz",
        "outputId": "a1d32db4-2a4a-47cc-e70e-09be489bcd88",
        "colab": {
          "base_uri": "https://localhost:8080/"
        }
      },
      "outputs": [
        {
          "output_type": "stream",
          "name": "stdout",
          "text": [
            "['Japan', 'Texas', 'Canada', 'New York', 'Montana']\n"
          ]
        }
      ],
      "source": [
        "# Create a list of locations\n",
        "names = ['Japan', 'Texas', 'Canada', 'New York', 'Montana']\n",
        "names.reverse()\n",
        "names.reverse()\n",
        "\n",
        "# Print List\n",
        "print(names)"
      ]
    },
    {
      "cell_type": "markdown",
      "metadata": {
        "id": "TBB51Z6PMyXz"
      },
      "source": [
        "Use sort() to change your list so it’s stored in alphabetical order. Print the list to show that its order has been changed."
      ]
    },
    {
      "cell_type": "code",
      "execution_count": 149,
      "metadata": {
        "id": "lsBCmMVKMyXz",
        "outputId": "5399d1be-5d81-4ad1-a056-295c71694134",
        "colab": {
          "base_uri": "https://localhost:8080/"
        }
      },
      "outputs": [
        {
          "output_type": "stream",
          "name": "stdout",
          "text": [
            "['Canada', 'Japan', 'Montana', 'New York', 'Texas']\n"
          ]
        }
      ],
      "source": [
        "# Create a list of locations\n",
        "names = ['Japan', 'Texas', 'Canada', 'New York', 'Montana']\n",
        "names.reverse()\n",
        "names.reverse()\n",
        "names.sort()\n",
        "\n",
        "# Print List\n",
        "print(names)"
      ]
    },
    {
      "cell_type": "markdown",
      "metadata": {
        "id": "ndVdrg4vMyXz"
      },
      "source": [
        "Use sort() to change your list so it’s stored in reverse alphabetical order. Print the list to show that its order has changed."
      ]
    },
    {
      "cell_type": "code",
      "execution_count": 150,
      "metadata": {
        "id": "w8u8P7MaMyX0",
        "outputId": "23bb4789-bbb2-486b-d43a-02316d768e42",
        "colab": {
          "base_uri": "https://localhost:8080/"
        }
      },
      "outputs": [
        {
          "output_type": "stream",
          "name": "stdout",
          "text": [
            "['Texas', 'New York', 'Montana', 'Japan', 'Canada']\n"
          ]
        }
      ],
      "source": [
        "# Create a list of locations\n",
        "names = ['Japan', 'Texas', 'Canada', 'New York', 'Montana']\n",
        "names.reverse()\n",
        "names.reverse()\n",
        "names.sort()\n",
        "names.sort(reverse=True)\n",
        "\n",
        "# Print List\n",
        "print(names)"
      ]
    },
    {
      "cell_type": "markdown",
      "metadata": {
        "id": "piR2p2zdMyX0"
      },
      "source": [
        "## Question 9\n",
        "**Dinner Guests:** Working with one of the programs from Question 4 through Question 7, use len() to print a message indicating the number of people you are inviting to dinner."
      ]
    },
    {
      "cell_type": "code",
      "execution_count": 155,
      "metadata": {
        "id": "1LO2n33EMyX0",
        "outputId": "d7b9f9ab-4cc3-4290-f482-ccebaf06e676",
        "colab": {
          "base_uri": "https://localhost:8080/"
        }
      },
      "outputs": [
        {
          "output_type": "stream",
          "name": "stdout",
          "text": [
            "Hello Jake, Lets have dinner at my place tonight.\n",
            "Hello Ryan, Lets have dinner at my place tonight.\n",
            "Hello Trevor, Lets have dinner at my place tonight.\n",
            "Hello Luke, Lets have dinner at my place tonight.\n",
            "Hello Dylan, Lets have dinner at my place tonight.\n",
            "5\n",
            "Sorry to hear you cant make it tonight Luke.\n",
            "Hello Jack, Lets have dinner at my place tonight.\n",
            "Hello Jake, Lets have dinner at my place tonight.\n",
            "Hello Ryan, Lets have dinner at my place tonight.\n",
            "Hello Trevor, Lets have dinner at my place tonight.\n",
            "Hello Dylan, Lets have dinner at my place tonight.\n",
            "5\n",
            "Hey look like we still have room. Jeremy, Sheri, and Adam, would you care to join us?\n",
            "Hello Trevor, Lets have dinner at my place tonight.\n",
            "Hello Jeremy, Lets have dinner at my place tonight.\n",
            "Hello Jake, Lets have dinner at my place tonight.\n",
            "Hello Ryan, Lets have dinner at my place tonight.\n",
            "Hello Sheri, Lets have dinner at my place tonight.\n",
            "Hello Jack, Lets have dinner at my place tonight.\n",
            "Hello Dylan, Lets have dinner at my place tonight.\n",
            "Hello Adam, Lets have dinner at my place tonight.\n",
            "8\n",
            "Sorry everyone but my new dinner table is not ready and I will only be able to invite two people for tonght.\n",
            "Sorry but I cant invite you to dinner tonight Adam.\n",
            "Sorry but I cant invite you to dinner tonight Dylan.\n",
            "Sorry but I cant invite you to dinner tonight Jack.\n",
            "Sorry but I cant invite you to dinner tonight Sheri.\n",
            "Sorry but I cant invite you to dinner tonight Trevor.\n",
            "Sorry but I cant invite you to dinner tonight Ryan.\n",
            "Hello Jeremy, You cans still have dinner at my place tonight.\n",
            "Hello Jake, You cans still have dinner at my place tonight.\n",
            "2\n",
            "['Jake']\n",
            "[]\n"
          ]
        },
        {
          "output_type": "execute_result",
          "data": {
            "text/plain": [
              "0"
            ]
          },
          "metadata": {},
          "execution_count": 155
        }
      ],
      "source": [
        "# Create a list of friends' names\n",
        "names = ['Jake', 'Ryan', 'Trevor', 'Luke', 'Dylan']\n",
        "\n",
        "\n",
        "# Print each person's invite one at a time\n",
        "print(f\"Hello {names[0].title()}, Lets have dinner at my place tonight.\")\n",
        "print(f\"Hello {names[1].title()}, Lets have dinner at my place tonight.\")\n",
        "print(f\"Hello {names[2].title()}, Lets have dinner at my place tonight.\")\n",
        "print(f\"Hello {names[3].title()}, Lets have dinner at my place tonight.\")\n",
        "print(f\"Hello {names[4].title()}, Lets have dinner at my place tonight.\")\n",
        "\n",
        "print(len(names))\n",
        "\n",
        "print(f\"Sorry to hear you cant make it tonight {names[3].title()}.\")\n",
        "\n",
        "\n",
        "# Swithcing invite\n",
        "names[3] = 'Jack'\n",
        "\n",
        "# Print each person's invite one at a time\n",
        "print(f\"Hello {names[3].title()}, Lets have dinner at my place tonight.\")\n",
        "print(f\"Hello {names[0].title()}, Lets have dinner at my place tonight.\")\n",
        "print(f\"Hello {names[1].title()}, Lets have dinner at my place tonight.\")\n",
        "print(f\"Hello {names[2].title()}, Lets have dinner at my place tonight.\")\n",
        "print(f\"Hello {names[4].title()}, Lets have dinner at my place tonight.\")\n",
        "\n",
        "print(len(names))\n",
        "\n",
        "print(f\"Hey look like we still have room. Jeremy, Sheri, and Adam, would you care to join us?\")\n",
        "\n",
        "# Adding invites\n",
        "names.insert(0, 'Jeremy')\n",
        "names.insert(4, 'Sheri')\n",
        "names.append('Adam')\n",
        "\n",
        "# Print each person's invite one at a time\n",
        "print(f\"Hello {names[3].title()}, Lets have dinner at my place tonight.\")\n",
        "print(f\"Hello {names[0].title()}, Lets have dinner at my place tonight.\")\n",
        "print(f\"Hello {names[1].title()}, Lets have dinner at my place tonight.\")\n",
        "print(f\"Hello {names[2].title()}, Lets have dinner at my place tonight.\")\n",
        "print(f\"Hello {names[4].title()}, Lets have dinner at my place tonight.\")\n",
        "print(f\"Hello {names[5].title()}, Lets have dinner at my place tonight.\")\n",
        "print(f\"Hello {names[6].title()}, Lets have dinner at my place tonight.\")\n",
        "print(f\"Hello {names[7].title()}, Lets have dinner at my place tonight.\")\n",
        "\n",
        "print(len(names))\n",
        "\n",
        "print(\"Sorry everyone but my new dinner table is not ready and I will only be able to invite two people for tonght.\")\n",
        "\n",
        "# Print each person's news one at a time\n",
        "NotInvited = names.pop()\n",
        "print(f\"Sorry but I cant invite you to dinner tonight {NotInvited.title()}.\")\n",
        "NotInvited = names.pop()\n",
        "print(f\"Sorry but I cant invite you to dinner tonight {NotInvited.title()}.\")\n",
        "NotInvited = names.pop()\n",
        "print(f\"Sorry but I cant invite you to dinner tonight {NotInvited.title()}.\")\n",
        "NotInvited = names.pop()\n",
        "print(f\"Sorry but I cant invite you to dinner tonight {NotInvited.title()}.\")\n",
        "NotInvited = names.pop()\n",
        "print(f\"Sorry but I cant invite you to dinner tonight {NotInvited.title()}.\")\n",
        "NotInvited = names.pop()\n",
        "print(f\"Sorry but I cant invite you to dinner tonight {NotInvited.title()}.\")\n",
        "\n",
        "# Print each person's invite one at a time\n",
        "print(f\"Hello {names[0].title()}, You cans still have dinner at my place tonight.\")\n",
        "print(f\"Hello {names[1].title()}, You cans still have dinner at my place tonight.\")\n",
        "\n",
        "print(len(names))\n",
        "\n",
        "# Removing list\n",
        "del names[0]\n",
        "print(names)\n",
        "del names[0]\n",
        "print(names)\n",
        "\n",
        "len(names)"
      ]
    },
    {
      "cell_type": "markdown",
      "metadata": {
        "id": "MAgd2Y3aMyX0"
      },
      "source": [
        "## Question 10\n",
        "**Every Function:** Think of something you could store in a list. For example, you could make a list of mountains, rivers, countries, cities, languages, or anything else you’d like. Write a program that creates a list containing these items and then uses each function introduced in this chapter at least once."
      ]
    },
    {
      "cell_type": "code",
      "execution_count": 204,
      "metadata": {
        "id": "OMYNpqv6MyX0",
        "outputId": "541e7902-e53d-4719-ea99-aaf504c1e758",
        "colab": {
          "base_uri": "https://localhost:8080/"
        }
      },
      "outputs": [
        {
          "output_type": "stream",
          "name": "stdout",
          "text": [
            "Desktop\n",
            "Mouse\n",
            "I need to buy a new Keyboard.\n",
            "['camera', 'monitor', 'keyboard', 'mouse']\n",
            "['camera', 'monitor', 'keyboard', 'mouse', 'desktop']\n",
            "['trackpad', 'camera', 'monitor', 'keyboard', 'mouse', 'desktop']\n",
            "['camera', 'monitor', 'keyboard', 'mouse', 'desktop']\n",
            "['monitor', 'keyboard', 'mouse', 'desktop']\n",
            "camera\n",
            "The last gaming equipent I upgraded was a Desktop.\n",
            "['monitor', 'keyboard', 'mouse', 'desktop']\n",
            "['monitor', 'keyboard', 'mouse']\n",
            "\n",
            "Buying another Desktop is too expensive for me.\n",
            "['monitor', 'keyboard', 'mouse']\n",
            "['keyboard', 'monitor', 'mouse']\n",
            "['mouse', 'monitor', 'keyboard']\n",
            "['bmw', 'audi', 'toyota', 'subaru']\n",
            "['bmw', 'audi', 'toyota', 'subaru']\n"
          ]
        },
        {
          "output_type": "execute_result",
          "data": {
            "text/plain": [
              "3"
            ]
          },
          "metadata": {},
          "execution_count": 204
        }
      ],
      "source": [
        "gaming = ['desktop', 'monitor', 'keyboard', 'mouse']\n",
        "\n",
        "print(gaming[0].title())\n",
        "print(gaming[-1].title())\n",
        "message = f\"I need to buy a new {gaming[2].title()}.\"\n",
        "print(message)\n",
        "\n",
        "gaming[0] = 'camera'\n",
        "print(gaming)\n",
        "\n",
        "gaming.append('desktop')\n",
        "print(gaming)\n",
        "\n",
        "gaming.insert(0, 'trackpad')\n",
        "print(gaming)\n",
        "\n",
        "del gaming[0]\n",
        "print(gaming)\n",
        "\n",
        "popped_gaming = gaming.pop(0)\n",
        "print(gaming)\n",
        "print(popped_gaming)\n",
        "\n",
        "last_owned = gaming.pop()\n",
        "print(f\"The last gaming equipent I upgraded was a {last_owned.title()}.\")\n",
        "\n",
        "gaming = ['monitor', 'keyboard', 'mouse', 'desktop']\n",
        "\n",
        "print(gaming)\n",
        "too_expensive = 'desktop'\n",
        "gaming.remove(too_expensive)\n",
        "print(gaming)\n",
        "print(f\"\\nBuying another {too_expensive.title()} is too expensive for me.\")\n",
        "print(gaming)\n",
        "\n",
        "gaming.sort()\n",
        "print(gaming)\n",
        "\n",
        "gaming.sort(reverse=True)\n",
        "print(gaming)\n",
        "\n",
        "gaming.reverse()\n",
        "print(cars)\n",
        "\n",
        "gaming.reverse()\n",
        "print(cars)\n",
        "\n",
        "len(gaming)"
      ]
    }
  ],
  "metadata": {
    "kernelspec": {
      "display_name": "Python 3 (ipykernel)",
      "language": "python",
      "name": "python3"
    },
    "language_info": {
      "codemirror_mode": {
        "name": "ipython",
        "version": 3
      },
      "file_extension": ".py",
      "mimetype": "text/x-python",
      "name": "python",
      "nbconvert_exporter": "python",
      "pygments_lexer": "ipython3",
      "version": "3.8.10"
    },
    "colab": {
      "provenance": []
    }
  },
  "nbformat": 4,
  "nbformat_minor": 0
}